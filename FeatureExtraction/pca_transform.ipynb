{
 "cells": [
  {
   "cell_type": "code",
   "execution_count": 7,
   "id": "8f68e84f-00ba-4047-a514-c8f07eb209d2",
   "metadata": {},
   "outputs": [],
   "source": [
    "import pandas as pd\n",
    "import numpy as np\n",
    "from sklearn.decomposition import PCA\n",
    "import os\n",
    "import gc"
   ]
  },
  {
   "cell_type": "code",
   "execution_count": 17,
   "id": "4650a33a-2bdf-4435-9463-2aca4b7afef6",
   "metadata": {},
   "outputs": [],
   "source": [
    "path = '/proj/mcavoy_lab/Youtube8m/video/'\n",
    "path_pca = '/proj/mcavoy_lab/Youtube8m/video_pca/'\n",
    "os.makedirs(path_pca, exist_ok=True)"
   ]
  },
  {
   "cell_type": "markdown",
   "id": "c263ba62-caac-4c62-9dc2-b6b857884bf6",
   "metadata": {},
   "source": [
    "### Load Files to Train PCA"
   ]
  },
  {
   "cell_type": "code",
   "execution_count": 20,
   "id": "ba44cfce-ac37-4076-b779-039f8d7794a3",
   "metadata": {},
   "outputs": [
    {
     "name": "stdout",
     "output_type": "stream",
     "text": [
      "8025\n"
     ]
    }
   ],
   "source": [
    "files = os.listdir(path)\n",
    "total_files = len(files)\n",
    "files.sort()\n",
    "print(total_files)"
   ]
  },
  {
   "cell_type": "code",
   "execution_count": 22,
   "id": "ba49d17b-865a-4bac-ac26-de10a270e71f",
   "metadata": {},
   "outputs": [],
   "source": [
    "num_train = 1000\n",
    "train_files = files[:min(num_train, total_files)]"
   ]
  },
  {
   "cell_type": "code",
   "execution_count": 23,
   "id": "13d772ba-28bf-45e3-bc1c-15d3859ddce3",
   "metadata": {},
   "outputs": [],
   "source": [
    "all_videos = []\n",
    "for idx, file in enumerate(train_files):\n",
    "    all_videos.append(np.load(path+file))"
   ]
  },
  {
   "cell_type": "code",
   "execution_count": 24,
   "id": "ec0f8e95-4e29-439a-86f5-e69a7ec8ee35",
   "metadata": {},
   "outputs": [
    {
     "data": {
      "text/plain": [
       "121"
      ]
     },
     "execution_count": 24,
     "metadata": {},
     "output_type": "execute_result"
    }
   ],
   "source": [
    "stacked_frames = np.vstack([all_videos[x] for x in range(len(all_videos))])\n",
    "del all_videos\n",
    "gc.collect()"
   ]
  },
  {
   "cell_type": "code",
   "execution_count": null,
   "id": "47822eb4-91dc-43f6-ba5f-05197f42776c",
   "metadata": {},
   "outputs": [],
   "source": [
    "n_components = 1028\n",
    "pca = PCA(n_components=n_components, whiten=True)\n",
    "pca.fit(stacked_frames)"
   ]
  },
  {
   "cell_type": "code",
   "execution_count": null,
   "id": "32bf3d6a-8714-4aea-9f10-8d35b748baa6",
   "metadata": {},
   "outputs": [],
   "source": [
    "del stacked_frames\n",
    "gc.collect()"
   ]
  },
  {
   "cell_type": "markdown",
   "id": "0377b084-00fc-459e-8f21-6a888ec9a7fb",
   "metadata": {},
   "source": [
    "### Transform all features (train and test)"
   ]
  },
  {
   "cell_type": "code",
   "execution_count": null,
   "id": "04f7d048-f670-4c05-907f-53b33413d35a",
   "metadata": {},
   "outputs": [],
   "source": [
    "for file in files:\n",
    "    tmp = np.load(path+file)\n",
    "    \n",
    "    # save pca transformed feature vector\n",
    "    np.save(path_pca + file, pca.transform(tmp))    \n",
    "    break"
   ]
  },
  {
   "cell_type": "code",
   "execution_count": null,
   "id": "bb8bd78a-1bf2-492e-b02b-49cd58e6c96c",
   "metadata": {},
   "outputs": [],
   "source": []
  }
 ],
 "metadata": {
  "kernelspec": {
   "display_name": "tableshift",
   "language": "python",
   "name": "tableshift"
  },
  "language_info": {
   "codemirror_mode": {
    "name": "ipython",
    "version": 3
   },
   "file_extension": ".py",
   "mimetype": "text/x-python",
   "name": "python",
   "nbconvert_exporter": "python",
   "pygments_lexer": "ipython3",
   "version": "3.8.20"
  }
 },
 "nbformat": 4,
 "nbformat_minor": 5
}
