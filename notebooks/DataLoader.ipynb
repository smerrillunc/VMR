{
 "cells": [
  {
   "cell_type": "code",
   "execution_count": null,
   "metadata": {
    "colab": {
     "base_uri": "https://localhost:8080/"
    },
    "executionInfo": {
     "elapsed": 35324,
     "status": "ok",
     "timestamp": 1742154464331,
     "user": {
      "displayName": "Scott Merrill",
      "userId": "10959173247837144378"
     },
     "user_tz": 240
    },
    "id": "lk4k6UDlSRkA",
    "outputId": "c61e4e61-b0b7-4b69-e441-703dbf4e9ff5"
   },
   "outputs": [],
   "source": [
    "import numpy as np\n",
    "import pandas as pd\n",
    "import os\n",
    "\n",
    "import tensorflow as tf\n",
    "import numpy as np\n",
    "from IPython.display import YouTubeVideo\n",
    "\n",
    "import requests\n",
    "import json\n",
    "\n",
    "import re\n",
    "\n",
    "import torch\n",
    "import torch.nn as nn\n",
    "import torch.nn.functional as F\n",
    "import math\n",
    "\n",
    "from scipy.signal import peak_prominences\n",
    "from scipy.signal import find_peaks\n",
    "\n",
    "import matplotlib.pyplot as plt\n",
    "import torch.optim as optim\n",
    "from torch.utils.data import DataLoader, Dataset\n",
    "from torch.nn.utils.rnn import pad_sequence\n"
   ]
  },
  {
   "cell_type": "code",
   "execution_count": null,
   "metadata": {
    "executionInfo": {
     "elapsed": 1505,
     "status": "ok",
     "timestamp": 1742154465835,
     "user": {
      "displayName": "Scott Merrill",
      "userId": "10959173247837144378"
     },
     "user_tz": 240
    },
    "id": "zhRRGet_STyu"
   },
   "outputs": [],
   "source": [
    "path = r\"/Users/scottmerrill/Documents/UNC/MultiModal/VMR/Youtube8m\""
   ]
  },
  {
   "cell_type": "code",
   "execution_count": null,
   "metadata": {
    "executionInfo": {
     "elapsed": 1505,
     "status": "ok",
     "timestamp": 1742154465835,
     "user": {
      "displayName": "Scott Merrill",
      "userId": "10959173247837144378"
     },
     "user_tz": 240
    },
    "id": "zhRRGet_STyu"
   },
   "outputs": [],
   "source": [
    "filenames = os.listdir(path + '/video')\n",
    "file_name = filenames[0]"
   ]
  },
  {
   "cell_type": "markdown",
   "metadata": {
    "id": "M-4eqgn2SfZc"
   },
   "source": [
    "### DataLoader\n",
    "- data loader class will load batches of batchsize \n",
    "- will also precompute highest and lowest optical flow segment for each video so these don't need to be recomputed"
   ]
  },
  {
   "cell_type": "code",
   "execution_count": 4,
   "metadata": {
    "executionInfo": {
     "elapsed": 3,
     "status": "ok",
     "timestamp": 1742154473945,
     "user": {
      "displayName": "Scott Merrill",
      "userId": "10959173247837144378"
     },
     "user_tz": 240
    },
    "id": "Cij7rriD0uxx"
   },
   "outputs": [],
   "source": [
    "class OpticalFlowProcessor:\n",
    "    def __init__(self, method='video', window_size=20, max_segments=10, min_frames=10):\n",
    "        self.method = method\n",
    "        self.window_size = window_size\n",
    "        self.max_segments = max_segments\n",
    "        self.min_frames = min_frames\n",
    "\n",
    "    def get_best_worst_flow(self, rgb, audio):\n",
    "        flow = self._compute_flow(rgb, audio)\n",
    "        segments = self._optical_flow_segments(flow)\n",
    "        ranks = self._rank_averages(self._compute_segment_means(segments, flow))\n",
    "        return self._extract_best_worst_segments(segments, ranks)\n",
    "\n",
    "    def _compute_flow(self, rgb, audio):\n",
    "        if self.method == 'video':\n",
    "            return self._moving_average(self._calculate_optical_flow_euclidean(rgb))\n",
    "        elif self.method == 'audio':\n",
    "            return self._moving_average(self._calculate_optical_flow_euclidean(audio))\n",
    "        else:\n",
    "            raise ValueError(\"Method must be 'video' or 'audio'\")\n",
    "\n",
    "    @staticmethod\n",
    "    def _calculate_optical_flow_euclidean(embedding_seq):\n",
    "        return np.linalg.norm(embedding_seq[1:] - embedding_seq[:-1], axis=1)\n",
    "\n",
    "    @staticmethod\n",
    "    def _moving_average(arr, window_size=5):\n",
    "        return np.convolve(arr, np.ones(window_size) / window_size, mode='valid')\n",
    "\n",
    "    def _optical_flow_segments(self, optical_flow):\n",
    "        peaks, _ = find_peaks(optical_flow)\n",
    "        prominences = peak_prominences(optical_flow, peaks)[0]\n",
    "        peak_index = peaks[np.argsort(prominences)[-self.max_segments:]]\n",
    "        peak_index = self._merge_intervals(np.sort(peak_index))\n",
    "        return np.insert(np.append(peak_index, len(optical_flow)), 0, 0)\n",
    "\n",
    "    def _merge_intervals(self, arr):\n",
    "        merged = [arr[0]]\n",
    "        for i in range(1, len(arr)):\n",
    "            if arr[i] - merged[-1] >= self.min_frames:\n",
    "                merged.append(arr[i])\n",
    "        return np.array(merged)\n",
    "\n",
    "    @staticmethod\n",
    "    def _compute_segment_means(segments, values):\n",
    "        return [values[start:end].mean() if start < end else 0 for start, end in zip(segments[:-1], segments[1:])]\n",
    "\n",
    "    @staticmethod\n",
    "    def _rank_averages(averages):\n",
    "        sorted_indices = np.argsort(averages)[::-1]\n",
    "        ranks = np.zeros_like(sorted_indices) + 1\n",
    "        for rank, idx in enumerate(sorted_indices):\n",
    "            ranks[idx] = rank + 1\n",
    "        return ranks\n",
    "\n",
    "    def _extract_best_worst_segments(self, segments, ranks):\n",
    "        top_start, top_end = segments[np.where(ranks == 1)[0][0]], segments[np.where(ranks == 1)[0][0] + 1]\n",
    "        bottom_start, bottom_end = segments[np.where(ranks == max(ranks))[0][0]], segments[np.where(ranks == max(ranks))[0][0] + 1]\n",
    "        return (top_start, top_end), (bottom_start, bottom_end)"
   ]
  },
  {
   "cell_type": "code",
   "execution_count": 5,
   "metadata": {
    "executionInfo": {
     "elapsed": 3,
     "status": "ok",
     "timestamp": 1742154473945,
     "user": {
      "displayName": "Scott Merrill",
      "userId": "10959173247837144378"
     },
     "user_tz": 240
    },
    "id": "Cij7rriD0uxx"
   },
   "outputs": [],
   "source": [
    "class VideoAudioDataset(Dataset):\n",
    "    def __init__(self, path):\n",
    "        self.path = path\n",
    "        self.filenames = os.listdir(os.path.join(path, 'video'))\n",
    "    \n",
    "    def __len__(self):\n",
    "        return len(self.filenames)\n",
    "    \n",
    "    def __getitem__(self, idx):\n",
    "        filename = self.filenames[idx]\n",
    "        video_data = np.load(os.path.join(self.path, 'video', filename))\n",
    "        audio_data = np.load(os.path.join(self.path, 'audio', filename))\n",
    "        video_data = video_data[:, :1024]\n",
    "        return video_data, audio_data"
   ]
  },
  {
   "cell_type": "code",
   "execution_count": 6,
   "metadata": {
    "executionInfo": {
     "elapsed": 3,
     "status": "ok",
     "timestamp": 1742154473945,
     "user": {
      "displayName": "Scott Merrill",
      "userId": "10959173247837144378"
     },
     "user_tz": 240
    },
    "id": "Cij7rriD0uxx"
   },
   "outputs": [],
   "source": [
    "def collate_fn(batch, processor):\n",
    "    video_batch, audio_batch = zip(*batch)\n",
    "    video_batch = [torch.tensor(v, dtype=torch.float32) for v in video_batch]\n",
    "    audio_batch = [torch.tensor(a, dtype=torch.float32) for a in audio_batch]\n",
    "    flow_ranks = [processor.get_best_worst_flow(video_batch[i], audio_batch[i]) for i in range(len(video_batch))]\n",
    "    return video_batch, audio_batch, flow_ranks\n",
    "\n",
    "def get_dataloader(path, batch_size=32, shuffle=True, method='video', window_size=20):\n",
    "    dataset = VideoAudioDataset(path)\n",
    "    processor = OpticalFlowProcessor(method=method, window_size=window_size)\n",
    "    return DataLoader(dataset, batch_size=batch_size, shuffle=shuffle, collate_fn=lambda batch: collate_fn(batch, processor))\n"
   ]
  },
  {
   "cell_type": "code",
   "execution_count": 9,
   "metadata": {
    "executionInfo": {
     "elapsed": 3,
     "status": "ok",
     "timestamp": 1742154473945,
     "user": {
      "displayName": "Scott Merrill",
      "userId": "10959173247837144378"
     },
     "user_tz": 240
    },
    "id": "Cij7rriD0uxx"
   },
   "outputs": [
    {
     "name": "stdout",
     "output_type": "stream",
     "text": [
      "[tensor([[0.0708, 0.2848, 0.9329,  ..., 0.0251, 1.0495, 1.0415],\n",
      "        [0.0709, 0.2851, 0.9354,  ..., 0.0251, 1.0503, 1.0413],\n",
      "        [0.0709, 0.2852, 0.9370,  ..., 0.0251, 1.0503, 1.0408],\n",
      "        ...,\n",
      "        [0.1030, 0.0788, 0.5218,  ..., 0.1216, 0.1901, 0.4744],\n",
      "        [0.1121, 0.0774, 0.5024,  ..., 0.1099, 0.2072, 0.4266],\n",
      "        [0.1112, 0.0767, 0.5026,  ..., 0.1036, 0.2095, 0.4245]]), tensor([[1.2378, 0.1007, 0.1081,  ..., 0.0797, 2.4997, 0.0496],\n",
      "        [1.4817, 0.0463, 0.0477,  ..., 0.1112, 0.5615, 0.0599],\n",
      "        [0.8693, 0.2124, 0.2118,  ..., 0.0164, 1.3910, 0.1514],\n",
      "        ...,\n",
      "        [0.2726, 0.0000, 0.1176,  ..., 0.0000, 0.0000, 0.0060],\n",
      "        [0.2726, 0.0000, 0.1176,  ..., 0.0000, 0.0000, 0.0060],\n",
      "        [0.2726, 0.0000, 0.1176,  ..., 0.0000, 0.0000, 0.0060]])] [tensor([[0.0000, 0.0000, 0.0000,  ..., 0.0000, 0.2288, 0.1777],\n",
      "        [0.0000, 0.0000, 0.0000,  ..., 0.0000, 0.2288, 0.1777],\n",
      "        [0.0000, 0.0000, 0.0000,  ..., 0.0000, 0.2288, 0.1777],\n",
      "        ...,\n",
      "        [0.0000, 0.0000, 0.0000,  ..., 0.0000, 0.2288, 0.1777],\n",
      "        [0.0000, 0.0000, 0.0000,  ..., 0.0000, 0.2288, 0.1777],\n",
      "        [0.0000, 0.0000, 0.0000,  ..., 0.0000, 0.2288, 0.1777]]), tensor([[0.0000, 0.0000, 0.0000,  ..., 0.0000, 0.2290, 0.1764],\n",
      "        [0.0000, 0.0000, 0.7637,  ..., 0.0000, 0.0000, 0.0000],\n",
      "        [0.0000, 0.0000, 0.7104,  ..., 0.0000, 0.0000, 0.0000],\n",
      "        ...,\n",
      "        [0.0000, 0.0177, 0.2428,  ..., 0.0000, 0.0000, 0.0502],\n",
      "        [0.0000, 0.1371, 0.0832,  ..., 0.0000, 0.0939, 0.1363],\n",
      "        [0.0000, 0.0000, 0.0000,  ..., 0.0000, 0.2288, 0.1777]])]\n"
     ]
    }
   ],
   "source": [
    "dataloader = get_dataloader(path, batch_size=2, shuffle=True, method='video', window_size=20)\n",
    "for video_batch, audio_batch, flow_ranks in dataloader:\n",
    "    print(video_batch, audio_batch)\n",
    "    break"
   ]
  },
  {
   "cell_type": "code",
   "execution_count": null,
   "metadata": {
    "executionInfo": {
     "elapsed": 2,
     "status": "ok",
     "timestamp": 1741822765220,
     "user": {
      "displayName": "Scott Merrill",
      "userId": "10959173247837144378"
     },
     "user_tz": 240
    },
    "id": "WODYGSWttHuT"
   },
   "outputs": [],
   "source": []
  },
  {
   "cell_type": "code",
   "execution_count": null,
   "metadata": {},
   "outputs": [],
   "source": []
  }
 ],
 "metadata": {
  "accelerator": "GPU",
  "colab": {
   "authorship_tag": "ABX9TyNcQ9cC2XSToD+RIRsdkv3U",
   "gpuType": "T4",
   "provenance": [
    {
     "file_id": "1QMSNpOqQ5R7PzpuZkEQAT5A-Puk5eRyo",
     "timestamp": 1741820252215
    }
   ]
  },
  "kernelspec": {
   "display_name": "Python 3 (ipykernel)",
   "language": "python",
   "name": "python3"
  },
  "language_info": {
   "codemirror_mode": {
    "name": "ipython",
    "version": 3
   },
   "file_extension": ".py",
   "mimetype": "text/x-python",
   "name": "python",
   "nbconvert_exporter": "python",
   "pygments_lexer": "ipython3",
   "version": "3.11.0"
  }
 },
 "nbformat": 4,
 "nbformat_minor": 1
}
