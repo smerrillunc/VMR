{
 "cells": [
  {
   "cell_type": "code",
   "execution_count": 1,
   "id": "99d5d717",
   "metadata": {},
   "outputs": [],
   "source": [
    "import pandas as pd\n",
    "import numpy as np\n",
    "import os\n",
    "import ruptures as rpt\n",
    "\n",
    "import sys\n",
    "sys.path.append(os.path.abspath('../OFVMNET'))\n",
    "\n",
    "from OFProcessor import OpticalFlowProcessor\n",
    "from sklearn.model_selection import train_test_split"
   ]
  },
  {
   "cell_type": "markdown",
   "id": "9d390de8",
   "metadata": {},
   "source": [
    "## Create Train Test Split"
   ]
  },
  {
   "cell_type": "code",
   "execution_count": 7,
   "id": "b5e4bfbd",
   "metadata": {},
   "outputs": [],
   "source": [
    "path = r\"/Users/scottmerrill/Documents/UNC/MultiModal/VMR/Youtube8m\"\n",
    "filenames = os.listdir(path + '/video')"
   ]
  },
  {
   "cell_type": "code",
   "execution_count": 8,
   "id": "24e70f1f",
   "metadata": {},
   "outputs": [
    {
     "name": "stdout",
     "output_type": "stream",
     "text": [
      "\n",
      "\n",
      "\n",
      "\n",
      "\n",
      "\n",
      "\n",
      "\n",
      "\n",
      "\n",
      "\n",
      "\n",
      "\n",
      "\n",
      "\n",
      "\n",
      "\n",
      "\n"
     ]
    }
   ],
   "source": [
    "valid_files = []\n",
    "for file_name in filenames:\n",
    "    try:\n",
    "        video_data = np.load(os.path.join(path, 'video', file_name))\n",
    "\n",
    "        processor = OpticalFlowProcessor(method='video', segments=20, min_frames=5, window_size=20)\n",
    "        of_video = processor._compute_flow(video_data, _)\n",
    "        change_points = processor._optical_flow_segments(of_video,  max_seq_len=100)\n",
    "        differences = [change_points[i+1] - change_points[i] for i in range(len(change_points)-1)]\n",
    "\n",
    "        # if this is longer than our sequence length it's not a valid file for training\n",
    "        if max(differences) > 100:\n",
    "            continue\n",
    "        else:\n",
    "            valid_files.append(file_name)\n",
    "    except Exception as e:\n",
    "        # note this can fail for a number of reasons\n",
    "        # since we specify a minimum segments of 10 and at least 10 second clips, \n",
    "        print(e)"
   ]
  },
  {
   "cell_type": "code",
   "execution_count": 12,
   "id": "e1e40277",
   "metadata": {},
   "outputs": [],
   "source": [
    "files = pd.DataFrame(valid_files, columns=['filename'])"
   ]
  },
  {
   "cell_type": "code",
   "execution_count": 13,
   "id": "9ae1c906",
   "metadata": {},
   "outputs": [],
   "source": [
    "train_df, test_df = train_test_split(files, test_size=0.2, random_state=42)"
   ]
  },
  {
   "cell_type": "code",
   "execution_count": 14,
   "id": "1485a1ed",
   "metadata": {},
   "outputs": [],
   "source": [
    "train_df.to_csv(path+'/train.csv', index=False)\n",
    "test_df.to_csv(path+'/test.csv', index=False)"
   ]
  },
  {
   "cell_type": "code",
   "execution_count": null,
   "id": "ed868205",
   "metadata": {},
   "outputs": [],
   "source": []
  }
 ],
 "metadata": {
  "kernelspec": {
   "display_name": "Python 3 (ipykernel)",
   "language": "python",
   "name": "python3"
  },
  "language_info": {
   "codemirror_mode": {
    "name": "ipython",
    "version": 3
   },
   "file_extension": ".py",
   "mimetype": "text/x-python",
   "name": "python",
   "nbconvert_exporter": "python",
   "pygments_lexer": "ipython3",
   "version": "3.11.5"
  }
 },
 "nbformat": 4,
 "nbformat_minor": 5
}
