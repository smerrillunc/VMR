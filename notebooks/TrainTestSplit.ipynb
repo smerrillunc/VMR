{
 "cells": [
  {
   "cell_type": "code",
   "execution_count": 1,
   "id": "12c0223e-67ec-4378-8872-4a773b43b47e",
   "metadata": {},
   "outputs": [],
   "source": [
    "import pandas as pd\n",
    "import numpy as np\n",
    "from sklearn.model_selection import train_test_split\n",
    "import os\n",
    "from collections import defaultdict\n"
   ]
  },
  {
   "cell_type": "code",
   "execution_count": 2,
   "id": "6d0dc365-8f1e-4226-9f93-7b2012fd633e",
   "metadata": {},
   "outputs": [],
   "source": [
    "def filter_matching_files(video_list, audio_list):\n",
    "    # Map base ID to full file(s)\n",
    "    video_dict = defaultdict(list)\n",
    "    audio_dict = defaultdict(list)\n",
    "    \n",
    "    for f in video_list:\n",
    "        base, _ = os.path.splitext(f)\n",
    "        video_dict[base].append(f)\n",
    "\n",
    "    for f in audio_list:\n",
    "        base, _ = os.path.splitext(f)\n",
    "        audio_dict[base].append(f)\n",
    "\n",
    "    # Keep only IDs that exist in both lists\n",
    "    common_ids = set(video_dict) &  set(audio_dict)\n",
    "\n",
    "    # Choose just one file per ID from each (you can customize which one to prioritize)\n",
    "    filtered_videos = [video_dict[vid][0] for vid in common_ids]\n",
    "    filtered_audios = [audio_dict[vid][0] for vid in common_ids]\n",
    "\n",
    "    return filtered_videos, filtered_audios"
   ]
  },
  {
   "cell_type": "markdown",
   "id": "b7077b3b-46b9-44a8-8ab1-c382b0816045",
   "metadata": {},
   "source": [
    "# Youtube8m"
   ]
  },
  {
   "cell_type": "markdown",
   "id": "5137121e-3cf9-456c-b6b8-a9a3a92274f0",
   "metadata": {
    "tags": []
   },
   "source": [
    "### Resnet"
   ]
  },
  {
   "cell_type": "code",
   "execution_count": 3,
   "id": "ffb546ff-a071-4dad-8e71-3de7cc1a9833",
   "metadata": {},
   "outputs": [],
   "source": [
    "video_features = '/work/users/s/m/smerrill/Youtube8m/resnet/resnet101'\n",
    "audio_features = '/work/users/s/m/smerrill/Youtube8m/vggish'\n",
    "\n",
    "video_files = os.listdir(video_features)\n",
    "audio_files = os.listdir(audio_features)\n",
    "filtered_videos, filtered_audios = filter_matching_files(video_files, audio_files)\n",
    "X_train, X_test, y_train, y_test = train_test_split(filtered_videos, filtered_audios, test_size=0.1, random_state=1)"
   ]
  },
  {
   "cell_type": "code",
   "execution_count": 4,
   "id": "e518f946-55da-404b-ba00-1279a850c976",
   "metadata": {},
   "outputs": [],
   "source": [
    "train_path = '/work/users/s/m/smerrill/Youtube8m/train_resnet.csv'\n",
    "\n",
    "# Writing to the .txt file\n",
    "with open(train_path, 'w') as file:\n",
    "    for item in X_train:\n",
    "        file.write(f\"{item}\\n\")\n",
    "\n",
    "        \n",
    "test_path = '/work/users/s/m/smerrill/Youtube8m/test_resnet.csv'\n",
    "\n",
    "# Writing to the .txt file\n",
    "with open(test_path, 'w') as file:\n",
    "    for item in X_test:\n",
    "        file.write(f\"{item}\\n\")"
   ]
  },
  {
   "cell_type": "markdown",
   "id": "5248dcd9-af74-40d8-9f16-4cbd4641b148",
   "metadata": {},
   "source": [
    "## Clip"
   ]
  },
  {
   "cell_type": "code",
   "execution_count": 17,
   "id": "3271f69b-48fb-4cf7-b0a2-8a0ade310aa7",
   "metadata": {},
   "outputs": [],
   "source": [
    "video_features = '/work/users/s/m/smerrill/Youtube8m/clip/ViT-B_32'\n",
    "audio_features = '/work/users/s/m/smerrill/Youtube8m/vggish'\n",
    "\n",
    "video_files = os.listdir(video_features)\n",
    "audio_files = os.listdir(audio_features)\n",
    "filtered_videos, filtered_audios = filter_matching_files(video_files, audio_files)\n",
    "X_train, X_test, y_train, y_test = train_test_split(filtered_videos, filtered_audios, test_size=0.1, random_state=1)"
   ]
  },
  {
   "cell_type": "code",
   "execution_count": 18,
   "id": "c047d43a-c113-498d-bc97-520b6736f4d3",
   "metadata": {},
   "outputs": [],
   "source": [
    "train_path = '/work/users/s/m/smerrill/Youtube8m/train_clip.csv'\n",
    "\n",
    "# Writing to the .txt file\n",
    "with open(train_path, 'w') as file:\n",
    "    for item in X_train:\n",
    "        file.write(f\"{item}\\n\")\n",
    "\n",
    "        \n",
    "test_path = '/work/users/s/m/smerrill/Youtube8m/test_clip.csv'\n",
    "\n",
    "# Writing to the .txt file\n",
    "with open(test_path, 'w') as file:\n",
    "    for item in X_test:\n",
    "        file.write(f\"{item}\\n\")"
   ]
  },
  {
   "cell_type": "markdown",
   "id": "cef28929-78a4-4d06-a709-b2d7699c0d8a",
   "metadata": {},
   "source": [
    "### i3d"
   ]
  },
  {
   "cell_type": "code",
   "execution_count": 6,
   "id": "2e5ab30b-8855-46a8-9892-358f0c15d14f",
   "metadata": {},
   "outputs": [],
   "source": [
    "video_features = '/work/users/s/m/smerrill/Youtube8m/i3d'\n",
    "audio_features = '/work/users/s/m/smerrill/Youtube8m/vggish'\n",
    "\n",
    "video_files = os.listdir(video_features)\n",
    "audio_files = os.listdir(audio_features)\n",
    "filtered_videos, filtered_audios = filter_matching_files(video_files, audio_files)\n",
    "X_train, X_test, y_train, y_test = train_test_split(filtered_videos, filtered_audios, test_size=0.1, random_state=1)"
   ]
  },
  {
   "cell_type": "code",
   "execution_count": 8,
   "id": "f2999356-d24b-4bc8-b2ec-2b048f48dee0",
   "metadata": {},
   "outputs": [
    {
     "data": {
      "text/plain": [
       "14250"
      ]
     },
     "execution_count": 8,
     "metadata": {},
     "output_type": "execute_result"
    }
   ],
   "source": [
    "len(X_train)"
   ]
  },
  {
   "cell_type": "code",
   "execution_count": 9,
   "id": "431b9def-7e80-401a-803f-3cec2f8b15b8",
   "metadata": {},
   "outputs": [],
   "source": [
    "train_path = '/work/users/s/m/smerrill/Youtube8m/train_i3d.csv'\n",
    "\n",
    "# Writing to the .txt file\n",
    "with open(train_path, 'w') as file:\n",
    "    for item in X_train:\n",
    "        file.write(f\"{item}\\n\")\n",
    "\n",
    "        \n",
    "test_path = '/work/users/s/m/smerrill/Youtube8m/test_i3d.csv'\n",
    "\n",
    "# Writing to the .txt file\n",
    "with open(test_path, 'w') as file:\n",
    "    for item in X_test:\n",
    "        file.write(f\"{item}\\n\")"
   ]
  },
  {
   "cell_type": "markdown",
   "id": "be76b732-fcbb-4af2-9219-882f37fd1c42",
   "metadata": {
    "tags": []
   },
   "source": [
    "# SymMV"
   ]
  },
  {
   "cell_type": "markdown",
   "id": "144d1b70-0eaa-4cdc-ab58-f6060ca1b7c1",
   "metadata": {
    "tags": []
   },
   "source": [
    "### Resnet"
   ]
  },
  {
   "cell_type": "code",
   "execution_count": 15,
   "id": "be9217c1-6efb-452d-a533-7d6e097b32fb",
   "metadata": {},
   "outputs": [],
   "source": [
    "video_features = '/work/users/s/m/smerrill/SymMV/resnet/resnet101'\n",
    "audio_features = '/work/users/s/m/smerrill/SymMV/vggish'\n",
    "\n",
    "video_files = os.listdir(video_features)\n",
    "audio_files = os.listdir(audio_features)\n",
    "filtered_videos, filtered_audios = filter_matching_files(video_files, audio_files)"
   ]
  },
  {
   "cell_type": "code",
   "execution_count": 18,
   "id": "1de80f2a-d979-4db9-b8e7-c7597535e373",
   "metadata": {},
   "outputs": [],
   "source": [
    "test_path = '/work/users/s/m/smerrill/SymMV/test_resnet.csv'\n",
    "\n",
    "# Writing to the .txt file\n",
    "with open(test_path, 'w') as file:\n",
    "    for item in filtered_videos:\n",
    "        file.write(f\"{item}\\n\")"
   ]
  },
  {
   "cell_type": "markdown",
   "id": "d7c02b2f-1af0-4613-a0c1-c6c67048ce6c",
   "metadata": {},
   "source": [
    "## Clip"
   ]
  },
  {
   "cell_type": "code",
   "execution_count": 20,
   "id": "016273be-1fed-46fd-9189-d7ea2f1f5cd1",
   "metadata": {},
   "outputs": [],
   "source": [
    "video_features = '/work/users/s/m/smerrill/SymMV/clip/ViT-B_32'\n",
    "audio_features = '/work/users/s/m/smerrill/SymMV/vggish'\n",
    "\n",
    "video_files = os.listdir(video_features)\n",
    "audio_files = os.listdir(audio_features)\n",
    "filtered_videos, filtered_audios = filter_matching_files(video_files, audio_files)"
   ]
  },
  {
   "cell_type": "code",
   "execution_count": 21,
   "id": "5384d006-8299-471e-9bb9-9301dc5e1ad0",
   "metadata": {},
   "outputs": [],
   "source": [
    "test_path = '/work/users/s/m/smerrill/SymMV/test_clip.csv'\n",
    "\n",
    "# Writing to the .txt file\n",
    "with open(test_path, 'w') as file:\n",
    "    for item in filtered_videos:\n",
    "        file.write(f\"{item}\\n\")"
   ]
  },
  {
   "cell_type": "markdown",
   "id": "b7d2fb97-9b89-47b1-b1b4-62b50d1886d2",
   "metadata": {},
   "source": [
    "### i3d"
   ]
  },
  {
   "cell_type": "code",
   "execution_count": 22,
   "id": "61115a88-2289-419f-9358-2bb91d0e315f",
   "metadata": {},
   "outputs": [],
   "source": [
    "video_features = '/work/users/s/m/smerrill/SymMV/i3d'\n",
    "audio_features = '/work/users/s/m/smerrill/SymMV/vggish'\n",
    "\n",
    "video_files = os.listdir(video_features)\n",
    "audio_files = os.listdir(audio_features)\n",
    "filtered_videos, filtered_audios = filter_matching_files(video_files, audio_files)"
   ]
  },
  {
   "cell_type": "code",
   "execution_count": 23,
   "id": "36527921-a502-44e4-8e03-c30be7fde29a",
   "metadata": {},
   "outputs": [],
   "source": [
    "test_path = '/work/users/s/m/smerrill/SymMV/test_i3d.csv'\n",
    "\n",
    "# Writing to the .txt file\n",
    "with open(test_path, 'w') as file:\n",
    "    for item in filtered_videos:\n",
    "        file.write(f\"{item}\\n\")"
   ]
  },
  {
   "cell_type": "code",
   "execution_count": 24,
   "id": "bd228c1e-2f33-47ba-954d-f71ac9330a6c",
   "metadata": {},
   "outputs": [
    {
     "data": {
      "text/html": [
       "<div>\n",
       "<style scoped>\n",
       "    .dataframe tbody tr th:only-of-type {\n",
       "        vertical-align: middle;\n",
       "    }\n",
       "\n",
       "    .dataframe tbody tr th {\n",
       "        vertical-align: top;\n",
       "    }\n",
       "\n",
       "    .dataframe thead th {\n",
       "        text-align: right;\n",
       "    }\n",
       "</style>\n",
       "<table border=\"1\" class=\"dataframe\">\n",
       "  <thead>\n",
       "    <tr style=\"text-align: right;\">\n",
       "      <th></th>\n",
       "      <th>Unnamed: 0</th>\n",
       "      <th>vid</th>\n",
       "      <th>ranks</th>\n",
       "      <th>segments</th>\n",
       "      <th>top_start</th>\n",
       "      <th>top_end</th>\n",
       "      <th>bottom_start</th>\n",
       "      <th>bottom_end</th>\n",
       "    </tr>\n",
       "  </thead>\n",
       "  <tbody>\n",
       "    <tr>\n",
       "      <th>0</th>\n",
       "      <td>0</td>\n",
       "      <td>-BjZmE2gtdo</td>\n",
       "      <td>[2 5 6 8 3 7 1 4]</td>\n",
       "      <td>[0, 20, 33, 88, 100, 131, 191, 203, 238]</td>\n",
       "      <td>191.0</td>\n",
       "      <td>203.0</td>\n",
       "      <td>88.0</td>\n",
       "      <td>100.0</td>\n",
       "    </tr>\n",
       "    <tr>\n",
       "      <th>1</th>\n",
       "      <td>0</td>\n",
       "      <td>-E-_IRJU5w0</td>\n",
       "      <td>[4 8 6 1 3 2 5 7]</td>\n",
       "      <td>[0, 10, 26, 44, 54, 70, 96, 201, 213]</td>\n",
       "      <td>44.0</td>\n",
       "      <td>54.0</td>\n",
       "      <td>10.0</td>\n",
       "      <td>26.0</td>\n",
       "    </tr>\n",
       "    <tr>\n",
       "      <th>2</th>\n",
       "      <td>0</td>\n",
       "      <td>-FyjEnoIgTM</td>\n",
       "      <td>[3 6 2 7 5 1 4 8]</td>\n",
       "      <td>[0, 20, 79, 90, 108, 236, 311, 327, 337]</td>\n",
       "      <td>236.0</td>\n",
       "      <td>311.0</td>\n",
       "      <td>327.0</td>\n",
       "      <td>337.0</td>\n",
       "    </tr>\n",
       "    <tr>\n",
       "      <th>3</th>\n",
       "      <td>0</td>\n",
       "      <td>-KBh3fm6gFo</td>\n",
       "      <td>[3 5 7 1 8 2 6 4]</td>\n",
       "      <td>[0, 37, 84, 94, 104, 119, 143, 164, 188]</td>\n",
       "      <td>94.0</td>\n",
       "      <td>104.0</td>\n",
       "      <td>104.0</td>\n",
       "      <td>119.0</td>\n",
       "    </tr>\n",
       "    <tr>\n",
       "      <th>4</th>\n",
       "      <td>0</td>\n",
       "      <td>-KPnyf8vwXI</td>\n",
       "      <td>[8 1 7 2 6 3 4 5]</td>\n",
       "      <td>[0, 40, 70, 104, 137, 168, 191, 215, 232]</td>\n",
       "      <td>40.0</td>\n",
       "      <td>70.0</td>\n",
       "      <td>0.0</td>\n",
       "      <td>40.0</td>\n",
       "    </tr>\n",
       "    <tr>\n",
       "      <th>...</th>\n",
       "      <td>...</td>\n",
       "      <td>...</td>\n",
       "      <td>...</td>\n",
       "      <td>...</td>\n",
       "      <td>...</td>\n",
       "      <td>...</td>\n",
       "      <td>...</td>\n",
       "      <td>...</td>\n",
       "    </tr>\n",
       "    <tr>\n",
       "      <th>830</th>\n",
       "      <td>0</td>\n",
       "      <td>zfHbuTG8IHE</td>\n",
       "      <td>[7 3 6 2 4 1 5 8]</td>\n",
       "      <td>[0, 14, 78, 103, 224, 239, 252, 265, 275]</td>\n",
       "      <td>239.0</td>\n",
       "      <td>252.0</td>\n",
       "      <td>265.0</td>\n",
       "      <td>275.0</td>\n",
       "    </tr>\n",
       "    <tr>\n",
       "      <th>831</th>\n",
       "      <td>0</td>\n",
       "      <td>zlJDTxahav0</td>\n",
       "      <td>[5 1 8 3 4 7 2 6]</td>\n",
       "      <td>[0, 20, 31, 64, 98, 143, 161, 181, 207]</td>\n",
       "      <td>20.0</td>\n",
       "      <td>31.0</td>\n",
       "      <td>31.0</td>\n",
       "      <td>64.0</td>\n",
       "    </tr>\n",
       "    <tr>\n",
       "      <th>832</th>\n",
       "      <td>0</td>\n",
       "      <td>zs7u0qG9pNI</td>\n",
       "      <td>[7 3 4 1 6 2 5 8]</td>\n",
       "      <td>[0, 10, 66, 86, 119, 135, 208, 235, 249]</td>\n",
       "      <td>86.0</td>\n",
       "      <td>119.0</td>\n",
       "      <td>235.0</td>\n",
       "      <td>249.0</td>\n",
       "    </tr>\n",
       "    <tr>\n",
       "      <th>833</th>\n",
       "      <td>0</td>\n",
       "      <td>ztPC9mVk7hg</td>\n",
       "      <td>[4 8 5 2 3 6 1 7]</td>\n",
       "      <td>[0, 26, 40, 57, 84, 173, 192, 231, 241]</td>\n",
       "      <td>192.0</td>\n",
       "      <td>231.0</td>\n",
       "      <td>26.0</td>\n",
       "      <td>40.0</td>\n",
       "    </tr>\n",
       "    <tr>\n",
       "      <th>834</th>\n",
       "      <td>0</td>\n",
       "      <td>zvCBSSwgtg4</td>\n",
       "      <td>[4 8 1 6 3 7 2 5]</td>\n",
       "      <td>[0, 23, 36, 46, 56, 80, 107, 151, 161]</td>\n",
       "      <td>36.0</td>\n",
       "      <td>46.0</td>\n",
       "      <td>23.0</td>\n",
       "      <td>36.0</td>\n",
       "    </tr>\n",
       "  </tbody>\n",
       "</table>\n",
       "<p>835 rows × 8 columns</p>\n",
       "</div>"
      ],
      "text/plain": [
       "     Unnamed: 0          vid              ranks  \\\n",
       "0             0  -BjZmE2gtdo  [2 5 6 8 3 7 1 4]   \n",
       "1             0  -E-_IRJU5w0  [4 8 6 1 3 2 5 7]   \n",
       "2             0  -FyjEnoIgTM  [3 6 2 7 5 1 4 8]   \n",
       "3             0  -KBh3fm6gFo  [3 5 7 1 8 2 6 4]   \n",
       "4             0  -KPnyf8vwXI  [8 1 7 2 6 3 4 5]   \n",
       "..          ...          ...                ...   \n",
       "830           0  zfHbuTG8IHE  [7 3 6 2 4 1 5 8]   \n",
       "831           0  zlJDTxahav0  [5 1 8 3 4 7 2 6]   \n",
       "832           0  zs7u0qG9pNI  [7 3 4 1 6 2 5 8]   \n",
       "833           0  ztPC9mVk7hg  [4 8 5 2 3 6 1 7]   \n",
       "834           0  zvCBSSwgtg4  [4 8 1 6 3 7 2 5]   \n",
       "\n",
       "                                      segments  top_start  top_end  \\\n",
       "0     [0, 20, 33, 88, 100, 131, 191, 203, 238]      191.0    203.0   \n",
       "1        [0, 10, 26, 44, 54, 70, 96, 201, 213]       44.0     54.0   \n",
       "2     [0, 20, 79, 90, 108, 236, 311, 327, 337]      236.0    311.0   \n",
       "3     [0, 37, 84, 94, 104, 119, 143, 164, 188]       94.0    104.0   \n",
       "4    [0, 40, 70, 104, 137, 168, 191, 215, 232]       40.0     70.0   \n",
       "..                                         ...        ...      ...   \n",
       "830  [0, 14, 78, 103, 224, 239, 252, 265, 275]      239.0    252.0   \n",
       "831    [0, 20, 31, 64, 98, 143, 161, 181, 207]       20.0     31.0   \n",
       "832   [0, 10, 66, 86, 119, 135, 208, 235, 249]       86.0    119.0   \n",
       "833    [0, 26, 40, 57, 84, 173, 192, 231, 241]      192.0    231.0   \n",
       "834     [0, 23, 36, 46, 56, 80, 107, 151, 161]       36.0     46.0   \n",
       "\n",
       "     bottom_start  bottom_end  \n",
       "0            88.0       100.0  \n",
       "1            10.0        26.0  \n",
       "2           327.0       337.0  \n",
       "3           104.0       119.0  \n",
       "4             0.0        40.0  \n",
       "..            ...         ...  \n",
       "830         265.0       275.0  \n",
       "831          31.0        64.0  \n",
       "832         235.0       249.0  \n",
       "833          26.0        40.0  \n",
       "834          23.0        36.0  \n",
       "\n",
       "[835 rows x 8 columns]"
      ]
     },
     "execution_count": 24,
     "metadata": {},
     "output_type": "execute_result"
    }
   ],
   "source": [
    "pd.read_csv('/work/users/s/m/smerrill/SymMV/flow/ranks.csv')"
   ]
  },
  {
   "cell_type": "code",
   "execution_count": null,
   "id": "8e022e8b-72c0-4cc6-b1dd-173f64b11f3e",
   "metadata": {},
   "outputs": [],
   "source": []
  }
 ],
 "metadata": {
  "kernelspec": {
   "display_name": "video_features",
   "language": "python",
   "name": "video_features"
  },
  "language_info": {
   "codemirror_mode": {
    "name": "ipython",
    "version": 3
   },
   "file_extension": ".py",
   "mimetype": "text/x-python",
   "name": "python",
   "nbconvert_exporter": "python",
   "pygments_lexer": "ipython3",
   "version": "3.13.2"
  }
 },
 "nbformat": 4,
 "nbformat_minor": 5
}
