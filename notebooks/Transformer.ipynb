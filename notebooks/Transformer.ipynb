{
 "cells": [
  {
   "cell_type": "code",
   "execution_count": 1,
   "metadata": {
    "colab": {
     "base_uri": "https://localhost:8080/"
    },
    "executionInfo": {
     "elapsed": 35324,
     "status": "ok",
     "timestamp": 1742154464331,
     "user": {
      "displayName": "Scott Merrill",
      "userId": "10959173247837144378"
     },
     "user_tz": 240
    },
    "id": "lk4k6UDlSRkA",
    "outputId": "c61e4e61-b0b7-4b69-e441-703dbf4e9ff5"
   },
   "outputs": [],
   "source": [
    "import numpy as np\n",
    "import pandas as pd\n",
    "import os\n",
    "\n",
    "import tensorflow as tf\n",
    "import numpy as np\n",
    "from IPython.display import YouTubeVideo\n",
    "\n",
    "import requests\n",
    "import json\n",
    "\n",
    "import re\n",
    "\n",
    "import torch\n",
    "import torch.nn as nn\n",
    "import torch.nn.functional as F\n",
    "import math\n",
    "\n",
    "from scipy.signal import peak_prominences\n",
    "from scipy.signal import find_peaks\n",
    "\n",
    "import matplotlib.pyplot as plt\n",
    "import torch.optim as optim"
   ]
  },
  {
   "cell_type": "code",
   "execution_count": 2,
   "metadata": {
    "executionInfo": {
     "elapsed": 1505,
     "status": "ok",
     "timestamp": 1742154465835,
     "user": {
      "displayName": "Scott Merrill",
      "userId": "10959173247837144378"
     },
     "user_tz": 240
    },
    "id": "zhRRGet_STyu"
   },
   "outputs": [],
   "source": [
    "path = r\"/Users/scottmerrill/Documents/UNC/MultiModal/VMR/Youtube8m\""
   ]
  },
  {
   "cell_type": "code",
   "execution_count": 3,
   "metadata": {
    "executionInfo": {
     "elapsed": 1505,
     "status": "ok",
     "timestamp": 1742154465835,
     "user": {
      "displayName": "Scott Merrill",
      "userId": "10959173247837144378"
     },
     "user_tz": 240
    },
    "id": "zhRRGet_STyu"
   },
   "outputs": [],
   "source": [
    "filenames = os.listdir(path + '/video')\n",
    "file_name = filenames[0]"
   ]
  },
  {
   "cell_type": "markdown",
   "metadata": {
    "id": "M-4eqgn2SfZc"
   },
   "source": [
    "### Read the frame-level data"
   ]
  },
  {
   "cell_type": "code",
   "execution_count": 4,
   "metadata": {
    "executionInfo": {
     "elapsed": 3,
     "status": "ok",
     "timestamp": 1742154473945,
     "user": {
      "displayName": "Scott Merrill",
      "userId": "10959173247837144378"
     },
     "user_tz": 240
    },
    "id": "Cij7rriD0uxx"
   },
   "outputs": [],
   "source": [
    "def sample_dataset(filename):\n",
    "    video_data = np.load(path + f'/video/{filename}')\n",
    "    audio_data = np.load(path + f'/audio/{filename}')\n",
    "    video_data = video_data[:,:1024] # we still need to do pca whitening so leaving this for now\n",
    "    return torch.tensor(video_data), torch.tensor(audio_data)"
   ]
  },
  {
   "cell_type": "markdown",
   "metadata": {
    "id": "VZeTyVCzTO_K"
   },
   "source": [
    "### Transformer_class\n"
   ]
  },
  {
   "cell_type": "code",
   "execution_count": 5,
   "metadata": {
    "executionInfo": {
     "elapsed": 16,
     "status": "ok",
     "timestamp": 1742154477065,
     "user": {
      "displayName": "Scott Merrill",
      "userId": "10959173247837144378"
     },
     "user_tz": 240
    },
    "id": "sp24XGTsSvwO"
   },
   "outputs": [],
   "source": [
    "class Transformer(nn.Module):\n",
    "    def __init__(self, input_dim=1024, embed_dim=512, num_heads=8, num_layers=2, max_seq_len=50):\n",
    "        super().__init__()\n",
    "        self.input_proj = nn.Linear(input_dim, embed_dim)  # Project input to embedding dim\n",
    "        self.pos_encoder = self._generate_sinusoidal_positional_encoding(max_seq_len, embed_dim)\n",
    "        self.transformer = nn.TransformerEncoder(nn.TransformerEncoderLayer(d_model=embed_dim, nhead=num_heads), num_layers=num_layers)\n",
    "        self.output_proj = nn.Linear(embed_dim, embed_dim)  # Project to final embedding\n",
    "\n",
    "    def _generate_sinusoidal_positional_encoding(self, max_len, embed_dim):\n",
    "        position = torch.arange(max_len).unsqueeze(1)\n",
    "        div_term = torch.exp(torch.arange(0, embed_dim, 2) * -(math.log(10000.0) / embed_dim))\n",
    "        pe = torch.zeros(max_len, embed_dim)\n",
    "        pe[:, 0::2] = torch.sin(position * div_term)\n",
    "        pe[:, 1::2] = torch.cos(position * div_term)\n",
    "        return pe.unsqueeze(0)  # Shape: (1, max_len, embed_dim)\n",
    "\n",
    "    def forward(self, x, mask):\n",
    "        x = self.input_proj(x)  # Shape: (seq_len, embed_dim)\n",
    "        seq_len = x.size(0)\n",
    "        x = x + self.pos_encoder[:, :seq_len, :].squeeze(0).to(x.device)\n",
    "        x = self.transformer(x.unsqueeze(1), src_key_padding_mask=mask).squeeze(1)\n",
    "        x = x.mean(dim=0)  # Aggregate sequence to fixed-size embedding\n",
    "        return self.output_proj(x)"
   ]
  },
  {
   "cell_type": "markdown",
   "metadata": {
    "id": "ap2bZNjDns9s"
   },
   "source": [
    "### Load Video"
   ]
  },
  {
   "cell_type": "code",
   "execution_count": 6,
   "metadata": {
    "executionInfo": {
     "elapsed": 31,
     "status": "ok",
     "timestamp": 1742154492542,
     "user": {
      "displayName": "Scott Merrill",
      "userId": "10959173247837144378"
     },
     "user_tz": 240
    },
    "id": "JZmJrX_9TUBU"
   },
   "outputs": [],
   "source": [
    "video_features, audio_features = sample_dataset(file_name)"
   ]
  },
  {
   "cell_type": "markdown",
   "metadata": {
    "id": "2tOdp9jVnbMs"
   },
   "source": [
    "### Create Segments"
   ]
  },
  {
   "cell_type": "markdown",
   "metadata": {
    "id": "XBZlLkeJdrmH"
   },
   "source": [
    "### 1. Random"
   ]
  },
  {
   "cell_type": "code",
   "execution_count": 7,
   "metadata": {
    "executionInfo": {
     "elapsed": 24,
     "status": "ok",
     "timestamp": 1742154495310,
     "user": {
      "displayName": "Scott Merrill",
      "userId": "10959173247837144378"
     },
     "user_tz": 240
    },
    "id": "-Zf0Rld789La"
   },
   "outputs": [],
   "source": [
    "def get_segments(video_features, total_segments=9):\n",
    "    segments = np.arange(0, video_features.shape[0], video_features.shape[0]//total_segments)\n",
    "    segments = np.random.randint(0, video_features.shape[0], 10)\n",
    "    segments = np.sort(segments)\n",
    "    return segments"
   ]
  },
  {
   "cell_type": "markdown",
   "metadata": {
    "id": "5E5xX1Twdtbj"
   },
   "source": [
    "### 2. Optical Flow Based"
   ]
  },
  {
   "cell_type": "code",
   "execution_count": 8,
   "metadata": {
    "executionInfo": {
     "elapsed": 35,
     "status": "ok",
     "timestamp": 1742154496724,
     "user": {
      "displayName": "Scott Merrill",
      "userId": "10959173247837144378"
     },
     "user_tz": 240
    },
    "id": "fzxVjZDx-f_Q"
   },
   "outputs": [],
   "source": [
    "# Function to calculate the optical flow using Euclidean distance between successive frames\n",
    "def calculate_optical_flow_euclidean(embedding_seq):\n",
    "    # Calculate the Euclidean distance between successive frames\n",
    "    return np.linalg.norm(embedding_seq[1:] - embedding_seq[:-1], axis=1)\n",
    "\n",
    "\n",
    "# Function to find local maxima and minima, ensuring that they are at least `min_dist` frames apart\n",
    "def find_local_maxima_minima(flow, num_peaks=10, min_dist=10):\n",
    "    # Find local maxima (peaks) and minima (valleys) in the optical flow\n",
    "    maxima, _ = find_peaks(flow)\n",
    "    minima, _ = find_peaks(-flow)  # Minima are the negative peaks\n",
    "\n",
    "    # Combine maxima and minima\n",
    "    all_peaks = np.concatenate((maxima, minima))\n",
    "\n",
    "    # Sort all detected peaks\n",
    "    all_peaks_sorted = np.sort(all_peaks)\n",
    "\n",
    "    # Ensure that peaks are at least `min_dist` apart\n",
    "    valid_peaks = [all_peaks_sorted[0]]  # Start with the first peak\n",
    "    for i in range(1, len(all_peaks_sorted)):\n",
    "        if all_peaks_sorted[i] - valid_peaks[-1] >= min_dist:\n",
    "            valid_peaks.append(all_peaks_sorted[i])\n",
    "\n",
    "    # Ensure we return no more than `num_peaks` peaks\n",
    "    if len(valid_peaks) > num_peaks:\n",
    "        valid_peaks = valid_peaks[:num_peaks]\n",
    "\n",
    "    return np.array(valid_peaks)\n",
    "\n",
    "# Function to create segments based on detected peaks\n",
    "def create_segments_from_peaks(flow, num_segments=10, min_dist=10):\n",
    "    # Find local maxima/minima to be used as segment boundaries\n",
    "    peak_indices = find_local_maxima_minima(flow, num_peaks=num_segments, min_dist=min_dist)\n",
    "\n",
    "    # Ensure that we always include the start (0) and end (len(flow)) of the video\n",
    "    segment_boundaries = np.concatenate(([0], peak_indices, [len(flow)]))\n",
    "\n",
    "    return segment_boundaries\n",
    "\n",
    "\n",
    "# Function to compute a moving average of the flow\n",
    "def moving_average(arr, window_size=5):\n",
    "    \"\"\"\n",
    "    Compute the moving average of the given array using a window of size `window_size`.\n",
    "    \"\"\"\n",
    "    return np.convolve(arr, np.ones(window_size) / window_size, mode='valid')\n",
    "\n",
    "def merge_intervals(arr, minsize):\n",
    "    # Ensure the array is sorted (if it is not already)\n",
    "    arr = np.sort(arr)\n",
    "\n",
    "    merged = [arr[0]]  # Start with the first element\n",
    "\n",
    "    for i in range(1, len(arr)):\n",
    "        # If the difference between consecutive elements is less than minsize, merge them\n",
    "        if arr[i] - merged[-1] < minsize:\n",
    "            continue  # Skip adding the current element (effectively merging)\n",
    "        else:\n",
    "            merged.append(arr[i])  # Otherwise, add the element to the merged list\n",
    "\n",
    "    return np.array(merged)\n",
    "\n",
    "\n",
    "def rank_averages(averages):\n",
    "    # Get the indices that would sort the averages array in descending order\n",
    "    sorted_indices = np.argsort(averages)[::-1]\n",
    "\n",
    "    # Create an array to hold the ranks\n",
    "    ranks = np.zeros_like(sorted_indices) + 1  # Initialize all ranks to 1\n",
    "\n",
    "    # Assign ranks based on sorted order\n",
    "    for rank, idx in enumerate(sorted_indices):\n",
    "        ranks[idx] = rank + 1  # Assign the rank, +1 because ranking starts at 1\n",
    "\n",
    "    return ranks\n",
    "\n",
    "import numpy as np\n",
    "\n",
    "def compute_segment_means(segments, other_array):\n",
    "    \"\"\"\n",
    "    Computes the mean of `other_array` values for each segment defined by `segments`.\n",
    "    If a segment extends beyond the bounds of `other_array`, the mean will be 0 for that segment.\n",
    "\n",
    "    Parameters:\n",
    "    - segments (np.array): Array of segment boundaries (must be in increasing order).\n",
    "    - other_array (np.array): Array of values to calculate the mean over.\n",
    "\n",
    "    Returns:\n",
    "    - List of means for each segment.\n",
    "    \"\"\"\n",
    "    # Length of the other_array\n",
    "    array_length = len(other_array)\n",
    "\n",
    "    averages = []\n",
    "\n",
    "    # Process the middle segments\n",
    "    for i in range(1, len(segments)):\n",
    "        start_idx = segments[i-1]\n",
    "        end_idx = segments[i]\n",
    "\n",
    "        # Adjust the end index if it's out of bounds\n",
    "        if end_idx > array_length:\n",
    "            end_idx = array_length\n",
    "\n",
    "        # If the range is valid (start < end), compute the mean; else, return 0\n",
    "        if start_idx < end_idx:\n",
    "            segment_mean = other_array[start_idx:end_idx].mean()\n",
    "        else:\n",
    "            segment_mean = 0\n",
    "\n",
    "        averages.append(segment_mean)\n",
    "\n",
    "    return averages\n",
    "\n",
    "def optical_flow_segments(optical_flow, max_segments=10, min_frames=10):\n",
    "    # calculate peaks and prominences\n",
    "    peaks, _ = find_peaks(optical_flow)\n",
    "    prominences = peak_prominences(optical_flow, peaks)[0]\n",
    "    prominences = prominences.argsort()\n",
    "    peak_index = peaks[prominences[-max_segments:]]\n",
    "    peak_index.sort()\n",
    "\n",
    "    # merge so they have a minimum distance of min_frames\n",
    "    peak_index_final = merge_intervals(peak_index, min_frames)\n",
    "    #peak_index_final.insert(0, 0)\n",
    "    peak_index_final = np.insert(peak_index_final, 0, 0)\n",
    "    peak_index_final = np.append(peak_index_final, len(optical_flow))\n",
    "    return peak_index_final"
   ]
  },
  {
   "cell_type": "code",
   "execution_count": 9,
   "metadata": {
    "executionInfo": {
     "elapsed": 31,
     "status": "ok",
     "timestamp": 1742154501191,
     "user": {
      "displayName": "Scott Merrill",
      "userId": "10959173247837144378"
     },
     "user_tz": 240
    },
    "id": "LFI_ude-T2co"
   },
   "outputs": [],
   "source": [
    "# Calculate optical flow using cosine similarity\n",
    "optical_flow_video = calculate_optical_flow_euclidean(video_features)\n",
    "optical_flow_video = moving_average(optical_flow_video, window_size=20)\n",
    "segments = optical_flow_segments(optical_flow_video, max_segments=4)"
   ]
  },
  {
   "cell_type": "code",
   "execution_count": 10,
   "metadata": {
    "colab": {
     "base_uri": "https://localhost:8080/",
     "height": 430
    },
    "executionInfo": {
     "elapsed": 294,
     "status": "ok",
     "timestamp": 1742154502496,
     "user": {
      "displayName": "Scott Merrill",
      "userId": "10959173247837144378"
     },
     "user_tz": 240
    },
    "id": "N6xqLqf4eX3R",
    "outputId": "10290c99-c687-4f06-eef7-cfda824c6fc9"
   },
   "outputs": [
    {
     "data": {
      "image/png": "[encoded data removed]",
      "text/plain": [
       "<Figure size 640x480 with 1 Axes>"
      ]
     },
     "metadata": {},
     "output_type": "display_data"
    }
   ],
   "source": [
    "plt.plot(optical_flow_video)\n",
    "for peak in segments:\n",
    "    plt.axvline(peak, ymin=0, ymax=1, color='r')"
   ]
  },
  {
   "cell_type": "markdown",
   "metadata": {
    "id": "UWU2a1DYozz-"
   },
   "source": [
    "### Pad video and audio segments to a max size of 50"
   ]
  },
  {
   "cell_type": "code",
   "execution_count": 11,
   "metadata": {
    "colab": {
     "base_uri": "https://localhost:8080/"
    },
    "executionInfo": {
     "elapsed": 39,
     "status": "ok",
     "timestamp": 1742154506467,
     "user": {
      "displayName": "Scott Merrill",
      "userId": "10959173247837144378"
     },
     "user_tz": 240
    },
    "id": "M2HfXDRIT5dS",
    "outputId": "ac72abf2-2473-4c91-af23-de6a8605d660"
   },
   "outputs": [
    {
     "name": "stderr",
     "output_type": "stream",
     "text": [
      "/var/folders/qb/2jqy46j9757g7m30b7cz_z040000gn/T/ipykernel_42061/1427386281.py:2: UserWarning: To copy construct from a tensor, it is recommended to use sourceTensor.clone().detach() or sourceTensor.clone().detach().requires_grad_(True), rather than torch.tensor(sourceTensor).\n",
      "  vf = torch.tensor(video_features[start_segment:end_segment,:])\n",
      "/var/folders/qb/2jqy46j9757g7m30b7cz_z040000gn/T/ipykernel_42061/1427386281.py:3: UserWarning: To copy construct from a tensor, it is recommended to use sourceTensor.clone().detach() or sourceTensor.clone().detach().requires_grad_(True), rather than torch.tensor(sourceTensor).\n",
      "  af = torch.tensor(audio_features[start_segment:end_segment,:])\n"
     ]
    }
   ],
   "source": [
    "def perform_feature_padding(video_features, audio_features, start_segment, end_segment, max_seq_len):\n",
    "    vf = torch.tensor(video_features[start_segment:end_segment,:])\n",
    "    af = torch.tensor(audio_features[start_segment:end_segment,:])\n",
    "\n",
    "    pvf = torch.zeros(max_seq_len, 1024)\n",
    "    pvf[:vf.shape[0], :] = vf\n",
    "\n",
    "    paf = torch.zeros(max_seq_len, 128)\n",
    "    paf[:af.shape[0], :] = af\n",
    "\n",
    "    # Create mask (True for padding positions)\n",
    "    mask = torch.arange(max_seq_len) >= vf.shape[0]\n",
    "    mask = mask.unsqueeze(0)  # Convert to 2D (batch_size=1, seq_len)\n",
    "    return pvf, paf, mask\n",
    "\n",
    "start_segment, end_segment = segments[0], segments[1]\n",
    "max_seq_len = 100\n",
    "vpf, paf, mask = perform_feature_padding(video_features, audio_features, start_segment, end_segment, max_seq_len)"
   ]
  },
  {
   "cell_type": "markdown",
   "metadata": {
    "id": "ycMA-BPnt5gT"
   },
   "source": [
    "### Now we can pass these to transformer"
   ]
  },
  {
   "cell_type": "code",
   "execution_count": 12,
   "metadata": {
    "colab": {
     "base_uri": "https://localhost:8080/"
    },
    "executionInfo": {
     "elapsed": 76,
     "status": "ok",
     "timestamp": 1742154508868,
     "user": {
      "displayName": "Scott Merrill",
      "userId": "10959173247837144378"
     },
     "user_tz": 240
    },
    "id": "ukKKiualT686",
    "outputId": "8577d072-08e5-4cce-bddf-642b630fa780"
   },
   "outputs": [
    {
     "name": "stderr",
     "output_type": "stream",
     "text": [
      "/Users/scottmerrill/opt/anaconda3/envs/coingame/lib/python3.11/site-packages/torch/nn/modules/transformer.py:286: UserWarning: enable_nested_tensor is True, but self.use_nested_tensor is False because encoder_layer.self_attn.batch_first was not True(use batch_first for better inference performance)\n",
      "  warnings.warn(f\"enable_nested_tensor is True, but self.use_nested_tensor is False because {why_not_sparsity_fast_path}\")\n"
     ]
    }
   ],
   "source": [
    "num_layers = 1\n",
    "num_heads = 1\n",
    "\n",
    "# max segment size of 100 frames\n",
    "\n",
    "audio_model = Transformer(input_dim=128, embed_dim=256, num_heads=num_heads, num_layers=num_layers, max_seq_len=max_seq_len)\n",
    "video_model = Transformer(input_dim=1024, embed_dim=256, num_heads=num_heads, num_layers=num_layers, max_seq_len=max_seq_len)"
   ]
  },
  {
   "cell_type": "code",
   "execution_count": 13,
   "metadata": {
    "executionInfo": {
     "elapsed": 2368,
     "status": "ok",
     "timestamp": 1742154511976,
     "user": {
      "displayName": "Scott Merrill",
      "userId": "10959173247837144378"
     },
     "user_tz": 240
    },
    "id": "GBaI93jZURuj"
   },
   "outputs": [],
   "source": [
    "audio_embedding = audio_model(paf, mask)\n",
    "video_embedding = video_model(vpf, mask)\n",
    "joint_embedding = torch.cat([audio_embedding, video_embedding])"
   ]
  },
  {
   "cell_type": "markdown",
   "metadata": {
    "id": "pgmFqrKTv4h_"
   },
   "source": [
    "### Triplet Loss"
   ]
  },
  {
   "cell_type": "markdown",
   "metadata": {
    "id": "5NbvkeP9y-Q9"
   },
   "source": [
    "1.  L_{VA}\n",
    "- Positive anchor corresponding to video, positive value for audio, negative audio sample"
   ]
  },
  {
   "cell_type": "markdown",
   "metadata": {
    "id": "0gHMZ4tT_Srn"
   },
   "source": [
    "Choose segments which are at least somewhat the same length"
   ]
  },
  {
   "cell_type": "code",
   "execution_count": 14,
   "metadata": {
    "executionInfo": {
     "elapsed": 6,
     "status": "ok",
     "timestamp": 1742154511985,
     "user": {
      "displayName": "Scott Merrill",
      "userId": "10959173247837144378"
     },
     "user_tz": 240
    },
    "id": "NCO3Gaf-98_V"
   },
   "outputs": [],
   "source": [
    "# Function to find pairs with approximately equal differences\n",
    "def find_matching_index_pairs(array1, array2, tolerance=5):\n",
    "    # Calculate differences in array1 and array2\n",
    "    array1_diffs = np.diff(array1)\n",
    "    array2_diffs = np.diff(array2)\n",
    "\n",
    "    matching_pairs = []\n",
    "\n",
    "    # Loop through differences in array1\n",
    "    for i, diff1 in enumerate(array1_diffs):\n",
    "        # Find pairs of consecutive indices in array2 with similar differences\n",
    "        for j, diff2 in enumerate(array2_diffs):\n",
    "            if abs(diff1 - diff2) <= tolerance:  # If the difference is within the tolerance\n",
    "                matching_pairs.append(((i, i + 1), (j, j + 1), diff1, diff2))\n",
    "\n",
    "    return matching_pairs"
   ]
  },
  {
   "cell_type": "code",
   "execution_count": 15,
   "metadata": {
    "executionInfo": {
     "elapsed": 6,
     "status": "ok",
     "timestamp": 1742154511985,
     "user": {
      "displayName": "Scott Merrill",
      "userId": "10959173247837144378"
     },
     "user_tz": 240
    },
    "id": "NCO3Gaf-98_V"
   },
   "outputs": [],
   "source": [
    "def get_similar_length_segments(positive_segments, negative_segments, tolerance = 5):\n",
    "    \n",
    "    while True:\n",
    "        matching_indexes = find_matching_index_pairs(positive_segments, negative_segments, tolerance=tolerance)\n",
    "        tolerance += 5\n",
    "        if len(matching_indexes) > 0:\n",
    "            break\n",
    "            \n",
    "    # sample randomly for all segments within the tolerance band\n",
    "    pos_segment, negative_segment, pos_time, neg_time = matching_indexes[np.random.randint(0, len(matching_indexes))]\n",
    "    \n",
    "    return pos_segment, negative_segment, pos_time, neg_time"
   ]
  },
  {
   "cell_type": "code",
   "execution_count": 16,
   "metadata": {
    "executionInfo": {
     "elapsed": 1997,
     "status": "ok",
     "timestamp": 1742154514639,
     "user": {
      "displayName": "Scott Merrill",
      "userId": "10959173247837144378"
     },
     "user_tz": 240
    },
    "id": "XBqcV2vX7uH8"
   },
   "outputs": [
    {
     "name": "stdout",
     "output_type": "stream",
     "text": [
      "(8, 9) (3, 4) 7 10\n"
     ]
    }
   ],
   "source": [
    "positive_record_file = np.random.choice(filenames)\n",
    "negative_record_file = np.random.choice(filenames)\n",
    "\n",
    "positive_rgb, positive_audio = sample_dataset(positive_record_file)\n",
    "negative_rgb, negative_audio = sample_dataset(negative_record_file)\n",
    "\n",
    "positive_segments = get_segments(positive_rgb)\n",
    "negative_segments = get_segments(negative_rgb)\n",
    "pos_segment, negative_segment, pos_time, neg_time = get_similar_length_segments(positive_segments, negative_segments, tolerance = 5)\n",
    "print(pos_segment, negative_segment, pos_time, neg_time)"
   ]
  },
  {
   "cell_type": "code",
   "execution_count": null,
   "metadata": {
    "colab": {
     "base_uri": "https://localhost:8080/"
    },
    "executionInfo": {
     "elapsed": 51,
     "status": "ok",
     "timestamp": 1742154517443,
     "user": {
      "displayName": "Scott Merrill",
      "userId": "10959173247837144378"
     },
     "user_tz": 240
    },
    "id": "fg-Sji2vzaTi",
    "outputId": "ac6c975a-22a5-4ab7-8c68-1ab8b9fce755"
   },
   "outputs": [],
   "source": [
    "# converting segment index to time in seconds\n",
    "pos_start, pos_end = pos_segment\n",
    "pos_start = positive_segments[pos_start]\n",
    "pos_end = positive_segments[pos_end]\n",
    "print(pos_start, pos_end)\n",
    "\n",
    "# retrieving segment and padding it appropriately\n",
    "pos_video, pos_audio, pos_mask = perform_feature_padding(positive_rgb, positive_audio, pos_start, pos_end, max_seq_len)\n",
    "\n",
    "# computing embedding\n",
    "positive_video_embedding = video_model(pos_video, pos_mask)\n",
    "positive_audio_embedding = audio_model(pos_audio, pos_mask)\n",
    "\n",
    "# converting segment index to time in seconds\n",
    "neg_start, neg_end = negative_segment\n",
    "neg_start = negative_segments[neg_start]\n",
    "neg_end = negative_segments[neg_end]\n",
    "\n",
    "# retrieving segment and padding it appropriately\n",
    "neg_video, neg_audio, neg_mask = perform_feature_padding(negative_rgb, negative_audio, neg_start, neg_end, max_seq_len)\n",
    "\n",
    "# computing embedding\n",
    "negative_video_embedding = video_model(neg_video, neg_mask)\n",
    "negative_audio_embedding = audio_model(neg_audio, neg_mask)"
   ]
  },
  {
   "cell_type": "code",
   "execution_count": 37,
   "metadata": {
    "colab": {
     "base_uri": "https://localhost:8080/"
    },
    "executionInfo": {
     "elapsed": 51,
     "status": "ok",
     "timestamp": 1742154517443,
     "user": {
      "displayName": "Scott Merrill",
      "userId": "10959173247837144378"
     },
     "user_tz": 240
    },
    "id": "fg-Sji2vzaTi",
    "outputId": "ac6c975a-22a5-4ab7-8c68-1ab8b9fce755"
   },
   "outputs": [
    {
     "data": {
      "text/plain": [
       "tensor([[0.4739, 0.0413, 0.3987,  ..., 0.7961, 0.2487, 0.3080],\n",
       "        [0.3125, 0.3132, 0.1544,  ..., 0.1770, 0.2939, 0.6322],\n",
       "        [0.5425, 0.1622, 0.2230,  ..., 0.1419, 0.2723, 0.9262],\n",
       "        ...,\n",
       "        [0.0000, 0.0000, 0.0000,  ..., 0.0000, 0.0000, 0.0000],\n",
       "        [0.0000, 0.0000, 0.0000,  ..., 0.0000, 0.0000, 0.0000],\n",
       "        [0.0000, 0.0000, 0.0000,  ..., 0.0000, 0.0000, 0.0000]])"
      ]
     },
     "execution_count": 37,
     "metadata": {},
     "output_type": "execute_result"
    }
   ],
   "source": [
    "mask = (neg_video.all != 0)#.bool()\n",
    "neg_video"
   ]
  },
  {
   "cell_type": "code",
   "execution_count": 66,
   "metadata": {
    "colab": {
     "base_uri": "https://localhost:8080/"
    },
    "executionInfo": {
     "elapsed": 51,
     "status": "ok",
     "timestamp": 1742154517443,
     "user": {
      "displayName": "Scott Merrill",
      "userId": "10959173247837144378"
     },
     "user_tz": 240
    },
    "id": "fg-Sji2vzaTi",
    "outputId": "ac6c975a-22a5-4ab7-8c68-1ab8b9fce755"
   },
   "outputs": [],
   "source": [
    "def reverse_mask(padded_video):\n",
    "    # returns a mask from a padded video\n",
    "    return (padded_video.T == torch.zeros((padded_video.shape[0]))).all(axis=0)\n"
   ]
  },
  {
   "cell_type": "markdown",
   "metadata": {
    "id": "8CwfmcglCbR2"
   },
   "source": [
    "## Let's make a function that combines all of this"
   ]
  },
  {
   "cell_type": "code",
   "execution_count": 773,
   "metadata": {
    "executionInfo": {
     "elapsed": 17,
     "status": "ok",
     "timestamp": 1742154538488,
     "user": {
      "displayName": "Scott Merrill",
      "userId": "10959173247837144378"
     },
     "user_tz": 240
    },
    "id": "PQAfqqWhCfXp"
   },
   "outputs": [],
   "source": [
    "def get_positive_negative_embeddings(filenames, tolerance=5):\n",
    "\n",
    "    positive_record_file = np.random.choice(filenames)\n",
    "    negative_record_file = np.random.choice(filenames)\n",
    "\n",
    "    positive_rgb, positive_audio = sample_dataset(positive_record_file)\n",
    "    negative_rgb, negative_audio = sample_dataset(negative_record_file)\n",
    "\n",
    "    optical_flow_pos = calculate_optical_flow_euclidean(positive_rgb)\n",
    "    optical_flow_pos = moving_average(optical_flow_pos, window_size=20)\n",
    "\n",
    "    optical_flow_neg = calculate_optical_flow_euclidean(negative_rgb)\n",
    "    optical_flow_neg = moving_average(optical_flow_neg, window_size=20)\n",
    "\n",
    "    positive_segments = optical_flow_segments(optical_flow_pos)\n",
    "    negative_segments = optical_flow_segments(optical_flow_neg)\n",
    "\n",
    "    pos_segment, negative_segment, pos_time, neg_time = get_similar_length_segments(positive_segments, negative_segments, tolerance = 5)\n",
    "\n",
    "    # converting segment index to time in seconds\n",
    "    pos_start, pos_end = pos_segment\n",
    "    pos_start = positive_segments[pos_start]\n",
    "    pos_end = positive_segments[pos_end]\n",
    "    print(pos_start, pos_end)\n",
    "\n",
    "    # retrieving segment and padding it appropriately\n",
    "    pos_video, pos_audio, pos_mask = perform_feature_padding(positive_rgb, positive_audio, pos_start, pos_end, max_seq_len)\n",
    "\n",
    "    # computing embedding\n",
    "    positive_video_embedding = video_model(pos_video, pos_mask)\n",
    "    positive_audio_embedding = audio_model(pos_audio, pos_mask)\n",
    "\n",
    "    # converting segment index to time in seconds\n",
    "    neg_start, neg_end = negative_segment\n",
    "    neg_start = negative_segments[neg_start]\n",
    "    neg_end = negative_segments[neg_end]\n",
    "\n",
    "    # retrieving segment and padding it appropriately\n",
    "    neg_video, neg_audio, neg_mask = perform_feature_padding(negative_rgb, negative_audio, neg_start, neg_end, max_seq_len)\n",
    "\n",
    "    # computing embedding\n",
    "    negative_video_embedding = video_model(neg_video, neg_mask)\n",
    "    negative_audio_embedding = audio_model(neg_audio, neg_mask)\n",
    "    return positive_video_embedding, positive_audio_embedding, negative_video_embedding, negative_audio_embedding"
   ]
  },
  {
   "cell_type": "code",
   "execution_count": 774,
   "metadata": {
    "executionInfo": {
     "elapsed": 17,
     "status": "ok",
     "timestamp": 1742154538488,
     "user": {
      "displayName": "Scott Merrill",
      "userId": "10959173247837144378"
     },
     "user_tz": 240
    },
    "id": "PQAfqqWhCfXp"
   },
   "outputs": [
    {
     "name": "stdout",
     "output_type": "stream",
     "text": [
      "126 137\n"
     ]
    },
    {
     "name": "stderr",
     "output_type": "stream",
     "text": [
      "/var/folders/qb/2jqy46j9757g7m30b7cz_z040000gn/T/ipykernel_28767/1427386281.py:2: UserWarning: To copy construct from a tensor, it is recommended to use sourceTensor.clone().detach() or sourceTensor.clone().detach().requires_grad_(True), rather than torch.tensor(sourceTensor).\n",
      "  vf = torch.tensor(video_features[start_segment:end_segment,:])\n",
      "/var/folders/qb/2jqy46j9757g7m30b7cz_z040000gn/T/ipykernel_28767/1427386281.py:3: UserWarning: To copy construct from a tensor, it is recommended to use sourceTensor.clone().detach() or sourceTensor.clone().detach().requires_grad_(True), rather than torch.tensor(sourceTensor).\n",
      "  af = torch.tensor(audio_features[start_segment:end_segment,:])\n"
     ]
    }
   ],
   "source": [
    "positive_video_embedding, positive_audio_embedding, negative_video_embedding, negative_audio_embedding = get_positive_negative_embeddings(filenames)"
   ]
  },
  {
   "cell_type": "markdown",
   "metadata": {
    "id": "XGJNU_TRDZU6"
   },
   "source": [
    "## Inter-Modal Triplet Loss"
   ]
  },
  {
   "cell_type": "code",
   "execution_count": 775,
   "metadata": {
    "colab": {
     "base_uri": "https://localhost:8080/"
    },
    "executionInfo": {
     "elapsed": 2707,
     "status": "ok",
     "timestamp": 1742154543613,
     "user": {
      "displayName": "Scott Merrill",
      "userId": "10959173247837144378"
     },
     "user_tz": 240
    },
    "id": "xnTt0C_qqBt3",
    "outputId": "5aacb2f4-73c5-42d5-a187-402843eed73b"
   },
   "outputs": [
    {
     "name": "stdout",
     "output_type": "stream",
     "text": [
      "0 16\n",
      "160 175\n",
      "tensor(1.5099, grad_fn=<MeanBackward0>) tensor(1.2509, grad_fn=<MeanBackward0>)\n"
     ]
    },
    {
     "name": "stderr",
     "output_type": "stream",
     "text": [
      "/var/folders/qb/2jqy46j9757g7m30b7cz_z040000gn/T/ipykernel_28767/1427386281.py:2: UserWarning: To copy construct from a tensor, it is recommended to use sourceTensor.clone().detach() or sourceTensor.clone().detach().requires_grad_(True), rather than torch.tensor(sourceTensor).\n",
      "  vf = torch.tensor(video_features[start_segment:end_segment,:])\n",
      "/var/folders/qb/2jqy46j9757g7m30b7cz_z040000gn/T/ipykernel_28767/1427386281.py:3: UserWarning: To copy construct from a tensor, it is recommended to use sourceTensor.clone().detach() or sourceTensor.clone().detach().requires_grad_(True), rather than torch.tensor(sourceTensor).\n",
      "  af = torch.tensor(audio_features[start_segment:end_segment,:])\n"
     ]
    }
   ],
   "source": [
    "# triplet loss params\n",
    "margin = 0\n",
    "triplet_loss = nn.TripletMarginLoss(margin=margin, p=1, eps=1e-7)\n",
    "\n",
    "# loss weights\n",
    "lambda1 = 0.1\n",
    "lambda2 = 0.1\n",
    "\n",
    "# sample positive and negative examples and compute L_VA\n",
    "positive_video_embedding, positive_audio_embedding, negative_video_embedding, negative_audio_embedding = get_positive_negative_embeddings(filenames, tolerance=5)\n",
    "\n",
    "# treating:\n",
    "# anchor = positive_video_embedding\n",
    "# positive = positive_audio_embedding\n",
    "# negative = negative_audio_embedding\n",
    "L_VA = triplet_loss(positive_video_embedding, positive_audio_embedding, negative_audio_embedding) # triplet_loss(anchor, positive, negative)\n",
    "\n",
    "positive_video_embedding, positive_audio_embedding, negative_video_embedding, negative_audio_embedding = get_positive_negative_embeddings(filenames, tolerance=5)\n",
    "\n",
    "# sample positive and negative examples and compute L_AV\n",
    "# anchor = positive_audio_embedding\n",
    "# positive = positive_video_embedding\n",
    "# negative = negative_video_embedding\n",
    "L_AV = triplet_loss(positive_audio_embedding, positive_video_embedding, negative_video_embedding) # triplet_loss(anchor, positive, negative)\n",
    "print(L_VA, L_AV)"
   ]
  },
  {
   "cell_type": "markdown",
   "metadata": {
    "id": "8W2YDnueDnM9"
   },
   "source": [
    "### Intra-modal triplet loss"
   ]
  },
  {
   "cell_type": "code",
   "execution_count": 776,
   "metadata": {
    "executionInfo": {
     "elapsed": 7,
     "status": "ok",
     "timestamp": 1742154544972,
     "user": {
      "displayName": "Scott Merrill",
      "userId": "10959173247837144378"
     },
     "user_tz": 240
    },
    "id": "yzP2nI4oDm-K"
   },
   "outputs": [],
   "source": [
    "# loss weights\n",
    "lambda3 = 0.1\n",
    "lambda4 = 0.1"
   ]
  },
  {
   "cell_type": "code",
   "execution_count": 777,
   "metadata": {
    "executionInfo": {
     "elapsed": 37,
     "status": "ok",
     "timestamp": 1742154545749,
     "user": {
      "displayName": "Scott Merrill",
      "userId": "10959173247837144378"
     },
     "user_tz": 240
    },
    "id": "aACoHr4QswNi"
   },
   "outputs": [],
   "source": [
    "def get_best_worst_flow(filename, method='video', window_size=20):\n",
    "    # this function takes a filename and returns the segment with the highest and lowest\n",
    "    # optical flow\n",
    "    \n",
    "    rgb, audio = sample_dataset(filename)\n",
    "\n",
    "    # compute optical flow\n",
    "    if method == 'video':\n",
    "        flow = moving_average(calculate_optical_flow_euclidean(rgb), window_size)\n",
    "    elif method == 'audio':\n",
    "        flow = moving_average(calculate_optical_flow_euclidean(audio), window_size)\n",
    "    else:\n",
    "        print(\"please pass video or audio\")\n",
    "        return None\n",
    "    \n",
    "    # using flow to create segments \n",
    "    segments = optical_flow_segments(flow, max_segments)\n",
    "\n",
    "    # ranking segments\n",
    "    ranks = rank_averages(compute_segment_means(segments, flow))\n",
    "\n",
    "\n",
    "    # get the best and worst flow\n",
    "    #### BEST ####\n",
    "    top_flow_start = np.where(ranks==1)[0][0]\n",
    "    top_flow_end = top_flow_start + 1\n",
    "\n",
    "    # segment timestaps\n",
    "    top_flow_start = segments[top_flow_start]\n",
    "    top_flow_end = segments[top_flow_end]\n",
    "\n",
    "    #### WORST ####\n",
    "    bottom_flow_start = np.where(ranks==max(ranks))[0][0]\n",
    "    bottom_flow_end = bottom_flow_start + 1\n",
    "\n",
    "    # segment timestaps\n",
    "    bottom_flow_start = segments[bottom_flow_start]\n",
    "    bottom_flow_end = segments[bottom_flow_end]\n",
    "\n",
    "    return (top_flow_start, top_flow_end), (bottom_flow_start, bottom_flow_end)"
   ]
  },
  {
   "cell_type": "code",
   "execution_count": 778,
   "metadata": {
    "executionInfo": {
     "elapsed": 7,
     "status": "ok",
     "timestamp": 1742154547095,
     "user": {
      "displayName": "Scott Merrill",
      "userId": "10959173247837144378"
     },
     "user_tz": 240
    },
    "id": "xbsyRAQHf18B"
   },
   "outputs": [],
   "source": [
    "anchor_file = np.random.choice(filenames)\n",
    "sample_file = np.random.choice(filenames)"
   ]
  },
  {
   "cell_type": "markdown",
   "metadata": {
    "executionInfo": {
     "elapsed": 7,
     "status": "ok",
     "timestamp": 1742154547095,
     "user": {
      "displayName": "Scott Merrill",
      "userId": "10959173247837144378"
     },
     "user_tz": 240
    },
    "id": "xbsyRAQHf18B"
   },
   "source": [
    "### Match video optical flow\n",
    "- This can fail if segment selected is longer than the transformer input length.  If it's shorter, that's ok because things are padded"
   ]
  },
  {
   "cell_type": "code",
   "execution_count": 779,
   "metadata": {
    "executionInfo": {
     "elapsed": 7,
     "status": "ok",
     "timestamp": 1742154547095,
     "user": {
      "displayName": "Scott Merrill",
      "userId": "10959173247837144378"
     },
     "user_tz": 240
    },
    "id": "xbsyRAQHf18B"
   },
   "outputs": [
    {
     "name": "stderr",
     "output_type": "stream",
     "text": [
      "/var/folders/qb/2jqy46j9757g7m30b7cz_z040000gn/T/ipykernel_28767/1427386281.py:2: UserWarning: To copy construct from a tensor, it is recommended to use sourceTensor.clone().detach() or sourceTensor.clone().detach().requires_grad_(True), rather than torch.tensor(sourceTensor).\n",
      "  vf = torch.tensor(video_features[start_segment:end_segment,:])\n",
      "/var/folders/qb/2jqy46j9757g7m30b7cz_z040000gn/T/ipykernel_28767/1427386281.py:3: UserWarning: To copy construct from a tensor, it is recommended to use sourceTensor.clone().detach() or sourceTensor.clone().detach().requires_grad_(True), rather than torch.tensor(sourceTensor).\n",
      "  af = torch.tensor(audio_features[start_segment:end_segment,:])\n"
     ]
    }
   ],
   "source": [
    "margin = 0.1\n",
    "triplet_loss = nn.TripletMarginLoss(margin=margin, p=4, eps=1e-3)\n",
    "\n",
    "# anchor top and bottom flow embeddings\n",
    "(anchor_top_flow_start, anchor_top_flow_end), (anchor_bottom_flow_start, anchor_bottom_flow_end) =\\\n",
    "get_best_worst_flow(anchor_file, method='video', window_size=20)\n",
    "\n",
    "anchor_rgb_pos, anchor_audio_pos, anchor_mask_pos = perform_feature_padding(anchor_rgb, anchor_audio, anchor_top_flow_start, anchor_top_flow_end, max_seq_len)\n",
    "anchor_rgb_neg, anchor_audio_neg, anchor_mask_neg = perform_feature_padding(anchor_rgb, anchor_audio, anchor_bottom_flow_start, anchor_bottom_flow_end, max_seq_len)\n",
    "\n",
    "anchor_positive_video_embedding = video_model(anchor_rgb_pos, anchor_mask_pos)\n",
    "anchor_negative_video_embedding = video_model(anchor_rgb_neg, anchor_mask_neg)\n",
    "\n",
    "\n",
    "# sample top and bottom flow embeddings\n",
    "(sample_top_flow_start, sample_top_flow_end), (sample_bottom_flow_start, sample_bottom_flow_end) =\\\n",
    "get_best_worst_flow(sample_file, method='video', window_size=20)\n",
    "\n",
    "sample_rgb_pos, sample_audio_pos, sample_mask_pos = perform_feature_padding(sample_rgb, sample_audio, sample_top_flow_start, sample_top_flow_end, max_seq_len)\n",
    "sample_rgb_neg, sample_audio_neg, sample_mask_neg = perform_feature_padding(sample_rgb, sample_audio, sample_bottom_flow_start, sample_bottom_flow_end, max_seq_len)\n",
    "\n",
    "sample_positive_video_embedding = video_model(sample_rgb_pos, sample_mask_pos)\n",
    "sample_negative_video_embedding = video_model(sample_rgb_neg, sample_mask_neg)\n",
    "\n",
    "# match maximum optical flow ranks\n",
    "L_rgb_pos = triplet_loss(anchor_positive_video_embedding, sample_positive_video_embedding, sample_negative_video_embedding)\n",
    "\n",
    "# match minimum optical flow ranks\n",
    "L_rgb_neg = triplet_loss(anchor_negative_video_embedding, sample_negative_video_embedding, sample_positive_video_embedding)"
   ]
  },
  {
   "cell_type": "code",
   "execution_count": 780,
   "metadata": {
    "executionInfo": {
     "elapsed": 7,
     "status": "ok",
     "timestamp": 1742154547095,
     "user": {
      "displayName": "Scott Merrill",
      "userId": "10959173247837144378"
     },
     "user_tz": 240
    },
    "id": "xbsyRAQHf18B"
   },
   "outputs": [
    {
     "data": {
      "text/plain": [
       "(0, 5)"
      ]
     },
     "execution_count": 780,
     "metadata": {},
     "output_type": "execute_result"
    }
   ],
   "source": [
    "sample_bottom_flow_start, sample_bottom_flow_end"
   ]
  },
  {
   "cell_type": "code",
   "execution_count": 781,
   "metadata": {
    "executionInfo": {
     "elapsed": 7,
     "status": "ok",
     "timestamp": 1742154547095,
     "user": {
      "displayName": "Scott Merrill",
      "userId": "10959173247837144378"
     },
     "user_tz": 240
    },
    "id": "xbsyRAQHf18B"
   },
   "outputs": [
    {
     "data": {
      "text/plain": [
       "(tensor(0., grad_fn=<MeanBackward0>), tensor(0., grad_fn=<MeanBackward0>))"
      ]
     },
     "execution_count": 781,
     "metadata": {},
     "output_type": "execute_result"
    }
   ],
   "source": [
    "L_rgb_pos, L_rgb_neg"
   ]
  },
  {
   "cell_type": "markdown",
   "metadata": {
    "executionInfo": {
     "elapsed": 7,
     "status": "ok",
     "timestamp": 1742154547095,
     "user": {
      "displayName": "Scott Merrill",
      "userId": "10959173247837144378"
     },
     "user_tz": 240
    },
    "id": "xbsyRAQHf18B"
   },
   "source": [
    "### Match audio optical flow\n",
    "- note we need to use audio optical flow to make segments so while this looks similar it's functionally different\n",
    "- This can fail if segment selected is longer than the transformer input length.  If it's shorter, that's ok because things are padded"
   ]
  },
  {
   "cell_type": "code",
   "execution_count": 782,
   "metadata": {
    "executionInfo": {
     "elapsed": 7,
     "status": "ok",
     "timestamp": 1742154547095,
     "user": {
      "displayName": "Scott Merrill",
      "userId": "10959173247837144378"
     },
     "user_tz": 240
    },
    "id": "xbsyRAQHf18B"
   },
   "outputs": [
    {
     "name": "stderr",
     "output_type": "stream",
     "text": [
      "/var/folders/qb/2jqy46j9757g7m30b7cz_z040000gn/T/ipykernel_28767/1427386281.py:2: UserWarning: To copy construct from a tensor, it is recommended to use sourceTensor.clone().detach() or sourceTensor.clone().detach().requires_grad_(True), rather than torch.tensor(sourceTensor).\n",
      "  vf = torch.tensor(video_features[start_segment:end_segment,:])\n",
      "/var/folders/qb/2jqy46j9757g7m30b7cz_z040000gn/T/ipykernel_28767/1427386281.py:3: UserWarning: To copy construct from a tensor, it is recommended to use sourceTensor.clone().detach() or sourceTensor.clone().detach().requires_grad_(True), rather than torch.tensor(sourceTensor).\n",
      "  af = torch.tensor(audio_features[start_segment:end_segment,:])\n"
     ]
    }
   ],
   "source": [
    "# anchor top and bottom flow embeddings\n",
    "(anchor_top_flow_start, anchor_top_flow_end), (anchor_bottom_flow_start, anchor_bottom_flow_end) =\\\n",
    "get_best_worst_flow(anchor_file, method='audio', window_size=20)\n",
    "\n",
    "anchor_rgb_pos, anchor_audio_pos, anchor_mask_pos = perform_feature_padding(anchor_rgb, anchor_audio, anchor_top_flow_start, anchor_top_flow_end, max_seq_len)\n",
    "anchor_rgb_neg, anchor_audio_neg, anchor_mask_neg = perform_feature_padding(anchor_rgb, anchor_audio, anchor_bottom_flow_start, anchor_bottom_flow_end, max_seq_len)\n",
    "\n",
    "anchor_positive_audio_embedding = audio_model(anchor_audio_pos, anchor_mask_pos)\n",
    "anchor_negative_audio_embedding = audio_model(anchor_audio_neg, anchor_mask_neg)\n",
    "\n",
    "\n",
    "# anchor top and bottom flow embeddings\n",
    "(sample_top_flow_start, sample_top_flow_end), (sample_bottom_flow_start, sample_bottom_flow_end) =\\\n",
    "get_best_worst_flow(sample_file, method='audio', window_size=20)\n",
    "\n",
    "sample_rgb_pos, sample_audio_pos, sample_mask_pos = perform_feature_padding(sample_rgb, sample_audio, sample_top_flow_start, sample_top_flow_end, max_seq_len)\n",
    "sample_rgb_neg, sample_audio_neg, sample_mask_neg = perform_feature_padding(sample_rgb, sample_audio, sample_bottom_flow_start, sample_bottom_flow_end, max_seq_len)\n",
    "\n",
    "sample_positive_audio_embedding = audio_model(sample_audio_pos, sample_mask_pos)\n",
    "sample_negative_audio_embedding = audio_model(sample_audio_neg, sample_mask_neg)\n",
    "\n",
    "\n",
    "# match maximum optical flow ranks\n",
    "L_audio_pos = triplet_loss(anchor_positive_audio_embedding, sample_positive_audio_embedding, sample_negative_audio_embedding)\n",
    "\n",
    "# match minimum optical flow ranks\n",
    "L_audio_neg = triplet_loss(anchor_negative_audio_embedding, sample_negative_audio_embedding, sample_positive_audio_embedding)"
   ]
  },
  {
   "cell_type": "markdown",
   "metadata": {
    "executionInfo": {
     "elapsed": 7,
     "status": "ok",
     "timestamp": 1742154547095,
     "user": {
      "displayName": "Scott Merrill",
      "userId": "10959173247837144378"
     },
     "user_tz": 240
    },
    "id": "xbsyRAQHf18B"
   },
   "source": [
    "### let's make functions to simplify these operations"
   ]
  },
  {
   "cell_type": "code",
   "execution_count": 783,
   "metadata": {
    "executionInfo": {
     "elapsed": 7,
     "status": "ok",
     "timestamp": 1742154547095,
     "user": {
      "displayName": "Scott Merrill",
      "userId": "10959173247837144378"
     },
     "user_tz": 240
    },
    "id": "xbsyRAQHf18B"
   },
   "outputs": [],
   "source": [
    "def get_mined_optical_flow_embedding(filename, method='video', window_size=20):\n",
    "    if method == 'video':\n",
    "        rgb, audio = sample_dataset(filename)\n",
    "\n",
    "        (top_flow_start, top_flow_end), (bottom_flow_start, bottom_flow_end) =\\\n",
    "                get_best_worst_flow(filename, method=method, window_size=window_size)\n",
    "        \n",
    "        rgb_pos, audio_pos, mask_pos = perform_feature_padding(rgb, audio, top_flow_start, top_flow_end, max_seq_len)\n",
    "        rgb_neg, audio_neg, mask_neg = perform_feature_padding(rgb, audio, bottom_flow_start, bottom_flow_end, max_seq_len)\n",
    "\n",
    "        positive_video_embedding = video_model(rgb_pos, mask_pos)\n",
    "        negative_video_embedding = video_model(rgb_neg, mask_neg)\n",
    "        return positive_video_embedding, negative_video_embedding\n",
    "    \n",
    "    elif method == 'audio':\n",
    "        rgb, audio = sample_dataset(filename)\n",
    "\n",
    "        (top_flow_start, top_flow_end), (bottom_flow_start, bottom_flow_end) =\\\n",
    "                get_best_worst_flow(filename, method=method, window_size=window_size)\n",
    "        \n",
    "        rgb_pos, audio_pos, mask_pos = perform_feature_padding(rgb, audio, top_flow_start, top_flow_end, max_seq_len)\n",
    "        rgb_neg, audio_neg, mask_neg = perform_feature_padding(rgb, audio, bottom_flow_start, bottom_flow_end, max_seq_len)\n",
    "        \n",
    "        positive_audio_embedding = audio_model(audio_pos, mask_pos)\n",
    "        negative_audio_embedding = audio_model(audio_neg, mask_neg)\n",
    "        return positive_audio_embedding, negative_audio_embedding    \n",
    "    else:\n",
    "        print('please specify video or audio embedding')\n",
    "        return None\n"
   ]
  },
  {
   "cell_type": "code",
   "execution_count": 784,
   "metadata": {
    "executionInfo": {
     "elapsed": 7,
     "status": "ok",
     "timestamp": 1742154547095,
     "user": {
      "displayName": "Scott Merrill",
      "userId": "10959173247837144378"
     },
     "user_tz": 240
    },
    "id": "xbsyRAQHf18B"
   },
   "outputs": [
    {
     "name": "stderr",
     "output_type": "stream",
     "text": [
      "/var/folders/qb/2jqy46j9757g7m30b7cz_z040000gn/T/ipykernel_28767/1427386281.py:2: UserWarning: To copy construct from a tensor, it is recommended to use sourceTensor.clone().detach() or sourceTensor.clone().detach().requires_grad_(True), rather than torch.tensor(sourceTensor).\n",
      "  vf = torch.tensor(video_features[start_segment:end_segment,:])\n",
      "/var/folders/qb/2jqy46j9757g7m30b7cz_z040000gn/T/ipykernel_28767/1427386281.py:3: UserWarning: To copy construct from a tensor, it is recommended to use sourceTensor.clone().detach() or sourceTensor.clone().detach().requires_grad_(True), rather than torch.tensor(sourceTensor).\n",
      "  af = torch.tensor(audio_features[start_segment:end_segment,:])\n"
     ]
    }
   ],
   "source": [
    "anchor_positive_video_embedding, anchor_negative_video_embedding = get_mined_optical_flow_embedding(anchor_file, method ='video')\n",
    "anchor_positive_video_embedding, anchor_negative_video_embedding = get_mined_optical_flow_embedding(anchor_file, method ='video')\n",
    "\n",
    "sample_positive_video_embedding, sample_negative_video_embedding = get_mined_optical_flow_embedding(sample_file, method ='video')\n",
    "sample_positive_video_embedding, sample_negative_video_embedding = get_mined_optical_flow_embedding(sample_file, method ='video')\n",
    "\n",
    "# match maximum optical flow ranks\n",
    "L_rgb_pos = triplet_loss(anchor_positive_video_embedding, sample_positive_video_embedding, sample_negative_video_embedding)\n",
    "\n",
    "# match minimum optical flow ranks\n",
    "L_rgb_neg = triplet_loss(anchor_negative_video_embedding, sample_negative_video_embedding, sample_positive_video_embedding)\n",
    "\n",
    "anchor_positive_audio_embedding, anchor_negative_audio_embedding = get_mined_optical_flow_embedding(anchor_file, method ='audio')\n",
    "anchor_positive_audio_embedding, anchor_negative_audio_embedding = get_mined_optical_flow_embedding(anchor_file, method ='audio')\n",
    "\n",
    "sample_positive_audio_embedding, sample_negative_audio_embedding = get_mined_optical_flow_embedding(sample_file, method ='audio')\n",
    "sample_positive_audio_embedding, sample_negative_audio_embedding = get_mined_optical_flow_embedding(sample_file, method ='audio')\n",
    "\n",
    "# match maximum optical flow ranks\n",
    "L_audio_pos = triplet_loss(anchor_positive_audio_embedding, sample_positive_audio_embedding, sample_negative_audio_embedding)\n",
    "\n",
    "# match minimum optical flow ranks\n",
    "L_audio_neg = triplet_loss(anchor_negative_audio_embedding, sample_negative_audio_embedding, sample_positive_audio_embedding)"
   ]
  },
  {
   "cell_type": "code",
   "execution_count": 785,
   "metadata": {
    "colab": {
     "base_uri": "https://localhost:8080/"
    },
    "executionInfo": {
     "elapsed": 48,
     "status": "ok",
     "timestamp": 1741917641514,
     "user": {
      "displayName": "Scott Merrill",
      "userId": "10959173247837144378"
     },
     "user_tz": 240
    },
    "id": "iNTczNhWYaPF",
    "outputId": "16bc1ddf-f5fe-4fa1-acd2-493ebd36b582"
   },
   "outputs": [
    {
     "name": "stdout",
     "output_type": "stream",
     "text": [
      "tensor(0., grad_fn=<MeanBackward0>) tensor(0.0550, grad_fn=<MeanBackward0>) tensor(0.1182, grad_fn=<MeanBackward0>) tensor(0.0385, grad_fn=<MeanBackward0>)\n"
     ]
    }
   ],
   "source": [
    "print(L_rgb_pos, L_rgb_neg, L_audio_pos, L_audio_neg)"
   ]
  },
  {
   "cell_type": "code",
   "execution_count": null,
   "metadata": {
    "colab": {
     "base_uri": "https://localhost:8080/"
    },
    "executionInfo": {
     "elapsed": 14,
     "status": "ok",
     "timestamp": 1741917615595,
     "user": {
      "displayName": "Scott Merrill",
      "userId": "10959173247837144378"
     },
     "user_tz": 240
    },
    "id": "bhIkTMVbYXLC",
    "outputId": "adeaa82f-2766-4894-f2ac-b89ba1cb8bcb"
   },
   "outputs": [],
   "source": []
  },
  {
   "cell_type": "code",
   "execution_count": null,
   "metadata": {
    "colab": {
     "base_uri": "https://localhost:8080/"
    },
    "executionInfo": {
     "elapsed": 14,
     "status": "ok",
     "timestamp": 1741917615595,
     "user": {
      "displayName": "Scott Merrill",
      "userId": "10959173247837144378"
     },
     "user_tz": 240
    },
    "id": "bhIkTMVbYXLC",
    "outputId": "adeaa82f-2766-4894-f2ac-b89ba1cb8bcb"
   },
   "outputs": [],
   "source": []
  },
  {
   "cell_type": "code",
   "execution_count": null,
   "metadata": {
    "colab": {
     "base_uri": "https://localhost:8080/"
    },
    "executionInfo": {
     "elapsed": 14,
     "status": "ok",
     "timestamp": 1741917615595,
     "user": {
      "displayName": "Scott Merrill",
      "userId": "10959173247837144378"
     },
     "user_tz": 240
    },
    "id": "bhIkTMVbYXLC",
    "outputId": "adeaa82f-2766-4894-f2ac-b89ba1cb8bcb"
   },
   "outputs": [],
   "source": []
  },
  {
   "cell_type": "markdown",
   "metadata": {
    "id": "j_HF3FWZwhDo"
   },
   "source": [
    "## Training Loop"
   ]
  },
  {
   "cell_type": "code",
   "execution_count": 845,
   "metadata": {
    "executionInfo": {
     "elapsed": 2,
     "status": "ok",
     "timestamp": 1741822765220,
     "user": {
      "displayName": "Scott Merrill",
      "userId": "10959173247837144378"
     },
     "user_tz": 240
    },
    "id": "WODYGSWttHuT"
   },
   "outputs": [],
   "source": [
    "def save_checkpoint(model, optimizer, epoch, filename):\n",
    "    \"\"\"Saves model and optimizer state dict.\"\"\"\n",
    "    checkpoint = {\n",
    "        'epoch': epoch,\n",
    "        'model_state_dict': model.state_dict(),\n",
    "        'optimizer_state_dict': optimizer.state_dict(),\n",
    "    }\n",
    "    torch.save(checkpoint, filename)\n",
    "    print(f\"Checkpoint saved at epoch {epoch} to {filename}\")\n"
   ]
  },
  {
   "cell_type": "code",
   "execution_count": 838,
   "metadata": {
    "executionInfo": {
     "elapsed": 2,
     "status": "ok",
     "timestamp": 1741822765220,
     "user": {
      "displayName": "Scott Merrill",
      "userId": "10959173247837144378"
     },
     "user_tz": 240
    },
    "id": "WODYGSWttHuT"
   },
   "outputs": [],
   "source": [
    "lambda1 = 0.1\n",
    "lambda2 = 0.1\n",
    "lambda3 = 0.1\n",
    "lambda4 = 0.1\n",
    "lambda5 = 0.1\n",
    "lambda6 = 0.1\n",
    "batch_size = 32\n",
    "lr = 1e-4\n",
    "\n",
    "# Define the Adam optimizer for the audio model\n",
    "audio_optimizer = optim.Adam(audio_model.parameters(), lr=lr)\n",
    "\n",
    "# Define the Adam optimizer for the video model\n",
    "video_optimizer = optim.Adam(video_model.parameters(), lr=lr)"
   ]
  },
  {
   "cell_type": "code",
   "execution_count": 846,
   "metadata": {
    "executionInfo": {
     "elapsed": 2,
     "status": "ok",
     "timestamp": 1741822765220,
     "user": {
      "displayName": "Scott Merrill",
      "userId": "10959173247837144378"
     },
     "user_tz": 240
    },
    "id": "WODYGSWttHuT"
   },
   "outputs": [
    {
     "name": "stdout",
     "output_type": "stream",
     "text": [
      "108 123\n",
      "18 33\n"
     ]
    },
    {
     "name": "stderr",
     "output_type": "stream",
     "text": [
      "/var/folders/qb/2jqy46j9757g7m30b7cz_z040000gn/T/ipykernel_28767/1427386281.py:2: UserWarning: To copy construct from a tensor, it is recommended to use sourceTensor.clone().detach() or sourceTensor.clone().detach().requires_grad_(True), rather than torch.tensor(sourceTensor).\n",
      "  vf = torch.tensor(video_features[start_segment:end_segment,:])\n",
      "/var/folders/qb/2jqy46j9757g7m30b7cz_z040000gn/T/ipykernel_28767/1427386281.py:3: UserWarning: To copy construct from a tensor, it is recommended to use sourceTensor.clone().detach() or sourceTensor.clone().detach().requires_grad_(True), rather than torch.tensor(sourceTensor).\n",
      "  af = torch.tensor(audio_features[start_segment:end_segment,:])\n"
     ]
    },
    {
     "name": "stdout",
     "output_type": "stream",
     "text": [
      "tensor(0.1094, grad_fn=<MeanBackward0>) tensor(0.0979, grad_fn=<MeanBackward0>) tensor(0., grad_fn=<MeanBackward0>) tensor(0.4450, grad_fn=<MeanBackward0>) tensor(0., grad_fn=<MeanBackward0>) tensor(0., grad_fn=<MeanBackward0>)\n",
      "30 46\n",
      "194 219\n",
      "tensor(0.0979, grad_fn=<MeanBackward0>) tensor(0.0712, grad_fn=<MeanBackward0>) tensor(0., grad_fn=<MeanBackward0>) tensor(0.4230, grad_fn=<MeanBackward0>) tensor(0., grad_fn=<MeanBackward0>) tensor(0., grad_fn=<MeanBackward0>)\n",
      "79 93\n",
      "52 65\n",
      "tensor(0.0965, grad_fn=<MeanBackward0>) tensor(0.0724, grad_fn=<MeanBackward0>) tensor(0.2098, grad_fn=<MeanBackward0>) tensor(0.0282, grad_fn=<MeanBackward0>) tensor(0.2518, grad_fn=<MeanBackward0>) tensor(0., grad_fn=<MeanBackward0>)\n",
      "160 173\n",
      "159 197\n",
      "tensor(0.0822, grad_fn=<MeanBackward0>) tensor(0.1125, grad_fn=<MeanBackward0>) tensor(0., grad_fn=<MeanBackward0>) tensor(0.4587, grad_fn=<MeanBackward0>) tensor(0.2769, grad_fn=<MeanBackward0>) tensor(0.0049, grad_fn=<MeanBackward0>)\n",
      "26 49\n",
      "27 78\n",
      "tensor(0.1228, grad_fn=<MeanBackward0>) tensor(0.1455, grad_fn=<MeanBackward0>) tensor(0.1336, grad_fn=<MeanBackward0>) tensor(0.0710, grad_fn=<MeanBackward0>) tensor(0.0204, grad_fn=<MeanBackward0>) tensor(0.1344, grad_fn=<MeanBackward0>)\n",
      "115 128\n",
      "7 21\n",
      "tensor(0.1158, grad_fn=<MeanBackward0>) tensor(0.0876, grad_fn=<MeanBackward0>) tensor(0.2463, grad_fn=<MeanBackward0>) tensor(0., grad_fn=<MeanBackward0>) tensor(0.5128, grad_fn=<MeanBackward0>) tensor(0., grad_fn=<MeanBackward0>)\n",
      "14 40\n",
      "125 141\n",
      "tensor(0.0949, grad_fn=<MeanBackward0>) tensor(0.0177, grad_fn=<MeanBackward0>) tensor(0., grad_fn=<MeanBackward0>) tensor(0., grad_fn=<MeanBackward0>) tensor(0.1034, grad_fn=<MeanBackward0>) tensor(0.0059, grad_fn=<MeanBackward0>)\n",
      "13 23\n",
      "0 16\n",
      "tensor(0.0733, grad_fn=<MeanBackward0>) tensor(0.1088, grad_fn=<MeanBackward0>) tensor(0., grad_fn=<MeanBackward0>) tensor(0.3576, grad_fn=<MeanBackward0>) tensor(0.2956, grad_fn=<MeanBackward0>) tensor(0., grad_fn=<MeanBackward0>)\n",
      "91 112\n",
      "0 18\n",
      "index 0 is out of bounds for axis 0 with size 0\n",
      "85 117\n",
      "25 62\n",
      "tensor(0.0950, grad_fn=<MeanBackward0>) tensor(0.0817, grad_fn=<MeanBackward0>) tensor(0.2929, grad_fn=<MeanBackward0>) tensor(0.3776, grad_fn=<MeanBackward0>) tensor(0.1800, grad_fn=<MeanBackward0>) tensor(0.0832, grad_fn=<MeanBackward0>)\n",
      "115 139\n",
      "4 21\n",
      "tensor(0.1181, grad_fn=<MeanBackward0>) tensor(0.0995, grad_fn=<MeanBackward0>) tensor(0.0489, grad_fn=<MeanBackward0>) tensor(0.1384, grad_fn=<MeanBackward0>) tensor(0.1943, grad_fn=<MeanBackward0>) tensor(0.1199, grad_fn=<MeanBackward0>)\n",
      "102 128\n",
      "189 199\n",
      "tensor(0.1183, grad_fn=<MeanBackward0>) tensor(0.1621, grad_fn=<MeanBackward0>) tensor(0.1399, grad_fn=<MeanBackward0>) tensor(0.1774, grad_fn=<MeanBackward0>) tensor(0.2259, grad_fn=<MeanBackward0>) tensor(0.0612, grad_fn=<MeanBackward0>)\n",
      "246 257\n",
      "164 176\n",
      "tensor(0.0760, grad_fn=<MeanBackward0>) tensor(0.1245, grad_fn=<MeanBackward0>) tensor(0., grad_fn=<MeanBackward0>) tensor(0., grad_fn=<MeanBackward0>) tensor(0.1249, grad_fn=<MeanBackward0>) tensor(0.0583, grad_fn=<MeanBackward0>)\n",
      "73 88\n",
      "24 39\n",
      "tensor(0.0819, grad_fn=<MeanBackward0>) tensor(0.0971, grad_fn=<MeanBackward0>) tensor(0.2687, grad_fn=<MeanBackward0>) tensor(0.0128, grad_fn=<MeanBackward0>) tensor(0.0840, grad_fn=<MeanBackward0>) tensor(0.0274, grad_fn=<MeanBackward0>)\n",
      "123 140\n",
      "77 91\n",
      "tensor(0.1048, grad_fn=<MeanBackward0>) tensor(0.1590, grad_fn=<MeanBackward0>) tensor(0., grad_fn=<MeanBackward0>) tensor(0.2166, grad_fn=<MeanBackward0>) tensor(0.1419, grad_fn=<MeanBackward0>) tensor(0.1913, grad_fn=<MeanBackward0>)\n",
      "197 213\n",
      "[Errno 2] No such file or directory: '/Users/scottmerrill/Documents/UNC/MultiModal/VMR/Youtube8m/audio/epi9n_sqzfM.npy'\n",
      "32 43\n",
      "30 42\n",
      "tensor(0.0825, grad_fn=<MeanBackward0>) tensor(0.0899, grad_fn=<MeanBackward0>) tensor(0.0665, grad_fn=<MeanBackward0>) tensor(0.0708, grad_fn=<MeanBackward0>) tensor(0., grad_fn=<MeanBackward0>) tensor(0., grad_fn=<MeanBackward0>)\n",
      "0 13\n",
      "0 26\n",
      "tensor(0.0954, grad_fn=<MeanBackward0>) tensor(0.1660, grad_fn=<MeanBackward0>) tensor(0., grad_fn=<MeanBackward0>) tensor(0.1566, grad_fn=<MeanBackward0>) tensor(0.4365, grad_fn=<MeanBackward0>) tensor(0., grad_fn=<MeanBackward0>)\n",
      "56 87\n",
      "4 37\n",
      "tensor(0.1015, grad_fn=<MeanBackward0>) tensor(0.0859, grad_fn=<MeanBackward0>) tensor(0.2951, grad_fn=<MeanBackward0>) tensor(0.4484, grad_fn=<MeanBackward0>) tensor(0.1573, grad_fn=<MeanBackward0>) tensor(0.1459, grad_fn=<MeanBackward0>)\n",
      "37 50\n",
      "113 152\n",
      "tensor(0.1202, grad_fn=<MeanBackward0>) tensor(0.1079, grad_fn=<MeanBackward0>) tensor(0., grad_fn=<MeanBackward0>) tensor(0.0245, grad_fn=<MeanBackward0>) tensor(0.1135, grad_fn=<MeanBackward0>) tensor(0.0966, grad_fn=<MeanBackward0>)\n",
      "149 163\n",
      "0 8\n",
      "tensor(0.0805, grad_fn=<MeanBackward0>) tensor(0.0688, grad_fn=<MeanBackward0>) tensor(0.1633, grad_fn=<MeanBackward0>) tensor(0., grad_fn=<MeanBackward0>) tensor(0.0973, grad_fn=<MeanBackward0>) tensor(0.1011, grad_fn=<MeanBackward0>)\n",
      "210 221\n",
      "0 11\n",
      "tensor(0.0972, grad_fn=<MeanBackward0>) tensor(0.0825, grad_fn=<MeanBackward0>) tensor(0.1023, grad_fn=<MeanBackward0>) tensor(0., grad_fn=<MeanBackward0>) tensor(0.4453, grad_fn=<MeanBackward0>) tensor(0.3405, grad_fn=<MeanBackward0>)\n",
      "87 105\n",
      "15 26\n",
      "tensor(0.0495, grad_fn=<MeanBackward0>) tensor(0.0700, grad_fn=<MeanBackward0>) tensor(0., grad_fn=<MeanBackward0>) tensor(0.1037, grad_fn=<MeanBackward0>) tensor(0.2269, grad_fn=<MeanBackward0>) tensor(0.3865, grad_fn=<MeanBackward0>)\n",
      "29 42\n",
      "54 77\n",
      "tensor(0.0892, grad_fn=<MeanBackward0>) tensor(0.0837, grad_fn=<MeanBackward0>) tensor(0.3608, grad_fn=<MeanBackward0>) tensor(0., grad_fn=<MeanBackward0>) tensor(0., grad_fn=<MeanBackward0>) tensor(0., grad_fn=<MeanBackward0>)\n",
      "111 141\n",
      "0 10\n",
      "tensor(0.0737, grad_fn=<MeanBackward0>) tensor(0.0626, grad_fn=<MeanBackward0>) tensor(0.5460, grad_fn=<MeanBackward0>) tensor(0.3396, grad_fn=<MeanBackward0>) tensor(0.1221, grad_fn=<MeanBackward0>) tensor(0.0339, grad_fn=<MeanBackward0>)\n",
      "41 60\n",
      "52 83\n",
      "tensor(0.1230, grad_fn=<MeanBackward0>) tensor(0.1056, grad_fn=<MeanBackward0>) tensor(0., grad_fn=<MeanBackward0>) tensor(0.1844, grad_fn=<MeanBackward0>) tensor(0., grad_fn=<MeanBackward0>) tensor(0.4612, grad_fn=<MeanBackward0>)\n",
      "50 67\n",
      "0 15\n",
      "tensor(0.1214, grad_fn=<MeanBackward0>) tensor(0.1085, grad_fn=<MeanBackward0>) tensor(0., grad_fn=<MeanBackward0>) tensor(0.2629, grad_fn=<MeanBackward0>) tensor(0.3577, grad_fn=<MeanBackward0>) tensor(0., grad_fn=<MeanBackward0>)\n",
      "74 89\n",
      "0 9\n",
      "tensor(0.1264, grad_fn=<MeanBackward0>) tensor(0.0780, grad_fn=<MeanBackward0>) tensor(0.0363, grad_fn=<MeanBackward0>) tensor(0.1397, grad_fn=<MeanBackward0>) tensor(0.1050, grad_fn=<MeanBackward0>) tensor(0.1197, grad_fn=<MeanBackward0>)\n",
      "61 76\n",
      "250 291\n",
      "tensor(0.0577, grad_fn=<MeanBackward0>) tensor(0.0875, grad_fn=<MeanBackward0>) tensor(0., grad_fn=<MeanBackward0>) tensor(0.5305, grad_fn=<MeanBackward0>) tensor(0., grad_fn=<MeanBackward0>) tensor(0.5492, grad_fn=<MeanBackward0>)\n",
      "137 168\n",
      "156 182\n",
      "tensor(0.1256, grad_fn=<MeanBackward0>) tensor(0.1059, grad_fn=<MeanBackward0>) tensor(0.2135, grad_fn=<MeanBackward0>) tensor(0.1282, grad_fn=<MeanBackward0>) tensor(0.0318, grad_fn=<MeanBackward0>) tensor(0., grad_fn=<MeanBackward0>)\n",
      "128 144\n",
      "58 74\n",
      "tensor(0.0677, grad_fn=<MeanBackward0>) tensor(0.0989, grad_fn=<MeanBackward0>) tensor(0.3926, grad_fn=<MeanBackward0>) tensor(0., grad_fn=<MeanBackward0>) tensor(0., grad_fn=<MeanBackward0>) tensor(0., grad_fn=<MeanBackward0>)\n",
      "97 106\n",
      "121 164\n",
      "tensor(0.0964, grad_fn=<MeanBackward0>) tensor(0.1137, grad_fn=<MeanBackward0>) tensor(0., grad_fn=<MeanBackward0>) tensor(0.5958, grad_fn=<MeanBackward0>) tensor(0.4920, grad_fn=<MeanBackward0>) tensor(0.2377, grad_fn=<MeanBackward0>)\n",
      "Checkpoint saved at epoch 0 to audio_model_checkpoint_epoch_0.pt\n",
      "Checkpoint saved at epoch 0 to video_model_checkpoint_epoch_0.pt\n"
     ]
    }
   ],
   "source": [
    "for epoch in range(10):\n",
    "\n",
    "    total_loss = 0\n",
    "    audio_optimizer.zero_grad()\n",
    "    video_optimizer.zero_grad()\n",
    "    \n",
    "    #if epoch%2 == 1:\n",
    "    #    audio_model.eval()\n",
    "    #    video_model.train()\n",
    "    #    audio_model.train()#\n",
    "\n",
    "    #else:\n",
    "    #    video_model.eval()\n",
    "    #    audio_model.train()\n",
    "    \n",
    "    for i in range(batch_size):\n",
    "\n",
    "        try:\n",
    "            # 1. Inter-Modal Loss\n",
    "            positive_video_embedding, positive_audio_embedding, negative_video_embedding, negative_audio_embedding = get_positive_negative_embeddings(filenames, tolerance=5)\n",
    "\n",
    "            # 1.1 treating:\n",
    "            # anchor = positive_video_embedding\n",
    "            # positive = positive_audio_embedding\n",
    "            # negative = negative_audio_embedding\n",
    "            L_VA = triplet_loss(positive_video_embedding, positive_audio_embedding, negative_audio_embedding) # triplet_loss(anchor, positive, negative)\n",
    "\n",
    "            positive_video_embedding, positive_audio_embedding, negative_video_embedding, negative_audio_embedding = get_positive_negative_embeddings(filenames, tolerance=5)\n",
    "            # 1.2 treating:\n",
    "            # anchor = positive_audio_embedding\n",
    "            # positive = positive_video_embedding\n",
    "            # negative = negative_video_embedding\n",
    "            L_AV = triplet_loss(positive_audio_embedding, positive_video_embedding, negative_video_embedding) # triplet_loss(anchor, positive, negative)\n",
    "\n",
    "            # --------------------------------------------------------------------------------#\n",
    "            # 2. Intra-Modal Optical Flow Loss\n",
    "            anchor_file = np.random.choice(filenames)\n",
    "            sample_file = np.random.choice(filenames)\n",
    "\n",
    "            anchor_positive_video_embedding, anchor_negative_video_embedding = get_mined_optical_flow_embedding(anchor_file, method ='video')\n",
    "            anchor_positive_video_embedding, anchor_negative_video_embedding = get_mined_optical_flow_embedding(anchor_file, method ='video')\n",
    "\n",
    "            sample_positive_video_embedding, sample_negative_video_embedding = get_mined_optical_flow_embedding(sample_file, method ='video')\n",
    "            sample_positive_video_embedding, sample_negative_video_embedding = get_mined_optical_flow_embedding(sample_file, method ='video')\n",
    "\n",
    "            # 2.1 match maximum video optical flow ranks\n",
    "            L_rgb_pos = triplet_loss(anchor_positive_video_embedding, sample_positive_video_embedding, sample_negative_video_embedding)\n",
    "\n",
    "            # 2.2 match minimum video optical flow ranks\n",
    "            L_rgb_neg = triplet_loss(anchor_negative_video_embedding, sample_negative_video_embedding, sample_positive_video_embedding)\n",
    "\n",
    "            anchor_positive_audio_embedding, anchor_negative_audio_embedding = get_mined_optical_flow_embedding(anchor_file, method ='audio')\n",
    "            anchor_positive_audio_embedding, anchor_negative_audio_embedding = get_mined_optical_flow_embedding(anchor_file, method ='audio')\n",
    "\n",
    "            sample_positive_audio_embedding, sample_negative_audio_embedding = get_mined_optical_flow_embedding(sample_file, method ='audio')\n",
    "            sample_positive_audio_embedding, sample_negative_audio_embedding = get_mined_optical_flow_embedding(sample_file, method ='audio')\n",
    "\n",
    "            # 2.3 match maximum audio optical flow ranks\n",
    "            L_audio_pos = triplet_loss(anchor_positive_audio_embedding, sample_positive_audio_embedding, sample_negative_audio_embedding)\n",
    "\n",
    "            # 2.4 match minimum audio optical flow ranks\n",
    "            L_audio_neg = triplet_loss(anchor_negative_audio_embedding, sample_negative_audio_embedding, sample_positive_audio_embedding)\n",
    "            # ------------------------------------------------------------------------------------#\n",
    "\n",
    "            total_loss += lambda1*L_VA + lambda2*L_AV + lambda3 * L_rgb_pos + lambda4 * \\\n",
    "                          L_rgb_neg + lambda5 * L_audio_pos + lambda6 * L_audio_neg\n",
    "            print(L_VA, L_AV, L_rgb_pos, L_rgb_neg, L_audio_pos, L_audio_neg)\n",
    "        except Exception as e:\n",
    "            # This can fail for a numbr of reasons (though it rarely does).  This is a precautionary\n",
    "            print(e)\n",
    "\n",
    "    total_loss.backward()\n",
    "\n",
    "    if epoch % 100 == 0:\n",
    "        # For audio model checkpoint\n",
    "        save_checkpoint(audio_model, audio_optimizer, epoch, f\"audio_model_checkpoint_epoch_{epoch}.pt\")\n",
    "\n",
    "        # For video model checkpoint (if needed)\n",
    "        save_checkpoint(video_model, video_optimizer, epoch, f\"video_model_checkpoint_epoch_{epoch}.pt\")\n",
    "\n",
    "    break"
   ]
  },
  {
   "cell_type": "code",
   "execution_count": 843,
   "metadata": {
    "executionInfo": {
     "elapsed": 2,
     "status": "ok",
     "timestamp": 1741822765220,
     "user": {
      "displayName": "Scott Merrill",
      "userId": "10959173247837144378"
     },
     "user_tz": 240
    },
    "id": "WODYGSWttHuT"
   },
   "outputs": [
    {
     "name": "stdout",
     "output_type": "stream",
     "text": [
      "input_proj.weight - Gradient: tensor([[ 0.0106,  0.0052,  0.0052,  ...,  0.0024,  0.0071,  0.0073],\n",
      "        [-0.0026,  0.0012, -0.0003,  ..., -0.0030,  0.0017,  0.0045],\n",
      "        [-0.0015,  0.0007, -0.0017,  ...,  0.0023, -0.0023,  0.0030],\n",
      "        ...,\n",
      "        [ 0.0006, -0.0026,  0.0015,  ...,  0.0002,  0.0009,  0.0015],\n",
      "        [-0.0050, -0.0015, -0.0040,  ...,  0.0006, -0.0049, -0.0038],\n",
      "        [-0.0144, -0.0120, -0.0116,  ..., -0.0070, -0.0076, -0.0097]])\n",
      "input_proj.bias - Gradient: tensor([ 4.0692e-03,  2.3356e-03,  3.6411e-04, -2.7805e-03,  2.2637e-03,\n",
      "         1.8720e-03,  5.5155e-05, -1.8773e-03,  1.2124e-03,  1.9722e-03,\n",
      "         4.3297e-03,  6.4363e-03,  3.9036e-03,  2.5616e-03,  3.8479e-03,\n",
      "         2.0440e-03,  3.2728e-03,  5.4275e-03,  1.5608e-03,  1.2269e-03,\n",
      "        -3.5270e-04, -2.5244e-03,  3.0561e-03,  9.0718e-04,  1.3126e-03,\n",
      "         4.1526e-04,  3.9591e-03,  8.4810e-03, -3.2460e-03, -4.0519e-03,\n",
      "         5.6073e-03,  6.0498e-03, -4.0467e-04,  4.3423e-03, -9.0022e-05,\n",
      "        -7.6064e-04, -8.3674e-04,  2.3745e-04,  3.1546e-03,  3.6516e-03,\n",
      "         4.5042e-03,  7.0010e-03, -1.2347e-03,  1.0747e-03, -2.1064e-03,\n",
      "         3.8515e-05, -3.7252e-03,  7.2390e-03,  7.5614e-03,  2.6838e-03,\n",
      "        -2.1315e-03,  5.4305e-03, -1.0998e-03,  3.8134e-03,  4.3315e-03,\n",
      "        -3.5479e-03,  4.0201e-03,  1.1867e-03,  1.1258e-03,  7.3665e-04,\n",
      "        -3.6067e-03, -2.1584e-03,  6.5711e-04, -6.4835e-04, -1.2867e-03,\n",
      "         3.5558e-03,  6.6118e-04, -2.6435e-03,  3.3495e-04,  1.6205e-03,\n",
      "        -3.6145e-03,  4.2110e-03, -2.1012e-03, -1.6808e-03, -2.6850e-03,\n",
      "         4.3071e-03, -9.4625e-04,  6.1112e-03,  4.5806e-03,  2.3137e-03,\n",
      "        -3.4068e-03,  2.1880e-03, -1.8806e-04, -5.2435e-03,  1.3717e-04,\n",
      "         2.3790e-03,  3.2342e-03, -1.0256e-03, -3.3784e-03,  4.0486e-04,\n",
      "        -1.1262e-04, -1.6687e-03, -3.3733e-03,  1.0226e-02, -5.9353e-03,\n",
      "         4.1778e-03, -8.0657e-03,  1.6527e-03,  5.4353e-04,  1.8296e-04,\n",
      "        -5.4843e-04, -3.7623e-03, -3.3543e-03, -1.1641e-03, -9.8173e-04,\n",
      "         1.2028e-03, -2.5930e-05, -6.1789e-03, -2.6478e-03,  1.3959e-03,\n",
      "        -2.0374e-03, -7.8813e-03, -8.2071e-03, -6.0165e-03,  8.2202e-04,\n",
      "        -2.2074e-03,  2.5614e-03,  3.7754e-04,  1.6201e-03, -2.7454e-03,\n",
      "        -1.7693e-03, -1.2204e-03,  3.3840e-03, -6.3963e-03,  7.2200e-03,\n",
      "        -1.5490e-03, -6.4382e-03, -1.6122e-03, -2.9404e-03, -4.2472e-03,\n",
      "        -1.7468e-03, -3.7861e-03, -9.7447e-04, -1.2810e-03,  3.3193e-03,\n",
      "        -2.3315e-03, -2.7874e-03, -5.9999e-04,  4.2610e-04, -4.0277e-03,\n",
      "        -2.1218e-03, -1.4302e-03,  3.2300e-03, -5.1724e-03,  2.5971e-04,\n",
      "        -3.6685e-03,  5.4848e-03, -3.1065e-03,  2.6170e-04,  2.1081e-03,\n",
      "         2.9310e-03,  9.7771e-04,  1.4926e-03,  1.6639e-04,  4.5387e-04,\n",
      "         1.8818e-03, -2.4627e-03, -1.2386e-02,  5.5150e-04, -4.7059e-03,\n",
      "        -9.8579e-04,  5.1934e-04, -7.0348e-03, -5.5679e-03,  3.3436e-03,\n",
      "        -3.6120e-04, -6.0011e-04, -6.1248e-03,  3.2519e-03, -5.9739e-03,\n",
      "        -2.8981e-03,  2.3327e-04, -3.0477e-04, -4.2216e-03,  2.3265e-03,\n",
      "        -5.1757e-03,  7.4642e-03, -1.8177e-03,  3.3584e-03, -2.4223e-03,\n",
      "        -3.8815e-04, -3.4970e-03,  2.6412e-03,  1.1665e-03, -1.0472e-04,\n",
      "        -2.8416e-03,  4.7267e-03, -4.5608e-03, -3.2516e-03,  1.3045e-03,\n",
      "         4.4996e-03, -1.9233e-03,  4.9936e-04, -4.7967e-03, -7.3185e-04,\n",
      "        -5.0385e-03,  2.0636e-03, -1.4627e-03, -2.7169e-03, -6.7058e-03,\n",
      "         3.6256e-03, -6.2295e-03,  2.6460e-03, -2.6195e-03,  3.8798e-03,\n",
      "        -7.9859e-03,  5.8468e-03, -3.9404e-03,  1.8917e-03, -5.0616e-03,\n",
      "         5.5650e-03, -8.2759e-03,  1.3439e-03, -1.7329e-03,  2.2002e-03,\n",
      "        -1.0049e-02, -1.2201e-03, -1.8537e-03,  1.7657e-03,  4.1967e-03,\n",
      "        -1.1391e-03, -2.3383e-03,  5.0712e-03, -1.3690e-03,  2.4919e-04,\n",
      "        -6.1781e-03,  3.9305e-03,  5.8386e-03, -2.9460e-04,  1.1739e-03,\n",
      "         2.7575e-04, -7.9027e-03,  2.1241e-03, -1.8801e-03,  4.7797e-03,\n",
      "        -5.3994e-03, -1.0027e-04, -1.6876e-03,  1.0861e-03, -7.5513e-03,\n",
      "         5.8391e-03, -4.3641e-03,  4.9721e-03, -1.4967e-03,  1.4008e-03,\n",
      "        -7.4321e-03,  4.9978e-03, -2.0583e-04,  3.8523e-03,  2.8619e-03,\n",
      "         2.0748e-03, -4.7722e-03, -1.0350e-03, -2.2405e-03,  5.9080e-03,\n",
      "        -4.0884e-04])\n",
      "transformer.layers.0.self_attn.in_proj_weight - Gradient: tensor([[ 2.7711e-05, -7.2994e-05,  9.0456e-06,  ...,  5.3935e-05,\n",
      "         -8.0705e-06,  8.5628e-05],\n",
      "        [ 9.8810e-05, -2.8101e-04,  2.1687e-05,  ...,  1.0275e-03,\n",
      "         -1.7407e-04,  5.7465e-04],\n",
      "        [ 1.3298e-04, -3.2506e-04,  3.8232e-05,  ...,  1.7396e-03,\n",
      "         -1.9999e-04,  1.1397e-03],\n",
      "        ...,\n",
      "        [ 8.5601e-03,  5.0024e-03,  7.5167e-03,  ...,  1.0291e-03,\n",
      "          1.3480e-03,  4.0676e-03],\n",
      "        [-3.7829e-03, -5.3333e-03, -2.4558e-03,  ...,  4.6741e-05,\n",
      "         -6.0786e-04, -3.5280e-03],\n",
      "        [ 2.9086e-03, -2.7724e-03, -1.4273e-03,  ...,  3.5193e-03,\n",
      "         -1.5661e-03,  2.6884e-03]])\n",
      "transformer.layers.0.self_attn.in_proj_bias - Gradient: tensor([ 6.4509e-05,  8.6338e-04,  1.5217e-03, -4.2184e-04, -1.1383e-03,\n",
      "        -3.0886e-03,  5.1264e-06,  5.0279e-04,  6.0385e-04,  1.4274e-03,\n",
      "        -2.1120e-03,  2.8355e-04,  7.8015e-04,  1.3254e-03,  8.2047e-04,\n",
      "        -1.4777e-03,  1.2718e-03, -1.0514e-03,  9.0043e-04,  1.5625e-03,\n",
      "         6.9464e-04, -2.7517e-04,  3.3648e-04,  2.4715e-03,  1.7072e-03,\n",
      "         9.7049e-04,  5.8200e-04,  1.3613e-03, -2.2820e-03,  9.0403e-04,\n",
      "         5.3381e-05,  1.2084e-03, -2.6335e-03,  7.3580e-04, -6.8052e-04,\n",
      "         2.0401e-03, -4.4186e-04,  8.3585e-04, -1.6594e-03,  4.4278e-04,\n",
      "         3.1238e-03, -5.7244e-04,  8.8800e-04, -1.5893e-04,  7.6134e-04,\n",
      "         3.9249e-04, -2.1940e-03,  1.4579e-03, -2.3876e-04,  1.7689e-04,\n",
      "         1.2095e-04,  1.8528e-03,  1.8379e-03, -8.7197e-05,  2.3922e-03,\n",
      "         7.7228e-04, -2.4983e-03,  9.6844e-04,  3.4549e-03,  8.4970e-04,\n",
      "         9.8126e-04,  1.1290e-03,  1.7063e-04,  9.5642e-04, -1.1052e-03,\n",
      "         5.1856e-04, -1.3175e-03,  4.7968e-04, -1.3286e-03, -1.5182e-04,\n",
      "        -4.8591e-03,  7.8311e-04,  1.3454e-03,  1.0289e-03,  5.7269e-04,\n",
      "         1.1214e-03, -1.8114e-03, -2.7029e-03,  1.5333e-03, -4.2389e-04,\n",
      "        -1.8524e-03, -4.7127e-04, -1.2526e-03, -1.1806e-03,  2.3061e-03,\n",
      "        -3.9891e-04, -7.0962e-04, -1.5244e-04,  5.2930e-04,  8.7766e-05,\n",
      "        -2.5406e-03,  6.8651e-04, -2.4949e-03, -7.4123e-04,  1.2962e-04,\n",
      "        -2.9306e-03,  2.9538e-04,  6.5347e-05, -8.7677e-04, -1.8166e-03,\n",
      "         1.7421e-03, -2.1067e-04,  1.8018e-03,  7.2615e-05,  5.3710e-04,\n",
      "         1.7100e-03, -1.9219e-03, -9.3907e-04,  8.0058e-04, -2.9746e-04,\n",
      "         6.8089e-04, -1.5192e-03,  1.2343e-03, -2.9050e-05,  2.8828e-03,\n",
      "         1.1403e-04,  5.3442e-04,  1.3243e-03,  1.5202e-03, -8.5502e-04,\n",
      "         2.4025e-03,  1.8010e-03, -6.9882e-04, -2.3599e-04, -1.6329e-05,\n",
      "        -7.7062e-05,  2.4580e-03,  4.5489e-04,  7.3726e-04,  1.1191e-03,\n",
      "         6.5816e-05,  2.2616e-04, -7.5416e-05,  4.5478e-04, -2.4738e-03,\n",
      "         1.4776e-03, -2.8536e-03,  1.2510e-03, -1.4648e-03, -4.8518e-04,\n",
      "         9.5811e-04, -4.6159e-04, -9.9405e-04, -3.3596e-03, -1.5553e-03,\n",
      "         1.8166e-03,  1.2944e-03, -6.1765e-04,  8.6229e-04, -1.7407e-04,\n",
      "         1.2689e-04,  1.0178e-04,  2.1562e-03, -1.0465e-03,  1.1583e-03,\n",
      "         3.9122e-04, -2.2257e-03,  1.1799e-03,  6.3495e-04, -2.5376e-04,\n",
      "         1.2593e-03,  1.4559e-03, -1.2188e-03, -4.0084e-04, -1.2125e-04,\n",
      "        -6.3656e-04, -9.5967e-04,  8.4639e-04,  2.9973e-03, -1.7723e-03,\n",
      "        -3.6404e-04, -1.1896e-03,  4.5900e-04, -1.8962e-03, -1.6516e-03,\n",
      "         1.4707e-03,  1.0791e-03, -3.7840e-04,  2.2053e-03, -2.0937e-03,\n",
      "         2.5967e-04, -2.4542e-05,  1.5685e-03,  7.0331e-04,  4.3928e-04,\n",
      "         1.2884e-04,  1.4041e-03,  6.2558e-04,  4.8206e-04,  9.7410e-04,\n",
      "         4.2501e-04, -2.4107e-03, -3.0339e-03, -1.7052e-03,  1.3464e-03,\n",
      "        -1.4048e-03, -2.6933e-03, -2.7927e-03, -1.0298e-03,  6.1604e-04,\n",
      "         7.4242e-04,  1.1645e-03, -2.6350e-03, -1.3091e-03, -7.1652e-04,\n",
      "        -7.2762e-04,  1.9186e-03, -6.5253e-04,  2.8667e-03, -2.5112e-04,\n",
      "        -2.0906e-04, -1.3261e-03, -8.6969e-04, -2.1868e-03, -3.2410e-03,\n",
      "         1.2642e-03, -1.5251e-03, -2.3625e-03,  2.1230e-05, -2.9301e-04,\n",
      "        -1.3726e-03,  1.8678e-03, -7.6936e-04,  5.8651e-05,  8.9435e-04,\n",
      "        -1.9248e-04,  8.9140e-04,  3.8644e-04,  1.2745e-03,  2.0835e-03,\n",
      "         2.6214e-03, -1.4895e-04, -2.1842e-03,  2.0568e-03,  1.2265e-03,\n",
      "         6.1766e-05,  7.3350e-04,  1.2799e-06, -5.0732e-04,  1.0068e-03,\n",
      "        -2.5728e-03, -6.0498e-04,  1.3800e-03, -2.8638e-03, -1.0711e-03,\n",
      "         6.6568e-04,  1.1510e-03, -1.4029e-03,  3.5722e-04, -1.6984e-03,\n",
      "        -1.6341e-03,  3.4891e-04,  1.8356e-03,  6.2984e-04, -2.4940e-03,\n",
      "         6.9437e-05,  9.9366e-11,  9.6197e-11,  1.2097e-10,  8.5950e-11,\n",
      "        -2.4101e-10, -4.2917e-11,  1.3150e-11,  2.7697e-11,  2.8986e-10,\n",
      "        -3.6419e-10,  4.4773e-10, -1.6237e-10,  1.1311e-10, -1.6323e-10,\n",
      "         8.9795e-11,  1.5725e-12,  1.6648e-10, -1.7137e-10, -3.4276e-10,\n",
      "        -4.6688e-11, -8.2448e-11, -1.3838e-10,  3.7010e-11, -1.5230e-11,\n",
      "         3.0650e-10,  1.4651e-10,  1.3426e-10, -1.4280e-10, -2.1878e-10,\n",
      "        -5.0946e-11,  2.0573e-10, -3.4774e-11,  1.2437e-10,  1.6837e-10,\n",
      "         1.6519e-10, -7.5651e-11, -2.9215e-11, -7.0437e-12, -8.1793e-11,\n",
      "        -1.8882e-10,  2.7111e-11, -2.5636e-11,  7.6605e-13,  3.3548e-11,\n",
      "        -1.0290e-10, -1.9223e-10, -1.8542e-10,  1.9588e-10,  7.9380e-11,\n",
      "         4.0573e-10, -2.5708e-11, -5.4857e-11,  2.3513e-10,  5.4929e-11,\n",
      "         1.9781e-10,  1.1583e-10,  1.5018e-10, -1.4125e-10, -5.5638e-11,\n",
      "         7.9518e-11, -3.5141e-10, -2.7928e-11,  2.9567e-10, -1.3098e-10,\n",
      "        -4.1072e-10,  5.4314e-11,  1.4678e-10,  1.4329e-10, -5.6176e-11,\n",
      "        -1.2621e-10,  1.3207e-10, -3.8831e-11, -3.0262e-11, -1.5206e-10,\n",
      "        -3.0163e-11, -1.3005e-10,  1.1785e-10,  3.5778e-11, -4.2446e-11,\n",
      "         3.9736e-10,  1.3759e-10,  2.1657e-10,  6.5713e-10, -5.6271e-11,\n",
      "         2.9907e-11, -1.2173e-10,  1.3979e-10,  8.4679e-12, -2.5835e-10,\n",
      "        -4.8956e-10,  8.0393e-11,  1.3537e-10, -8.6128e-11,  2.1348e-10,\n",
      "         1.4639e-10,  1.2392e-10,  1.2403e-10,  2.7710e-10,  1.1846e-10,\n",
      "        -5.3937e-11, -7.1584e-11,  3.3647e-11,  4.5000e-10,  1.5133e-10,\n",
      "        -1.9210e-10,  2.6066e-10,  7.8394e-11,  5.3094e-11,  1.2101e-11,\n",
      "        -6.4217e-10,  8.4905e-11,  9.4701e-11,  1.7935e-10,  3.7696e-10,\n",
      "        -1.5812e-10, -1.2104e-10, -2.8769e-10,  1.2900e-11,  1.2267e-10,\n",
      "         3.8677e-10,  1.3790e-10,  1.1437e-10,  6.6551e-11, -1.1033e-10,\n",
      "         2.3021e-10,  5.9446e-11,  8.0764e-11,  4.3173e-10,  1.9330e-11,\n",
      "         1.7912e-10, -5.1295e-11, -1.4538e-11,  7.9151e-11,  9.6634e-12,\n",
      "        -1.8219e-11,  1.5976e-10,  1.9848e-11, -4.9802e-11,  1.0536e-10,\n",
      "         1.4317e-10, -5.9536e-11, -2.3795e-10,  3.5575e-10,  3.3529e-10,\n",
      "        -8.2245e-12,  1.6333e-10, -2.0506e-10, -3.2123e-10,  5.6087e-11,\n",
      "        -1.3746e-10, -6.8534e-10, -4.5075e-11,  3.0891e-10, -1.5680e-10,\n",
      "         2.4352e-10,  2.9260e-10,  1.9097e-10,  8.4420e-11,  1.8032e-11,\n",
      "         4.0443e-10, -5.5245e-11,  7.4699e-10,  4.8335e-10,  2.3330e-11,\n",
      "         1.2517e-10,  4.5726e-10,  5.7199e-13, -3.2239e-11,  1.4345e-10,\n",
      "        -3.7051e-10, -4.1116e-11, -1.5456e-10,  2.7676e-10, -1.1202e-10,\n",
      "        -2.7754e-10,  1.0154e-10,  6.0254e-10, -1.5899e-10, -2.6617e-11,\n",
      "        -1.1000e-10,  2.6198e-10, -2.0320e-10,  4.2139e-10, -4.5091e-11,\n",
      "        -1.7859e-10, -6.1394e-11,  2.8680e-10,  1.1500e-10, -3.2370e-10,\n",
      "        -3.0888e-10,  3.3670e-10,  1.9895e-11, -4.6520e-11,  6.0521e-11,\n",
      "         4.6851e-11, -8.7292e-11, -7.3513e-11,  3.6434e-10,  1.1455e-10,\n",
      "         3.9869e-11, -1.7150e-10,  4.2289e-11,  8.3890e-11, -3.7874e-11,\n",
      "        -2.2221e-10,  3.3899e-10,  2.1903e-10, -1.5168e-10, -4.8234e-11,\n",
      "         1.0722e-10,  1.2010e-10,  5.5739e-11, -1.4363e-10, -8.7357e-10,\n",
      "        -1.7078e-11,  5.7328e-11, -1.1484e-11,  1.3594e-10,  3.6685e-10,\n",
      "         5.1110e-10,  1.9609e-11,  6.9526e-11, -4.3444e-10, -6.7171e-11,\n",
      "         8.2556e-11,  3.3294e-11,  5.3255e-10, -2.8021e-11, -3.6756e-10,\n",
      "        -2.3855e-10, -1.3034e-10,  8.1042e-10, -3.6749e-11, -2.0269e-10,\n",
      "         1.2256e-10, -8.4616e-10,  1.1549e-10, -8.0252e-11,  1.2921e-11,\n",
      "        -7.2209e-11,  3.4323e-11, -4.4690e-11,  2.0662e-10, -2.0236e-10,\n",
      "        -2.5238e-10, -4.8921e-12,  4.5759e-12, -1.6038e-10, -6.1079e-10,\n",
      "         8.5027e-11,  1.1836e-09, -1.8851e-10,  9.1038e-11,  2.1725e-11,\n",
      "         1.3345e-10,  1.4634e-10, -6.5609e-04, -3.4155e-03,  5.5738e-03,\n",
      "         3.7585e-06,  3.6608e-04,  3.2246e-04,  7.1093e-04, -4.3540e-04,\n",
      "        -1.7156e-03, -1.4556e-03, -1.2639e-03, -1.3992e-03,  4.4856e-04,\n",
      "        -2.0757e-04, -7.6474e-04, -9.5596e-04,  1.1370e-03,  8.2321e-04,\n",
      "         2.8347e-03,  1.6793e-03, -1.0094e-03,  3.2076e-04, -5.4546e-05,\n",
      "        -3.7070e-04, -1.9676e-03, -3.4350e-03,  7.7011e-04,  1.9548e-03,\n",
      "         1.4794e-03,  1.5761e-03, -1.1246e-03, -8.2033e-04,  4.4000e-03,\n",
      "        -3.2615e-03, -1.2724e-03, -4.9835e-04, -3.1252e-03, -5.7880e-04,\n",
      "         3.0631e-03, -1.1094e-03,  5.8364e-04,  2.7206e-03,  1.5126e-03,\n",
      "        -1.3828e-03, -4.3957e-03,  6.4117e-06, -3.0553e-03, -5.4395e-04,\n",
      "        -2.9359e-03, -3.2843e-04, -2.2408e-03,  1.0809e-03, -3.3138e-03,\n",
      "        -1.3612e-03,  1.8973e-03,  1.8974e-03,  5.4446e-03, -1.9129e-03,\n",
      "        -3.0527e-03, -3.6795e-03, -2.7219e-04, -4.1059e-03,  2.4727e-03,\n",
      "         3.0196e-04, -7.2829e-04, -7.0902e-04,  1.6075e-03, -4.4261e-03,\n",
      "        -2.3983e-03,  4.8002e-04, -1.2172e-05, -3.7941e-03,  1.8114e-03,\n",
      "        -8.4963e-04, -7.6835e-04,  9.0695e-04, -7.1285e-05,  1.1586e-03,\n",
      "        -4.1783e-04, -1.4653e-03,  2.3983e-04,  9.2064e-04, -8.8355e-06,\n",
      "         3.9970e-04,  1.2847e-03, -7.3894e-05,  2.3318e-03, -2.8606e-03,\n",
      "         1.8185e-03, -2.4300e-04,  1.6605e-03,  2.0835e-03, -1.1713e-04,\n",
      "         3.4529e-03, -2.0500e-03, -3.3574e-04, -1.4225e-03,  2.0393e-04,\n",
      "        -5.3426e-04,  1.9335e-03, -1.3432e-03, -1.2472e-03, -1.4754e-04,\n",
      "        -2.7481e-03, -2.5847e-03,  2.3448e-03, -5.6625e-04,  3.6997e-03,\n",
      "         2.3628e-04,  2.8125e-03,  2.8415e-03,  1.1815e-03, -3.8918e-04,\n",
      "         1.1960e-03, -1.0928e-03, -4.2238e-03,  7.9113e-04, -4.3281e-03,\n",
      "         6.1206e-04,  1.8991e-03,  2.5727e-03, -1.8421e-03, -4.7378e-04,\n",
      "         2.3699e-04, -3.4147e-03,  9.5872e-04,  2.2575e-04, -3.4074e-03,\n",
      "        -7.0522e-04,  9.4520e-04, -1.8863e-03, -9.2746e-04, -2.5569e-03,\n",
      "         1.3698e-03, -1.6797e-03,  9.4380e-04, -4.8392e-04,  1.0702e-03,\n",
      "         4.7444e-04, -1.9231e-05, -2.0023e-03, -2.6740e-03, -1.0278e-03,\n",
      "         4.0332e-03,  3.5732e-04,  3.9522e-03,  1.1935e-04,  1.8910e-03,\n",
      "        -1.8468e-03, -3.7024e-03, -2.3390e-04,  7.7099e-04, -3.0439e-04,\n",
      "         1.7506e-03, -2.7389e-03,  2.6513e-03, -2.5645e-03,  1.3463e-03,\n",
      "        -1.7979e-03, -1.8944e-03,  8.6253e-04, -3.0519e-03, -7.7519e-04,\n",
      "        -5.4196e-04, -2.5904e-03,  1.3568e-03, -4.0618e-04, -2.7504e-03,\n",
      "        -1.6839e-04,  1.3253e-03,  3.0666e-03, -3.6492e-03,  2.4890e-03,\n",
      "        -1.5051e-03,  7.7564e-05, -1.0525e-03, -4.0477e-03, -3.2383e-03,\n",
      "        -1.3653e-03,  2.8317e-03, -3.5552e-03, -1.2749e-03, -1.1839e-03,\n",
      "        -5.4601e-04, -5.6901e-04, -6.1742e-04, -1.9006e-03, -1.8897e-03,\n",
      "         5.3987e-03,  3.0243e-03, -1.5460e-03,  4.1070e-05,  6.9723e-04,\n",
      "        -4.7364e-04, -1.1330e-03,  3.4797e-03, -3.8595e-03, -3.2107e-03,\n",
      "         3.3525e-03,  7.6556e-04, -8.5178e-04,  4.8448e-03, -1.2162e-03,\n",
      "        -2.3507e-03,  1.8825e-04,  1.3962e-03, -2.8764e-03, -3.6220e-03,\n",
      "        -2.1156e-03, -6.0543e-05,  2.2796e-03, -3.6796e-04,  4.0981e-04,\n",
      "        -2.0861e-04,  5.6897e-04,  6.6241e-04,  4.5258e-03,  1.0123e-03,\n",
      "         3.3751e-03, -2.0649e-03, -1.5566e-03,  1.3816e-03,  1.0164e-03,\n",
      "         1.6590e-03,  4.9558e-03,  4.2206e-05, -4.7533e-04, -2.0075e-04,\n",
      "        -2.0767e-03,  2.3189e-03, -8.4211e-04,  3.6570e-03,  1.2027e-03,\n",
      "         2.5292e-04,  4.3627e-03, -5.4730e-04,  1.9214e-04,  7.5018e-04,\n",
      "         1.4971e-03, -2.4003e-03, -1.5578e-03,  1.1432e-03,  1.0797e-03,\n",
      "        -1.6945e-03,  2.3683e-03,  3.7590e-03, -1.7078e-04, -8.0446e-04,\n",
      "         1.3315e-03,  1.1132e-03,  1.7643e-03,  3.1113e-03,  3.7799e-03,\n",
      "         1.9929e-03, -9.4170e-04,  4.7001e-03])\n",
      "transformer.layers.0.self_attn.out_proj.weight - Gradient: tensor([[-5.7131e-03, -1.6662e-02, -3.8250e-03,  ..., -9.2819e-03,\n",
      "          1.1835e-03, -5.0629e-03],\n",
      "        [ 7.0135e-03,  1.1055e-02,  1.1585e-03,  ...,  8.3332e-03,\n",
      "         -4.5687e-03, -2.9559e-03],\n",
      "        [ 3.7829e-03,  4.3196e-03,  2.9253e-03,  ...,  4.9696e-03,\n",
      "          3.1953e-03,  5.1805e-03],\n",
      "        ...,\n",
      "        [ 1.5385e-03,  6.3899e-04, -3.9352e-03,  ..., -5.5058e-05,\n",
      "         -1.1889e-03, -5.0873e-03],\n",
      "        [ 8.2731e-03,  2.6500e-03, -3.4262e-03,  ...,  5.6961e-03,\n",
      "         -1.5015e-03, -2.5917e-03],\n",
      "        [ 2.2974e-02,  3.2098e-02,  5.6906e-03,  ...,  2.4592e-02,\n",
      "         -4.7119e-04,  2.0667e-03]])\n",
      "transformer.layers.0.self_attn.out_proj.bias - Gradient: tensor([ 1.5759e-03, -6.9477e-04, -1.3178e-03, -2.7876e-03,  2.9714e-03,\n",
      "         3.1957e-03,  1.1340e-03, -5.7453e-04,  3.7834e-03, -1.9083e-04,\n",
      "         3.3993e-04,  8.0575e-03,  4.3530e-03,  7.1415e-05,  5.7310e-04,\n",
      "         1.8369e-03,  2.6541e-03,  4.6802e-03, -2.1451e-03,  3.9702e-03,\n",
      "         3.8090e-03, -4.4607e-03,  2.8485e-03,  3.2797e-03,  2.2899e-03,\n",
      "        -7.1726e-04,  5.4315e-03,  8.1369e-03, -3.0552e-03,  9.8293e-04,\n",
      "         6.5029e-03,  7.5513e-03,  2.1319e-04,  4.8290e-03, -3.9620e-04,\n",
      "         1.8075e-04, -2.9508e-04,  1.7272e-03,  3.4418e-03,  5.1762e-03,\n",
      "         5.2257e-03,  6.6120e-03, -3.6222e-03,  1.5083e-03, -6.5662e-04,\n",
      "         1.8316e-03, -4.1903e-03, -7.0911e-04,  9.3827e-03, -1.3269e-03,\n",
      "        -2.7562e-03,  6.1045e-03, -3.7568e-03,  3.9075e-04,  2.6480e-03,\n",
      "        -3.2535e-04,  3.4360e-03, -1.1818e-03,  2.4311e-03, -1.5989e-03,\n",
      "        -9.2730e-04, -9.7020e-04,  5.3254e-04, -6.6843e-04, -2.6750e-03,\n",
      "         2.0437e-04,  3.4772e-03,  7.2007e-04, -9.9941e-04,  2.1955e-03,\n",
      "        -3.4336e-03,  4.2061e-03,  8.8057e-04, -1.8876e-04, -8.8030e-05,\n",
      "         9.8448e-04,  1.0895e-03,  5.9288e-03,  2.2820e-03,  1.7546e-03,\n",
      "        -1.7972e-03,  1.7687e-03,  2.7898e-03, -3.3728e-03,  1.9658e-03,\n",
      "         4.3892e-03,  3.8671e-03, -2.1328e-03, -3.2937e-03, -4.8517e-04,\n",
      "         4.7426e-03, -1.1133e-03, -2.7527e-03,  1.1556e-02, -3.5773e-03,\n",
      "         3.8457e-03, -9.2011e-03, -4.6614e-04, -1.8871e-03,  4.2826e-03,\n",
      "        -1.0049e-03, -3.4070e-03, -3.8409e-04,  3.4409e-03, -1.4295e-04,\n",
      "        -1.5123e-03, -1.3447e-05,  7.6226e-04, -2.7401e-03,  2.0797e-03,\n",
      "        -6.5503e-04, -4.2738e-03, -2.2866e-03, -3.2593e-03,  1.1512e-03,\n",
      "        -1.8499e-03,  4.4998e-03,  3.1960e-04, -5.1353e-04, -3.8286e-03,\n",
      "         1.5149e-03, -2.4499e-03,  3.3050e-03, -7.7710e-03,  6.4462e-03,\n",
      "        -7.0455e-04, -4.2837e-03, -5.7119e-04, -1.3194e-03, -3.1345e-03,\n",
      "        -2.5099e-03, -1.6069e-03, -1.1152e-03,  8.1260e-04,  3.5710e-04,\n",
      "        -3.7339e-03, -4.6927e-03, -1.6103e-03, -1.1241e-04, -5.8975e-03,\n",
      "        -1.4141e-03, -3.8597e-03,  4.4209e-03,  9.8419e-05, -9.8319e-04,\n",
      "        -6.2106e-03,  5.2535e-03, -3.6604e-03,  1.7021e-03,  2.5963e-03,\n",
      "         3.8655e-03, -2.2863e-04,  1.1198e-03,  6.7394e-04, -9.1053e-04,\n",
      "        -1.8532e-03, -2.3348e-03, -7.7487e-03, -1.6530e-03, -5.1316e-03,\n",
      "        -4.1244e-04,  1.0983e-04, -8.9144e-03, -3.1749e-03,  6.6932e-03,\n",
      "        -1.3870e-03, -2.8859e-03, -5.9516e-03,  1.6738e-03, -7.0598e-03,\n",
      "        -3.1239e-03, -2.0436e-03,  9.7184e-04, -7.2076e-03,  1.0133e-03,\n",
      "        -5.4801e-03,  2.4322e-03,  1.5711e-03,  6.1599e-03,  1.0482e-04,\n",
      "        -1.6786e-03, -1.3859e-03, -1.1041e-03,  2.1911e-03,  5.7898e-04,\n",
      "        -3.8824e-03,  8.3791e-04, -1.6786e-03, -2.0742e-03, -2.2208e-03,\n",
      "         5.2431e-03, -2.4731e-03,  6.9975e-04, -2.9391e-03,  4.8846e-03,\n",
      "        -4.8771e-03,  1.2068e-03, -1.7346e-03, -1.5619e-03, -5.4890e-03,\n",
      "         3.1541e-03, -1.7598e-03,  8.6540e-04, -4.5848e-03,  4.0056e-03,\n",
      "        -6.8452e-03,  4.2789e-03, -2.8585e-03,  1.7895e-03, -4.6227e-03,\n",
      "         7.7680e-03, -1.1042e-02, -4.9026e-05, -4.6104e-05,  3.3566e-03,\n",
      "        -3.9105e-03,  6.5706e-04, -2.6358e-03, -1.7098e-03, -4.5962e-04,\n",
      "         1.5924e-03, -7.2230e-04,  4.5133e-03, -1.1978e-03, -3.1447e-03,\n",
      "        -7.3952e-03,  2.5495e-03,  3.7325e-03, -1.7720e-03,  3.2896e-03,\n",
      "        -2.1450e-03, -6.7438e-03, -2.7277e-03, -1.9359e-03,  2.8175e-03,\n",
      "        -7.1505e-03,  1.2156e-03, -1.6240e-03,  1.8798e-03, -6.0971e-03,\n",
      "         2.0749e-03, -5.8467e-03,  4.2613e-03, -7.3155e-04,  3.5461e-04,\n",
      "        -5.6472e-03,  4.8033e-03,  3.1200e-03,  3.1217e-03,  1.0256e-03,\n",
      "         4.6045e-03, -4.4308e-03,  3.2794e-03,  6.5221e-04,  7.1058e-03,\n",
      "         1.4237e-03])\n",
      "transformer.layers.0.linear1.weight - Gradient: tensor([[ 4.3714e-04,  1.5525e-04,  3.4227e-04,  ..., -4.0329e-04,\n",
      "          9.1154e-05,  1.9766e-04],\n",
      "        [-4.4893e-04,  9.7191e-05, -1.6187e-04,  ..., -1.6027e-05,\n",
      "          3.3002e-05,  2.2822e-04],\n",
      "        [-5.6082e-05, -1.6924e-04,  6.2144e-05,  ...,  5.3637e-06,\n",
      "         -2.6540e-05,  9.7538e-05],\n",
      "        ...,\n",
      "        [ 1.0627e-03,  5.4464e-04,  7.3750e-04,  ..., -1.3276e-05,\n",
      "          2.9542e-04, -2.5729e-04],\n",
      "        [ 5.5637e-04,  1.9880e-03,  1.5854e-03,  ...,  3.3147e-06,\n",
      "         -7.2315e-04,  8.4366e-04],\n",
      "        [-1.5051e-04, -3.5750e-04, -6.1095e-04,  ...,  2.1823e-04,\n",
      "         -3.2389e-04,  2.2748e-04]])\n",
      "transformer.layers.0.linear1.bias - Gradient: tensor([-3.6959e-04,  1.2059e-04,  7.1573e-05,  ..., -7.4874e-04,\n",
      "        -5.3230e-04,  2.4264e-04])\n",
      "transformer.layers.0.linear2.weight - Gradient: tensor([[ 1.6778e-03,  1.0774e-03,  6.2985e-05,  ...,  5.1408e-03,\n",
      "          6.1162e-03,  1.5985e-03],\n",
      "        [ 4.8521e-04, -2.6853e-04,  1.6349e-05,  ..., -1.0545e-03,\n",
      "         -1.8824e-03, -9.0828e-04],\n",
      "        [-1.1912e-03,  5.5894e-04,  1.3744e-05,  ..., -2.8249e-03,\n",
      "         -2.0372e-03,  1.4088e-04],\n",
      "        ...,\n",
      "        [-4.7828e-04,  1.6179e-04,  1.5934e-05,  ..., -2.2201e-03,\n",
      "         -2.0980e-04,  8.4134e-04],\n",
      "        [ 1.8999e-03,  4.4717e-05,  6.4189e-05,  ..., -6.9640e-04,\n",
      "          1.5791e-03,  1.3158e-04],\n",
      "        [ 5.8186e-04,  1.4313e-04, -4.4897e-06,  ..., -4.9897e-03,\n",
      "         -6.1908e-03, -2.4800e-03]])\n",
      "transformer.layers.0.linear2.bias - Gradient: tensor([ 5.4269e-03,  4.0793e-04, -1.0232e-03, -1.9078e-03,  1.6617e-03,\n",
      "         3.9965e-03,  1.5824e-03, -5.5737e-04,  5.9864e-04,  1.9258e-03,\n",
      "         4.3476e-04,  1.9542e-03,  2.3864e-03,  1.1439e-03,  1.0508e-03,\n",
      "         4.0014e-04,  2.1218e-03,  3.9390e-03, -3.0345e-03,  1.7346e-03,\n",
      "         1.4387e-03, -2.7169e-04,  1.8855e-03,  2.3367e-03,  4.5013e-04,\n",
      "        -1.0156e-03,  1.0235e-03,  4.1137e-03, -1.5375e-03, -1.7983e-03,\n",
      "         3.7270e-03,  4.7818e-03, -4.0928e-04,  2.1885e-03,  1.1512e-03,\n",
      "         2.0676e-04, -8.6570e-04,  2.6437e-03,  1.0685e-03,  2.8142e-03,\n",
      "         1.5256e-03,  3.2060e-03, -7.3410e-04,  9.7962e-04,  4.3097e-04,\n",
      "         1.5175e-03, -3.6651e-03,  1.6972e-03,  2.1873e-03,  9.3776e-04,\n",
      "        -1.2446e-03,  3.9165e-03, -1.2473e-04, -6.5959e-05,  1.9805e-03,\n",
      "        -2.2797e-03,  9.5630e-04,  8.3449e-04,  1.6019e-03, -1.6489e-03,\n",
      "        -1.5249e-03, -2.0065e-03, -1.8828e-04,  4.8867e-04, -1.0868e-03,\n",
      "         5.7092e-04,  3.9821e-04,  4.3557e-04, -1.7781e-03,  2.5443e-03,\n",
      "        -2.4834e-03,  3.7298e-03, -1.2941e-03, -9.0933e-04, -2.4287e-04,\n",
      "         1.7504e-03, -2.6183e-04,  3.9153e-03,  4.4409e-03,  2.2434e-03,\n",
      "        -1.5635e-03, -7.1407e-04,  6.4387e-04, -9.9189e-04,  3.4120e-04,\n",
      "         8.7673e-04,  1.8899e-03, -9.0456e-04, -3.3731e-03,  1.4758e-03,\n",
      "         1.1758e-04,  1.8061e-03, -2.7624e-03,  6.5538e-03, -1.8804e-03,\n",
      "         2.4564e-03, -5.3468e-03,  3.3604e-03, -1.8702e-03,  1.7805e-03,\n",
      "        -3.1886e-03, -1.4674e-03, -8.0908e-04,  8.9814e-04,  7.8422e-05,\n",
      "        -1.5519e-03, -2.1490e-04,  1.0187e-03, -2.6565e-03,  1.2768e-03,\n",
      "         2.8890e-04, -3.0649e-03, -2.6532e-03, -2.0065e-03, -2.8190e-04,\n",
      "        -2.5131e-04,  1.9685e-03,  5.5031e-04, -1.6707e-04, -2.9014e-03,\n",
      "        -9.7758e-05,  1.7554e-04,  2.3503e-03, -4.0284e-03,  2.9860e-03,\n",
      "        -6.7577e-04, -9.4044e-04, -2.1244e-03, -6.0885e-04, -2.1932e-03,\n",
      "        -4.3538e-04, -2.5616e-03, -1.3054e-03, -2.3591e-03,  1.9534e-03,\n",
      "        -1.2171e-03, -1.7962e-03, -1.2073e-03,  1.4177e-04, -3.3970e-03,\n",
      "         8.0242e-04, -1.8037e-03,  1.8886e-03, -1.4337e-03,  4.9950e-04,\n",
      "        -4.1780e-03,  2.7163e-03, -7.4087e-04,  1.6513e-04,  1.1730e-03,\n",
      "         5.6120e-04,  2.0175e-03,  5.6170e-04,  1.7173e-03, -6.5735e-04,\n",
      "        -6.2205e-04, -1.5310e-03, -3.1885e-03, -3.3763e-04, -1.5599e-03,\n",
      "        -4.0807e-04,  8.8977e-04, -5.6289e-03, -2.7028e-03,  2.8906e-03,\n",
      "        -1.7397e-03, -2.4381e-03, -5.6834e-03,  3.9838e-03, -3.6245e-03,\n",
      "        -1.6066e-03, -1.5282e-03,  1.7058e-04, -3.3212e-03,  1.6773e-03,\n",
      "        -2.6286e-03, -2.9978e-04,  1.5210e-03,  4.2500e-03, -1.7092e-03,\n",
      "        -8.4055e-04, -1.1867e-03, -6.8609e-04,  2.2823e-03,  1.1886e-03,\n",
      "        -4.6158e-03,  4.9252e-04, -2.1396e-03,  3.8083e-04, -1.0665e-03,\n",
      "         1.9069e-03, -1.3000e-03,  7.1460e-04, -1.5735e-03, -5.2801e-04,\n",
      "        -4.4621e-03,  2.0879e-04,  4.1936e-04,  1.1699e-03, -3.4505e-03,\n",
      "         3.5601e-03, -3.0432e-04,  1.0311e-03, -1.1896e-03, -4.1462e-04,\n",
      "        -1.6053e-03,  5.1251e-03, -3.3693e-03,  8.8593e-04, -2.0102e-03,\n",
      "         4.5727e-03, -5.5201e-03,  1.8729e-03,  7.5213e-06,  1.5607e-03,\n",
      "        -3.1804e-03,  8.9663e-04, -9.5349e-04,  1.3858e-03, -1.8024e-03,\n",
      "        -7.2759e-04, -1.5952e-03,  2.9110e-03,  8.0630e-04, -9.8513e-04,\n",
      "        -4.7310e-03, -3.9281e-04,  2.0009e-03, -2.4902e-03, -1.2721e-03,\n",
      "        -9.1526e-04, -4.6550e-03, -3.5415e-04, -6.1545e-04,  3.4321e-03,\n",
      "        -3.9513e-03,  1.7956e-03, -1.5869e-03,  8.8008e-05, -4.4161e-03,\n",
      "         3.1926e-03, -2.7927e-03,  2.7989e-03, -5.3834e-04,  5.2759e-04,\n",
      "        -3.6498e-03,  4.4106e-03,  7.0923e-05,  9.9664e-04, -3.2950e-04,\n",
      "         3.5652e-03, -2.2224e-03,  1.5409e-03, -1.1690e-04,  1.8579e-03,\n",
      "         9.5556e-04])\n",
      "transformer.layers.0.norm1.weight - Gradient: tensor([-3.8855e-03,  5.3800e-03, -3.7955e-03, -2.2911e-03, -4.3804e-03,\n",
      "        -6.2548e-03,  1.4217e-03, -2.4231e-03, -4.8179e-03, -6.2223e-03,\n",
      "        -1.6938e-03, -8.3596e-04, -3.7781e-03, -3.7452e-03,  2.9603e-03,\n",
      "        -1.9110e-03, -2.6168e-03, -4.2658e-03,  4.9127e-04, -1.1562e-03,\n",
      "        -2.7159e-03,  6.7648e-04, -1.8734e-03,  2.3910e-03, -2.8548e-03,\n",
      "         5.3169e-04, -3.5406e-03, -2.0718e-03, -2.7837e-03, -1.8960e-03,\n",
      "        -6.0666e-03, -7.7792e-03,  8.6373e-04, -1.4100e-03, -4.4682e-03,\n",
      "        -4.5722e-03, -1.5603e-03, -2.7147e-03,  1.1197e-03,  3.5119e-04,\n",
      "         2.6641e-03,  1.5570e-03, -2.8232e-03, -2.7977e-03,  2.6744e-03,\n",
      "         1.4021e-03,  3.7823e-03, -4.8545e-03, -5.2302e-03, -3.3368e-03,\n",
      "        -3.4891e-03, -4.7090e-03, -3.8636e-03, -1.5116e-03, -3.4910e-03,\n",
      "        -3.8031e-03, -2.9577e-03, -2.3462e-03, -3.2578e-03, -3.0162e-03,\n",
      "        -1.1705e-03,  3.9028e-03,  1.1942e-03,  2.7861e-03, -2.8608e-03,\n",
      "        -3.7273e-03,  3.7676e-03,  7.2777e-04,  3.3325e-03, -1.4541e-03,\n",
      "         6.2911e-04,  8.0661e-04,  4.7888e-03, -1.5360e-03,  1.9543e-04,\n",
      "        -3.7670e-03, -8.7329e-04, -8.8459e-03,  5.8312e-03, -3.9997e-03,\n",
      "         1.0630e-03,  2.3408e-03, -3.9336e-04,  1.3960e-03, -3.1964e-03,\n",
      "         1.3574e-02,  4.8662e-04,  8.5739e-04, -2.0000e-03, -7.5011e-03,\n",
      "         1.4342e-02, -2.1173e-03, -2.0708e-03, -8.9949e-03, -3.0679e-03,\n",
      "         3.9527e-03, -6.9667e-03, -4.7752e-03,  4.4745e-04, -4.2282e-04,\n",
      "        -1.1504e-03,  8.2786e-04,  3.0882e-03,  5.4047e-04, -1.0162e-03,\n",
      "        -2.5689e-03,  2.4476e-03,  2.0841e-03, -2.6501e-03,  6.1747e-04,\n",
      "        -2.8740e-03, -1.5683e-03,  8.6979e-03,  2.2606e-04, -4.1692e-04,\n",
      "         5.2325e-04, -5.3736e-04, -8.4339e-04, -1.7479e-03,  3.7413e-03,\n",
      "        -2.3225e-03,  4.9486e-03,  1.2161e-03, -6.8596e-03, -2.1394e-03,\n",
      "         4.8579e-03, -4.8958e-03,  2.4570e-03,  1.0509e-03, -4.2048e-03,\n",
      "         3.1796e-03, -2.8375e-03, -8.3019e-04, -9.0633e-05,  4.4539e-04,\n",
      "        -2.3146e-03, -2.9715e-03,  5.1317e-04, -2.6544e-03, -4.3277e-03,\n",
      "        -3.4880e-04, -1.5362e-03, -2.3938e-03,  1.5478e-03,  1.0675e-02,\n",
      "        -4.4306e-03, -1.0612e-03, -2.2542e-03,  2.2526e-03,  2.1075e-03,\n",
      "         2.6502e-03,  1.7726e-03,  1.2162e-04,  9.6618e-04,  6.6601e-03,\n",
      "         3.0048e-03,  3.7553e-03, -1.1899e-03,  7.4228e-03, -1.2358e-03,\n",
      "         8.4720e-04,  1.5710e-02,  7.8500e-03, -1.6280e-03,  1.4825e-03,\n",
      "        -4.1966e-03, -9.5484e-04, -8.9579e-04,  6.9619e-03, -1.9796e-03,\n",
      "         5.5108e-03, -5.8356e-03,  1.9138e-03, -3.8016e-04,  7.2389e-03,\n",
      "        -2.8038e-03, -1.4933e-03,  6.2788e-04, -4.0078e-04,  1.7415e-03,\n",
      "        -2.1006e-03, -2.2165e-03, -3.9801e-04,  3.2393e-03, -7.0306e-04,\n",
      "         4.4507e-04,  3.7145e-03,  2.4192e-03,  2.0691e-03, -2.5349e-03,\n",
      "        -3.8300e-04, -1.0084e-03,  1.3033e-02, -4.2271e-03, -2.3871e-04,\n",
      "         1.6851e-03,  2.1931e-03,  1.0153e-02,  4.8444e-03, -8.3559e-04,\n",
      "         1.0104e-02, -2.1695e-03,  2.0810e-03, -6.7949e-04,  1.3749e-02,\n",
      "        -4.8928e-03, -3.3980e-03,  3.7531e-03, -3.4135e-04, -2.7032e-03,\n",
      "         2.2737e-05, -7.9793e-03,  1.9980e-03, -3.9092e-04,  2.5654e-03,\n",
      "        -9.2665e-04,  2.3197e-04, -1.5220e-03, -3.5481e-03,  9.5913e-03,\n",
      "         2.0468e-03,  1.9614e-03,  2.7291e-04, -1.2507e-03,  3.0238e-03,\n",
      "         1.7163e-03, -1.2813e-04,  1.2594e-03,  5.1938e-03, -2.6677e-04,\n",
      "         8.5046e-04, -6.0751e-03,  6.7403e-03,  3.3227e-04,  3.9247e-03,\n",
      "        -2.7726e-03,  1.1169e-04,  3.4109e-03,  1.4556e-03, -1.2539e-03,\n",
      "        -2.0747e-05, -3.3307e-03,  3.9695e-03,  4.4696e-03, -1.0594e-03,\n",
      "        -1.1960e-04, -1.2968e-03,  9.0297e-03, -1.8733e-03,  1.0573e-03,\n",
      "         1.5973e-03, -9.3996e-03, -3.7523e-04,  1.1923e-03, -3.8092e-03,\n",
      "         1.3939e-02])\n",
      "transformer.layers.0.norm1.bias - Gradient: tensor([ 4.2402e-03, -6.3565e-05, -8.3555e-04, -1.7926e-03,  1.5137e-03,\n",
      "         1.9438e-03,  9.7155e-04, -1.3401e-04,  2.4965e-03,  1.7572e-03,\n",
      "         7.3513e-04,  4.2136e-03,  2.6438e-03,  1.5897e-04,  1.8379e-03,\n",
      "         7.3772e-05,  2.7560e-03,  2.8988e-03, -1.6429e-03,  1.6528e-03,\n",
      "         1.6914e-03, -2.0005e-03,  1.5034e-03,  1.8004e-03,  7.0028e-04,\n",
      "        -1.0568e-04,  2.3976e-03,  5.2129e-03, -7.3996e-04,  3.3268e-05,\n",
      "         3.5790e-03,  4.4718e-03,  1.0946e-04,  1.7873e-03,  1.0688e-03,\n",
      "        -1.0407e-04, -1.1740e-03,  2.0582e-03,  2.6555e-03,  4.1093e-03,\n",
      "         2.0173e-03,  4.3737e-03, -1.4048e-03,  1.3856e-03, -2.2091e-04,\n",
      "         1.7339e-03, -3.3283e-03,  1.5097e-03,  4.2868e-03,  1.5755e-03,\n",
      "        -2.0497e-03,  3.7268e-03, -9.4253e-04,  1.5389e-03,  2.0642e-03,\n",
      "        -8.7364e-05,  1.0729e-03,  5.3691e-04,  1.8411e-03, -3.9600e-04,\n",
      "        -8.7676e-04, -1.3195e-03,  3.3668e-04,  9.0498e-05, -4.7770e-04,\n",
      "         7.7488e-04,  8.3692e-04, -4.1131e-04, -9.5701e-04,  2.0075e-03,\n",
      "        -2.5344e-03,  2.8670e-03, -1.2509e-03, -9.5816e-04, -3.1882e-04,\n",
      "         1.0484e-03,  7.5232e-04,  4.3248e-03,  3.1718e-03,  1.8549e-03,\n",
      "        -8.8932e-06,  1.8025e-03,  7.0590e-04, -2.1565e-03,  5.1105e-04,\n",
      "         1.2285e-03,  1.6472e-03, -3.2808e-04, -2.9537e-03,  1.7012e-03,\n",
      "         1.5358e-03,  2.1827e-04, -1.7795e-03,  7.2242e-03, -2.6519e-03,\n",
      "         1.9888e-03, -5.6654e-03,  8.5981e-04, -1.5658e-03,  1.3395e-03,\n",
      "        -6.7815e-04, -2.1004e-03, -6.9845e-04, -3.7237e-04, -1.0657e-03,\n",
      "        -1.1383e-03, -1.5865e-04, -1.5770e-03, -1.6807e-03,  1.0037e-03,\n",
      "        -1.1433e-03, -2.0681e-03, -2.4596e-03, -2.9392e-03,  4.8147e-04,\n",
      "        -8.5238e-04,  2.3676e-03,  7.1785e-04, -1.0056e-03, -1.3960e-03,\n",
      "        -3.0122e-04, -5.6538e-04,  2.5496e-03, -4.7528e-03,  3.2791e-03,\n",
      "        -6.5067e-04, -2.2812e-03, -1.5794e-03, -1.4289e-03, -3.0334e-03,\n",
      "        -1.2446e-03, -1.9417e-03, -9.4179e-04, -5.0143e-04,  1.9721e-03,\n",
      "        -2.1858e-03, -2.4609e-03, -1.5094e-03, -5.1080e-06, -3.6277e-03,\n",
      "        -8.8863e-04, -1.6678e-03,  2.4287e-03, -2.2051e-04, -1.4173e-05,\n",
      "        -4.2464e-03,  2.9193e-03, -1.7751e-03,  3.4833e-04,  1.3415e-03,\n",
      "         1.0951e-03,  1.0463e-03,  6.9567e-04, -3.6808e-04,  5.5188e-05,\n",
      "        -8.4532e-05, -6.7684e-04, -5.3612e-03, -6.8063e-04, -2.9012e-03,\n",
      "        -9.1835e-04, -3.2214e-04, -4.7387e-03, -3.1407e-03,  3.2859e-03,\n",
      "        -1.1592e-03, -1.7976e-03, -3.8872e-03,  4.0482e-04, -3.6302e-03,\n",
      "        -1.1555e-03, -5.9144e-04, -3.4889e-04, -4.4783e-03,  4.4199e-04,\n",
      "        -2.9794e-03,  1.8288e-03,  5.7761e-04,  3.9019e-03, -5.3857e-04,\n",
      "        -7.5461e-04, -8.5591e-04, -6.3369e-04,  1.9903e-03,  8.3046e-04,\n",
      "        -1.9999e-03,  1.7329e-03, -1.1003e-03, -4.7387e-04, -1.1517e-03,\n",
      "         3.7067e-03, -1.7722e-03,  1.2458e-04, -2.1826e-03,  4.9383e-04,\n",
      "        -2.8899e-03,  6.0459e-04, -9.3216e-04, -1.0572e-03, -4.0121e-03,\n",
      "         3.8449e-03, -1.7126e-03,  1.4058e-03, -2.3095e-03,  2.5170e-04,\n",
      "        -3.6963e-03,  3.2566e-03, -2.0503e-03,  1.6204e-03, -2.1298e-03,\n",
      "         3.1740e-03, -5.7234e-03,  1.2314e-03, -4.7943e-04,  1.9296e-03,\n",
      "        -3.6628e-03, -6.5332e-04, -1.4622e-03,  5.7240e-04,  8.6023e-04,\n",
      "         2.5761e-04, -1.4695e-03,  2.5958e-03, -5.6765e-04, -9.5153e-04,\n",
      "        -4.3716e-03,  2.5941e-04,  2.2017e-03, -1.1407e-03,  5.2087e-04,\n",
      "         3.0094e-04, -5.5008e-03,  2.2498e-04, -1.6432e-03,  2.1356e-03,\n",
      "        -4.6503e-03,  1.3122e-03, -9.3010e-04,  2.6166e-04, -3.9382e-03,\n",
      "         1.6005e-03, -3.6822e-03,  2.6617e-03, -1.1105e-03,  2.0432e-03,\n",
      "        -3.6151e-03,  3.6394e-03,  1.5171e-03,  1.6479e-03,  8.2109e-04,\n",
      "         2.9806e-03, -4.4273e-03,  1.0207e-03, -5.9597e-04,  4.4416e-03,\n",
      "         1.1503e-04])\n",
      "transformer.layers.0.norm2.weight - Gradient: tensor([-2.7840e-03,  1.0995e-02,  1.8648e-04,  1.3311e-03,  4.0832e-04,\n",
      "        -3.8455e-03,  2.6994e-03,  1.1589e-03, -2.5291e-03, -4.5154e-03,\n",
      "         1.1890e-03,  2.1581e-03, -1.9706e-03, -1.4488e-03,  5.9833e-03,\n",
      "        -1.5552e-04,  1.3867e-03, -2.7137e-03,  3.6096e-03,  1.4029e-03,\n",
      "        -1.5931e-03,  1.9743e-03,  1.3989e-03,  4.7879e-03, -1.7302e-03,\n",
      "         1.4352e-03,  2.1029e-04, -5.2507e-04, -8.4618e-04,  1.0985e-03,\n",
      "        -3.4521e-03, -4.4050e-03,  1.0262e-03,  8.8806e-04, -2.1608e-03,\n",
      "        -1.7092e-03, -2.2382e-04, -8.6413e-04,  3.9132e-03,  2.5652e-03,\n",
      "         4.2526e-03,  5.9195e-03,  5.7288e-04,  2.8095e-04,  3.6916e-03,\n",
      "         4.8288e-03,  5.1202e-03, -1.6960e-03, -3.5786e-03,  1.1866e-04,\n",
      "        -2.8792e-03,  2.0426e-04, -1.0836e-03,  2.9865e-03, -4.6056e-04,\n",
      "        -1.0407e-03, -1.1192e-03,  2.3731e-04,  1.4900e-04,  2.6770e-04,\n",
      "         1.3075e-03,  6.1741e-03,  4.5645e-03,  5.2493e-03, -1.8160e-03,\n",
      "        -1.5836e-03,  5.2936e-03,  2.5309e-03,  7.8922e-03,  4.5079e-04,\n",
      "         2.5844e-03,  5.5636e-03,  9.3718e-03, -1.1303e-03,  1.4379e-03,\n",
      "         3.9753e-04,  9.4703e-04, -4.3407e-03,  7.0028e-03, -1.3566e-03,\n",
      "         2.5326e-03,  7.3997e-03,  2.1182e-03,  3.4468e-03, -1.0729e-03,\n",
      "         1.6851e-02,  2.3092e-03,  3.0332e-03, -9.4366e-04, -4.6242e-03,\n",
      "         1.0827e-02,  6.9782e-04, -1.0732e-03, -7.3422e-03, -5.1781e-04,\n",
      "         7.0121e-03, -3.6033e-03, -2.0582e-03,  6.2287e-04,  1.6215e-03,\n",
      "         5.1771e-04,  3.1630e-03,  4.4954e-03,  3.3401e-03,  3.7256e-03,\n",
      "        -8.7484e-04,  3.0626e-03,  2.3463e-03, -1.0898e-04,  5.0472e-03,\n",
      "        -9.5864e-04, -5.8960e-04,  8.5886e-03,  1.6741e-03,  2.1055e-04,\n",
      "         8.7359e-04,  3.9304e-05, -1.2243e-03,  6.3336e-04,  2.4561e-03,\n",
      "        -3.4549e-03,  5.6583e-03,  2.4750e-03, -6.1863e-03, -4.7762e-04,\n",
      "         7.0927e-03, -2.6924e-03,  4.2393e-03,  1.2791e-03, -3.7518e-03,\n",
      "         4.4276e-03, -2.5583e-03,  6.2749e-05,  1.9630e-03,  2.4433e-03,\n",
      "        -9.5301e-04, -2.5737e-03,  3.9426e-03, -3.1073e-03, -1.9588e-03,\n",
      "         5.2562e-04,  2.5525e-03, -1.0398e-04,  9.6158e-04,  8.5703e-03,\n",
      "        -3.0201e-03, -3.4049e-04, -2.0303e-03,  3.2423e-03,  6.5979e-03,\n",
      "         1.7168e-03,  2.0919e-03,  6.3020e-04,  7.8348e-03,  5.5281e-03,\n",
      "         4.3056e-03,  3.2787e-03,  8.6782e-04,  6.9773e-03, -1.1635e-04,\n",
      "         4.1223e-03,  1.6779e-02,  8.1399e-03,  1.0667e-03,  2.1241e-04,\n",
      "        -3.3877e-03,  1.0084e-06,  1.2231e-03,  9.0839e-03, -1.0486e-03,\n",
      "         4.6391e-03, -3.2430e-03,  2.7690e-03,  2.6158e-03,  9.9399e-03,\n",
      "         9.5018e-04,  1.8744e-03,  3.7885e-03, -6.0387e-05,  4.1259e-03,\n",
      "        -2.3729e-03, -1.2400e-03, -3.1515e-04,  7.4450e-03, -5.3851e-04,\n",
      "         1.1758e-03,  5.0857e-03,  5.2606e-03,  2.1179e-03, -1.5708e-04,\n",
      "         3.4638e-04,  1.5317e-03,  9.8131e-03, -3.5447e-04,  2.0821e-03,\n",
      "         3.7726e-03,  1.4513e-03,  1.0494e-02,  4.6385e-03,  1.0915e-03,\n",
      "         1.2366e-02, -1.4213e-03,  2.6978e-03,  1.8254e-03,  9.9226e-03,\n",
      "        -2.1422e-03, -5.3262e-03,  6.2797e-03, -3.8014e-04, -1.7835e-03,\n",
      "         1.0396e-04, -4.1275e-03,  2.5327e-03,  5.8764e-04,  1.9141e-03,\n",
      "         1.9040e-03,  9.3803e-04, -1.4978e-03, -3.5300e-03,  7.7578e-03,\n",
      "         3.7486e-03,  4.5400e-03,  2.8650e-03,  2.3346e-03,  4.6178e-03,\n",
      "         2.1820e-03,  1.0687e-03,  3.6488e-03,  5.2740e-03,  2.2256e-03,\n",
      "         1.5012e-03, -5.4165e-03,  5.2777e-03,  1.2214e-03,  3.7382e-03,\n",
      "        -4.0005e-04,  3.0142e-04,  3.6448e-03,  6.8731e-04,  1.2273e-03,\n",
      "         9.3494e-04, -1.4332e-04,  3.3153e-03,  6.5960e-03,  4.8822e-04,\n",
      "         4.4749e-03, -2.1787e-03,  1.0037e-02,  3.0903e-04,  2.0580e-03,\n",
      "         3.8380e-03, -2.7402e-03, -2.5443e-04,  1.6325e-03,  7.3324e-04,\n",
      "         1.8024e-02])\n",
      "transformer.layers.0.norm2.bias - Gradient: tensor([ 2.1445e-03,  1.0762e-03,  4.6432e-04, -2.2250e-03, -1.6241e-04,\n",
      "         1.2867e-03,  1.1159e-03,  1.8816e-04,  1.4325e-03,  1.9106e-03,\n",
      "        -3.3072e-05,  2.1053e-03,  1.8868e-03, -2.3905e-04,  3.1415e-04,\n",
      "        -8.6064e-04, -2.5617e-04,  2.7907e-03, -2.9325e-03,  1.3552e-03,\n",
      "         2.2468e-03, -1.8049e-03,  1.1275e-03,  1.1094e-04,  7.3055e-04,\n",
      "         6.0678e-04,  2.9236e-04,  5.0925e-03, -1.1615e-03, -2.3671e-03,\n",
      "         2.9543e-03,  4.0940e-03,  7.7859e-04,  1.3339e-03,  1.3912e-04,\n",
      "         1.2105e-05, -7.0318e-04,  1.0550e-03,  1.0641e-03,  3.1064e-03,\n",
      "         1.5765e-03,  2.1786e-03, -1.7219e-03,  9.3892e-04, -1.1466e-03,\n",
      "         4.7939e-06, -4.1883e-03,  3.6216e-04,  3.4496e-03,  5.7653e-04,\n",
      "        -2.7999e-03,  1.6610e-03, -1.4178e-03, -7.2982e-04,  1.9309e-03,\n",
      "        -1.2978e-03,  1.7123e-04, -7.5570e-05,  3.7100e-04, -2.0686e-03,\n",
      "        -2.4204e-03, -2.7731e-03, -1.2249e-03, -5.4740e-04, -1.1075e-03,\n",
      "        -1.7530e-03, -1.2279e-03, -4.9742e-04, -3.2065e-04,  2.1365e-03,\n",
      "        -1.6697e-03,  2.1342e-03, -2.7879e-03, -8.6785e-04, -6.3971e-04,\n",
      "         1.9376e-03, -2.7875e-05,  2.8990e-03,  4.6199e-03,  9.2656e-04,\n",
      "        -8.7521e-04, -2.9657e-04,  2.1548e-03, -3.1588e-03,  2.6025e-04,\n",
      "         8.1990e-04,  3.2735e-03,  4.3589e-04, -1.7285e-03,  8.3586e-04,\n",
      "         4.3182e-04,  1.1531e-03, -1.1940e-03,  5.4015e-03, -1.2605e-03,\n",
      "         2.5101e-04, -4.0850e-03,  3.9985e-03,  7.6059e-05,  2.0110e-03,\n",
      "        -2.5508e-03, -3.2842e-04,  3.2826e-04,  2.4170e-04,  2.4819e-03,\n",
      "        -8.6231e-04,  5.1970e-05, -7.0569e-04, -3.5002e-03,  3.5388e-03,\n",
      "         5.3905e-05, -9.2911e-04, -2.2041e-03, -7.2996e-04, -3.9631e-04,\n",
      "        -1.1537e-03,  2.3791e-03,  1.7261e-03,  8.3248e-05,  2.0660e-04,\n",
      "         6.3220e-04,  1.4311e-03,  2.3605e-03, -2.6764e-03,  1.5215e-03,\n",
      "         2.0749e-03, -8.1471e-04, -1.4598e-03, -1.0067e-03, -1.8696e-03,\n",
      "         7.3640e-04, -1.3413e-03, -1.1614e-03,  1.0667e-03,  1.6864e-03,\n",
      "        -9.0705e-04, -8.6552e-04,  1.1909e-03,  1.0389e-03, -1.8448e-03,\n",
      "        -1.3754e-03,  1.5771e-03,  2.4947e-04, -2.2092e-03,  4.4868e-04,\n",
      "        -2.3208e-03,  1.6629e-03, -3.8079e-04,  3.8605e-04,  4.2834e-03,\n",
      "        -5.6156e-04,  2.7882e-03, -1.1300e-04,  4.2204e-03, -9.4524e-04,\n",
      "         1.3821e-03, -5.3696e-04, -2.5320e-03, -1.7522e-03, -9.2403e-04,\n",
      "        -2.4352e-03,  1.2580e-03, -5.5141e-03, -1.6968e-03,  2.7914e-03,\n",
      "        -8.1621e-04, -2.5361e-03, -1.4990e-03, -2.2620e-04, -1.9108e-03,\n",
      "        -1.5533e-03,  1.3917e-03, -1.0318e-03, -1.9469e-03,  7.8087e-04,\n",
      "         2.9365e-05, -1.4080e-03,  3.3698e-03,  2.6477e-03,  1.5391e-03,\n",
      "        -7.9002e-04,  4.4315e-04, -3.6801e-05,  4.0807e-03,  1.2467e-03,\n",
      "        -1.5934e-03,  1.5737e-03,  7.4225e-04,  1.0556e-03,  9.2733e-04,\n",
      "         2.3765e-03, -9.2589e-06, -4.5775e-04,  3.5438e-04, -2.0911e-03,\n",
      "        -6.2833e-04,  5.1125e-04,  3.9945e-04, -4.7705e-04, -2.9993e-03,\n",
      "         2.3679e-03, -3.3346e-04,  1.0631e-03, -4.3078e-04, -7.9817e-04,\n",
      "        -5.0665e-04,  3.6933e-03, -1.6335e-04, -5.7912e-05, -1.2920e-03,\n",
      "         2.4715e-03, -2.0377e-03,  1.2522e-03,  1.2019e-03,  2.4398e-03,\n",
      "        -1.0609e-03, -1.6450e-03,  8.6437e-05, -1.9074e-05, -2.5550e-04,\n",
      "        -1.0205e-03,  6.2049e-04,  1.5028e-03,  2.3977e-03, -2.2164e-03,\n",
      "        -2.3092e-03, -1.6758e-03,  4.2138e-03, -1.7516e-03,  1.3185e-03,\n",
      "         8.9077e-04, -3.9412e-03, -4.7774e-05, -2.6545e-04,  2.1014e-03,\n",
      "        -2.3916e-03,  1.5855e-03, -7.6411e-05,  1.4922e-04, -8.9514e-04,\n",
      "         4.6873e-04, -1.4471e-03,  2.3323e-03, -8.5102e-05,  4.4558e-04,\n",
      "        -1.1069e-03,  3.4873e-03,  3.4882e-03,  5.6919e-04,  2.1849e-03,\n",
      "         1.6926e-03, -7.6236e-04,  5.9460e-04, -2.1166e-05,  5.5825e-04,\n",
      "         3.0912e-03])\n",
      "output_proj.weight - Gradient: tensor([[ 4.7231e-04, -1.9211e-02, -7.1146e-03,  ...,  3.4885e-03,\n",
      "          6.2692e-03, -1.2427e-02],\n",
      "        [-3.0774e-04,  1.4929e-03,  9.5859e-04,  ..., -1.3413e-03,\n",
      "         -1.2049e-03,  1.6341e-03],\n",
      "        [-5.2776e-04,  2.6714e-03,  4.9469e-04,  ..., -3.1086e-04,\n",
      "         -6.0516e-04,  2.0504e-03],\n",
      "        ...,\n",
      "        [-2.7979e-04,  2.9283e-03,  4.1757e-03,  ...,  4.9284e-03,\n",
      "         -4.6667e-03,  1.9094e-03],\n",
      "        [ 6.9037e-05, -1.2197e-03, -4.2427e-03,  ..., -3.5237e-03,\n",
      "          1.8631e-03, -1.7074e-03],\n",
      "        [-1.0605e-03,  5.2590e-03,  1.5913e-03,  ..., -1.1575e-03,\n",
      "         -1.6613e-03,  2.7048e-03]])\n",
      "output_proj.bias - Gradient: tensor([ 5.4279e-06,  7.0889e-05,  2.2661e-05, -5.9503e-04,  1.6354e-03,\n",
      "        -6.3535e-04, -2.1928e-05, -4.1181e-06,  1.0879e-03, -1.4895e-04,\n",
      "         1.3656e-04, -3.6485e-03,  2.6774e-03,  2.9605e-05,  4.5515e-04,\n",
      "         1.3996e-04, -2.8779e-05,  1.9231e-04,  4.9470e-05, -5.0373e-04,\n",
      "        -2.1687e-04, -2.9056e-04,  1.9160e-03,  2.8348e-04, -5.0869e-05,\n",
      "        -7.0204e-03, -1.5635e-03,  4.3419e-04,  1.9348e-04, -3.8880e-03,\n",
      "        -6.2292e-04,  3.7338e-04,  4.0728e-04, -3.5431e-05,  7.8654e-04,\n",
      "        -8.7598e-03,  4.1421e-03, -2.4702e-03,  1.7826e-04, -1.9528e-03,\n",
      "        -2.0625e-03,  3.1154e-04,  1.6723e-03,  5.7655e-05,  7.4370e-05,\n",
      "         6.6882e-05, -6.6655e-05, -1.5145e-05, -4.4001e-03, -5.8114e-04,\n",
      "        -3.4048e-05,  1.5392e-03, -7.4892e-05,  2.2593e-04, -1.2257e-04,\n",
      "         2.9751e-04, -1.9243e-03,  1.2117e-04,  3.8310e-03,  4.1180e-03,\n",
      "         3.1499e-04,  2.5955e-03, -1.8377e-03, -1.3653e-04,  1.4868e-05,\n",
      "         9.1357e-04,  2.9389e-04, -1.6188e-04,  3.0613e-03,  3.9298e-04,\n",
      "         1.4918e-03, -1.4286e-03,  9.6161e-05,  1.6768e-04, -3.8939e-04,\n",
      "         1.9439e-03,  4.1233e-04,  3.2801e-03,  2.3886e-04,  1.0171e-03,\n",
      "         5.2955e-03,  4.6021e-04,  6.6348e-04,  2.6269e-04, -2.3822e-03,\n",
      "        -5.7440e-05,  5.2328e-04,  1.4184e-04, -4.7139e-04,  4.8519e-04,\n",
      "        -1.8792e-04,  7.1580e-06, -1.8070e-06, -8.8829e-06, -7.6259e-04,\n",
      "         3.9290e-04, -3.8430e-03,  1.5071e-05,  2.0487e-03, -3.5112e-04,\n",
      "         1.7585e-05,  1.2810e-04,  1.4583e-03, -3.2962e-04, -3.8469e-03,\n",
      "         2.8825e-04,  6.0919e-05,  1.4523e-02,  9.8382e-04,  1.9875e-03,\n",
      "         8.3300e-05,  3.0233e-04, -1.5587e-03,  5.9023e-03, -3.8869e-04,\n",
      "        -6.8432e-04,  8.3261e-04, -9.5694e-05,  2.2819e-04,  8.0650e-05,\n",
      "         2.2466e-03,  1.1164e-04, -1.0968e-02,  2.1887e-04,  1.0431e-02,\n",
      "         6.9578e-04,  6.9144e-04, -2.7942e-03, -3.9413e-03, -1.6617e-04,\n",
      "         1.3359e-03,  1.7833e-04,  1.1354e-03,  3.1615e-04,  2.4353e-03,\n",
      "        -7.6107e-04,  9.1025e-04,  3.5155e-04, -1.6540e-04,  2.8454e-03,\n",
      "         8.4255e-04, -1.1364e-03,  2.8563e-04, -5.2374e-04, -5.5782e-04,\n",
      "         6.0155e-03,  3.0712e-03, -2.7405e-03,  2.5750e-03,  4.7274e-04,\n",
      "         7.3995e-04, -5.6192e-04, -1.0974e-03, -3.3174e-03, -3.3103e-04,\n",
      "         1.8475e-04, -1.8362e-03,  1.6655e-05,  2.5067e-04,  3.9791e-03,\n",
      "         1.9000e-03, -4.8285e-05, -3.0883e-05,  1.1143e-05,  2.0940e-03,\n",
      "        -2.6029e-03, -2.1098e-06, -2.7063e-04,  1.3598e-05, -2.6338e-04,\n",
      "        -6.2980e-05, -2.9998e-03,  3.9860e-04, -8.2798e-04,  2.5184e-03,\n",
      "         3.7647e-04, -1.8582e-03, -4.4281e-05, -8.2820e-04,  3.1255e-04,\n",
      "        -1.1953e-04, -2.5815e-03, -9.6444e-04,  1.0369e-03, -2.8569e-03,\n",
      "        -8.5820e-04, -2.6991e-03,  6.6265e-05,  1.3669e-05,  3.6158e-04,\n",
      "        -3.4381e-03, -2.0105e-05, -3.6306e-04, -8.9652e-05,  9.1248e-05,\n",
      "        -2.9802e-04,  5.5394e-05, -1.0198e-03,  4.0856e-03,  2.3264e-04,\n",
      "        -3.3394e-05, -1.4942e-05,  3.2255e-06,  1.9059e-03, -1.0040e-05,\n",
      "        -1.6847e-03, -6.1652e-05, -1.4521e-04,  6.6757e-05, -2.2803e-03,\n",
      "        -1.0164e-06,  2.2287e-03,  2.0139e-05,  2.6446e-02, -8.2423e-04,\n",
      "         4.6784e-04,  8.6723e-05,  2.7285e-03, -5.8765e-03,  2.3939e-03,\n",
      "        -1.1339e-05, -4.9699e-07,  8.9716e-03, -4.0070e-04, -4.2771e-04,\n",
      "        -6.3860e-05,  5.3543e-04, -4.5366e-06,  4.1487e-04,  4.6939e-03,\n",
      "        -1.3709e-04,  2.3033e-04,  2.4049e-04,  8.7158e-07, -7.0410e-04,\n",
      "        -5.9648e-05, -9.1001e-04,  3.2145e-03,  9.2042e-04,  9.2883e-05,\n",
      "        -3.2609e-04,  2.0475e-04, -3.9226e-04,  2.0507e-04, -8.6680e-05,\n",
      "        -2.4283e-03,  9.7794e-06,  1.5368e-04, -2.0765e-04, -5.2537e-04,\n",
      "        -6.4552e-04,  2.3039e-03,  3.0090e-04, -8.3850e-04, -8.5279e-04,\n",
      "         9.0268e-05])\n"
     ]
    }
   ],
   "source": [
    "for name, param in video_model.named_parameters():\n",
    "    if param.grad is not None:\n",
    "        print(f\"{name} - Gradient: {param.grad}\")\n",
    "    else:\n",
    "        print(f\"{name} - No Gradient\")\n"
   ]
  },
  {
   "cell_type": "code",
   "execution_count": 844,
   "metadata": {
    "executionInfo": {
     "elapsed": 2,
     "status": "ok",
     "timestamp": 1741822765220,
     "user": {
      "displayName": "Scott Merrill",
      "userId": "10959173247837144378"
     },
     "user_tz": 240
    },
    "id": "WODYGSWttHuT"
   },
   "outputs": [
    {
     "name": "stdout",
     "output_type": "stream",
     "text": [
      "input_proj.weight - Gradient: tensor([[ 4.3081e-04, -3.1334e-03,  1.3227e-03,  ..., -9.5510e-04,\n",
      "          1.4035e-03,  2.6347e-03],\n",
      "        [-3.7354e-05, -1.3218e-04, -7.2511e-03,  ...,  8.5014e-04,\n",
      "         -1.9113e-03, -6.1740e-03],\n",
      "        [ 6.6043e-04,  7.4935e-04,  3.0295e-03,  ...,  4.8732e-04,\n",
      "          4.8562e-03,  3.9120e-03],\n",
      "        ...,\n",
      "        [ 3.1917e-04,  3.9834e-03,  1.5028e-03,  ...,  5.4846e-04,\n",
      "         -2.2541e-03, -5.6791e-03],\n",
      "        [ 3.1221e-04, -9.7683e-05,  4.1694e-03,  ..., -4.0249e-05,\n",
      "         -5.7130e-03, -3.1856e-03],\n",
      "        [-2.1114e-04,  9.6945e-04,  1.5411e-03,  ..., -1.1284e-05,\n",
      "         -6.6622e-04, -2.5414e-04]])\n",
      "input_proj.bias - Gradient: tensor([-7.6335e-04, -3.2223e-03,  6.8997e-03,  4.0842e-03,  5.9109e-03,\n",
      "        -7.2873e-03,  4.3620e-03, -5.4600e-03,  2.9921e-03,  3.1029e-03,\n",
      "        -4.8865e-03,  5.8801e-03, -7.1959e-04, -3.6185e-03, -1.1304e-03,\n",
      "         5.1480e-03, -2.7262e-03,  2.5519e-03,  3.0168e-05,  2.0467e-03,\n",
      "        -2.7674e-03,  8.2072e-03,  2.4246e-03,  7.7512e-03,  8.5326e-03,\n",
      "         3.2788e-03, -7.6772e-04,  2.0224e-03, -6.5798e-03,  3.1668e-03,\n",
      "         8.8325e-05,  2.6556e-03, -1.9922e-03, -1.9905e-03, -1.5464e-03,\n",
      "        -4.3175e-04,  3.8228e-03,  9.4970e-04, -3.5699e-03, -3.1499e-03,\n",
      "         3.4427e-03, -3.7910e-04,  5.5029e-03, -2.2317e-03, -2.6906e-03,\n",
      "         1.9292e-03,  4.0378e-04,  1.4351e-04, -3.1536e-03,  2.2225e-03,\n",
      "        -4.1763e-03,  4.1874e-03,  2.5706e-03,  6.5968e-03, -5.4359e-03,\n",
      "         2.5136e-03,  2.3364e-04,  2.3948e-04, -2.2827e-03,  2.0421e-03,\n",
      "        -5.6394e-03, -2.6409e-05, -2.1977e-03,  9.6493e-04,  2.5160e-03,\n",
      "        -2.0107e-04,  5.5261e-04,  2.3402e-03, -1.4683e-03, -4.2818e-04,\n",
      "         6.3148e-04, -2.3678e-03,  1.5025e-03, -6.1213e-03,  1.3532e-03,\n",
      "         1.5091e-03, -1.6099e-03,  1.1552e-02,  2.5731e-03, -1.9513e-03,\n",
      "        -1.3214e-03, -1.4056e-03,  5.4257e-04,  1.1109e-03,  7.7388e-04,\n",
      "        -1.3497e-03, -1.1266e-03,  2.1429e-03,  1.0451e-03,  5.1981e-03,\n",
      "         2.0597e-03,  1.3617e-03, -2.9425e-03, -1.4790e-03, -4.9889e-03,\n",
      "         1.0376e-02,  4.0969e-03,  2.7280e-03,  3.8081e-03,  9.5048e-06,\n",
      "        -4.6249e-03,  7.1549e-03,  2.8437e-03,  3.1380e-03,  9.0884e-04,\n",
      "        -5.3788e-04, -5.8031e-03, -4.1921e-03, -8.3911e-04, -6.2189e-03,\n",
      "        -5.8958e-03,  9.6830e-04, -2.5229e-03, -9.4369e-04,  3.1589e-03,\n",
      "        -9.6238e-03, -1.3233e-05, -5.3410e-03,  2.5045e-03,  1.2638e-04,\n",
      "        -9.4887e-03, -8.3222e-05,  4.4004e-03,  1.3478e-03,  5.1490e-03,\n",
      "        -2.1835e-03, -1.1388e-03,  2.4368e-03, -3.8779e-03, -4.3781e-03,\n",
      "        -4.7254e-03,  3.5089e-04,  4.0175e-03,  6.3327e-03, -5.7471e-04,\n",
      "        -1.4120e-03, -1.7965e-03, -8.7108e-03, -1.7302e-03, -6.8667e-03,\n",
      "         2.6477e-03, -3.1870e-03,  3.7292e-03, -5.1603e-03, -1.0317e-03,\n",
      "        -7.3453e-03,  5.9023e-03, -3.0854e-03, -1.8412e-03, -3.2701e-03,\n",
      "        -8.7117e-05,  1.0436e-03,  2.1784e-03, -6.0176e-04,  1.5548e-03,\n",
      "        -1.0822e-02, -1.8734e-03, -3.3592e-03, -1.1918e-02, -3.7788e-03,\n",
      "         6.9686e-04, -4.9413e-03,  4.7724e-03, -9.1664e-04,  2.9497e-03,\n",
      "         2.7026e-03,  4.1175e-03, -6.7439e-03,  1.5927e-03,  1.3165e-03,\n",
      "         4.1450e-03,  3.4933e-03, -4.1327e-03,  2.6367e-04,  4.5472e-03,\n",
      "        -8.4840e-03,  5.7614e-03, -1.1226e-02,  1.3913e-03,  1.0137e-03,\n",
      "         2.3992e-03, -1.9550e-04,  3.5845e-03, -1.5325e-03,  7.0915e-04,\n",
      "        -6.4198e-03,  2.0159e-03,  4.1278e-03,  4.7863e-03, -3.3976e-03,\n",
      "         2.1902e-03, -2.1857e-03,  1.1117e-03, -6.1798e-03, -4.6534e-03,\n",
      "        -6.0850e-03,  4.4167e-03, -3.8020e-03,  3.7512e-03, -4.8805e-03,\n",
      "         2.9396e-03,  6.1253e-05, -3.0644e-03, -8.3844e-03, -1.6276e-03,\n",
      "        -5.8100e-03,  7.8747e-03, -4.3207e-03,  2.8339e-03, -3.2294e-03,\n",
      "         9.4670e-03,  5.4601e-04,  6.8326e-03, -1.8145e-03,  4.3681e-03,\n",
      "        -3.7642e-03,  3.1259e-03, -6.3629e-03,  5.1261e-03, -6.1654e-03,\n",
      "        -9.2309e-04, -5.2718e-03,  5.4350e-04, -2.0143e-03,  1.8202e-03,\n",
      "        -8.3601e-03,  1.5209e-03, -4.2554e-03,  7.0525e-03, -5.0665e-03,\n",
      "        -7.5383e-03,  1.0785e-03, -2.1886e-03, -9.0460e-04, -2.4610e-04,\n",
      "         3.2340e-03,  3.9653e-03,  2.0376e-03,  6.0545e-03, -1.4367e-02,\n",
      "        -2.0539e-04, -5.4001e-03,  2.7687e-03, -4.6460e-03, -2.5630e-03,\n",
      "        -9.3205e-03,  2.1877e-03, -8.3624e-03, -1.5028e-03, -6.2116e-03,\n",
      "         3.2659e-03, -3.5382e-03,  2.1067e-03, -1.0660e-02, -1.6658e-03,\n",
      "        -3.3888e-03])\n",
      "transformer.layers.0.self_attn.in_proj_weight - Gradient: tensor([[-1.9078e-04, -2.5365e-04, -1.5773e-04,  ...,  1.6091e-03,\n",
      "          1.8921e-04,  1.5325e-03],\n",
      "        [-4.8656e-04, -1.3554e-04, -1.0410e-04,  ...,  3.8962e-03,\n",
      "          3.9434e-04,  3.7402e-03],\n",
      "        [ 9.1635e-05,  6.2604e-05,  6.2214e-05,  ..., -2.6767e-04,\n",
      "         -8.3420e-05, -3.0281e-04],\n",
      "        ...,\n",
      "        [-5.6906e-03,  2.0732e-03, -2.4287e-04,  ...,  4.9342e-03,\n",
      "          2.2090e-03,  4.2632e-03],\n",
      "        [ 6.4095e-03, -1.6202e-03,  1.7921e-03,  ..., -1.9537e-03,\n",
      "          1.3230e-03,  2.1376e-03],\n",
      "        [-3.8154e-03,  4.8241e-03,  2.7999e-03,  ...,  5.2898e-03,\n",
      "          4.2527e-04,  9.1137e-04]])\n",
      "transformer.layers.0.self_attn.in_proj_bias - Gradient: tensor([ 1.5336e-03,  3.7390e-03, -2.9349e-04,  1.6937e-03,  3.5328e-03,\n",
      "        -2.6707e-03,  2.7071e-03, -2.2044e-03, -8.2277e-04,  4.9462e-03,\n",
      "        -1.9615e-03,  2.3132e-03, -3.4208e-03, -1.7693e-03,  3.6572e-03,\n",
      "         1.0939e-03,  2.8852e-03, -1.3070e-03,  4.0803e-04,  7.0706e-04,\n",
      "         1.1264e-03, -3.0464e-03,  2.0980e-04,  5.6885e-03, -4.3108e-03,\n",
      "        -5.9512e-03, -5.5056e-04, -1.9579e-03, -1.2285e-04, -6.1626e-03,\n",
      "         3.3320e-05,  3.5541e-03,  4.3780e-03, -9.9730e-04,  2.5306e-03,\n",
      "         2.0044e-03,  5.9161e-03,  3.9026e-03, -3.7341e-04,  1.4553e-03,\n",
      "         1.0163e-04, -5.1955e-03, -4.8628e-03, -2.1085e-03,  1.3977e-04,\n",
      "         7.6274e-04, -1.8984e-04,  1.5745e-03, -2.2388e-03,  1.8088e-04,\n",
      "         1.6779e-03,  1.3077e-03, -2.5710e-03, -4.3558e-03, -2.1863e-03,\n",
      "        -3.2125e-04, -1.9306e-03, -4.8505e-03, -4.8477e-04,  1.7662e-03,\n",
      "        -1.3042e-03, -9.3938e-04, -5.1248e-03, -3.8371e-03,  1.0534e-03,\n",
      "         5.3277e-04,  3.4617e-04, -3.3270e-04,  3.6954e-03, -1.4033e-03,\n",
      "        -2.1588e-03,  4.0839e-04,  9.9662e-06, -6.1004e-03,  3.8477e-03,\n",
      "        -3.7446e-04, -7.3896e-04,  1.3098e-03,  2.3196e-03,  9.5369e-04,\n",
      "         4.3272e-03, -3.7522e-03, -6.6925e-04,  7.1734e-03, -2.0466e-03,\n",
      "         6.2146e-03,  4.2817e-03, -5.6233e-03,  1.7479e-04,  2.1641e-03,\n",
      "         2.9045e-03, -1.2916e-03, -2.4375e-03,  2.0914e-04, -8.6695e-04,\n",
      "        -4.0523e-03,  3.4541e-03,  2.2921e-03, -1.2335e-03, -1.1622e-03,\n",
      "        -1.6460e-03, -8.3755e-04,  2.2458e-04, -5.8109e-04,  2.2077e-03,\n",
      "         9.8262e-04,  7.3048e-04, -7.1771e-04,  1.7199e-03,  3.8961e-03,\n",
      "        -2.5107e-03,  1.9132e-03,  7.0909e-03,  3.2528e-03, -3.6684e-03,\n",
      "         1.7179e-03, -4.3978e-03,  1.4732e-03,  3.7131e-04,  7.0459e-04,\n",
      "        -2.9858e-03, -5.7331e-03,  8.6944e-04, -2.3248e-03, -7.4362e-03,\n",
      "        -3.3505e-03,  6.4359e-04,  8.7342e-04, -2.4336e-03,  7.9341e-04,\n",
      "        -2.4351e-03,  7.1539e-04,  1.1268e-03, -2.4434e-03,  4.9148e-04,\n",
      "         1.8959e-03, -1.6800e-03, -6.0898e-03,  6.4842e-05, -6.3227e-04,\n",
      "         2.0662e-03, -2.6796e-03, -4.3174e-03,  7.8966e-03, -6.7865e-04,\n",
      "         1.7440e-04,  2.1841e-03, -9.1432e-04, -2.4992e-03,  2.1912e-03,\n",
      "         1.1120e-03, -2.2733e-03, -4.4471e-03,  6.5919e-04, -1.1983e-03,\n",
      "         4.2004e-03,  6.2217e-04, -2.3279e-03,  1.7992e-03, -1.1921e-03,\n",
      "        -8.3900e-04,  1.9526e-03, -5.5249e-03,  3.9982e-03, -3.4159e-03,\n",
      "         3.1431e-03,  5.0921e-04, -7.0743e-03,  1.2679e-03, -4.6722e-03,\n",
      "         1.7973e-03, -1.0377e-03,  1.3032e-03,  3.1113e-04,  8.7284e-04,\n",
      "        -2.6345e-03,  1.7918e-03, -2.7877e-03,  5.1676e-04,  1.8963e-03,\n",
      "         2.9425e-03,  3.6999e-03, -2.6300e-03, -1.1036e-03,  1.7614e-03,\n",
      "         2.6016e-03, -2.7581e-03,  3.4637e-03,  9.6696e-04,  2.9953e-03,\n",
      "         5.1450e-03,  1.1462e-03, -1.5424e-03, -2.0045e-04,  3.4219e-04,\n",
      "         7.0063e-04,  4.1131e-03,  1.1351e-03, -2.4879e-04, -2.1703e-03,\n",
      "        -1.5101e-03, -4.3017e-04, -2.0621e-03, -9.3728e-05,  2.4935e-03,\n",
      "         2.6569e-03,  4.8276e-04,  4.9310e-03, -1.6364e-03,  4.4144e-03,\n",
      "        -8.4201e-04,  1.9362e-03,  7.8690e-04, -3.5771e-03, -6.8610e-03,\n",
      "         1.7596e-03,  3.6951e-03, -3.5837e-03,  2.5688e-03,  2.1496e-03,\n",
      "         1.1292e-04, -1.5123e-03, -2.5664e-03, -3.7097e-03, -3.4599e-03,\n",
      "         1.7295e-03, -4.9283e-03, -6.4274e-04, -2.2094e-03,  1.2198e-03,\n",
      "        -4.2546e-03,  3.0636e-03, -5.4871e-03,  1.1986e-03, -7.0317e-03,\n",
      "        -1.7662e-03,  1.5562e-04,  2.6940e-03,  5.4862e-04, -2.6765e-03,\n",
      "         1.0119e-03,  2.8831e-03, -5.4915e-03,  2.0068e-04, -8.8018e-04,\n",
      "         1.1979e-04, -3.0445e-03,  8.1363e-04,  2.5945e-03, -4.9082e-03,\n",
      "         3.4554e-03,  3.6663e-05,  1.0023e-03,  5.4899e-04, -8.1043e-03,\n",
      "         2.9510e-03,  3.1640e-11,  3.0751e-10, -9.9491e-11, -5.8524e-11,\n",
      "         4.2612e-11,  8.8833e-11,  9.3280e-11, -6.7423e-10, -6.1656e-11,\n",
      "        -3.1494e-10, -1.4751e-11,  5.1049e-11, -3.6731e-10,  8.3253e-12,\n",
      "         1.5957e-10, -2.5634e-10,  1.8773e-11, -3.9897e-12, -3.3260e-11,\n",
      "        -9.1269e-10,  1.0346e-10,  9.8694e-11,  1.7399e-10,  4.5261e-10,\n",
      "         3.6510e-10,  5.4481e-11,  1.0796e-10,  1.7695e-10,  8.5002e-11,\n",
      "         7.8970e-11,  8.1451e-11,  5.2466e-11,  1.0060e-11,  2.8207e-11,\n",
      "        -3.0289e-10,  1.5213e-10, -6.6811e-10,  3.7964e-11,  1.1768e-10,\n",
      "        -9.0793e-10,  5.9966e-10,  5.0438e-11,  1.0104e-10, -3.8071e-10,\n",
      "        -5.0659e-10,  9.6954e-11,  4.8746e-11, -3.5314e-12, -3.0138e-11,\n",
      "         3.9643e-10,  4.6251e-10,  1.1043e-10,  4.8822e-11, -7.0298e-11,\n",
      "         3.5953e-12, -6.8336e-10,  7.7677e-11, -2.3919e-12,  4.0794e-10,\n",
      "        -4.7621e-11,  1.1426e-10,  3.9819e-11,  9.4303e-11,  9.6276e-11,\n",
      "        -5.5792e-11,  1.0316e-09, -1.0550e-10, -4.3280e-10, -3.2291e-10,\n",
      "        -1.3457e-10,  8.1386e-10, -1.2422e-10, -9.6360e-11, -1.7524e-10,\n",
      "        -7.3635e-11,  3.7512e-11,  4.1757e-10, -1.1567e-10, -4.0617e-10,\n",
      "         1.5608e-10,  1.6029e-10, -1.1430e-10,  3.3824e-10,  1.2526e-10,\n",
      "         7.3712e-10, -4.4622e-11,  1.1858e-10,  4.2401e-10,  1.2403e-10,\n",
      "         6.5296e-10,  1.3084e-10, -3.8944e-10,  2.1119e-10,  8.9983e-11,\n",
      "         2.2524e-10, -7.6700e-10, -3.3891e-10, -3.2499e-10, -1.0422e-09,\n",
      "        -1.0618e-11,  2.9395e-11,  2.8010e-10,  5.2111e-11, -5.9763e-10,\n",
      "         4.5216e-11,  2.1717e-10,  7.7804e-11, -1.7884e-10, -2.5283e-10,\n",
      "         2.0114e-10, -4.0090e-11, -3.9851e-11,  3.6618e-12, -1.7977e-10,\n",
      "         9.1124e-10,  2.4932e-10, -9.9890e-11, -1.8343e-10, -4.6508e-10,\n",
      "        -1.9512e-11, -2.5601e-11, -1.3442e-10,  6.5996e-10, -1.4776e-10,\n",
      "        -6.9804e-11,  4.2895e-11, -2.3009e-10,  1.2328e-10,  4.6677e-10,\n",
      "        -6.0308e-11,  7.2267e-10,  1.7909e-11,  2.1932e-10,  5.0404e-11,\n",
      "         1.5287e-10, -7.2453e-11,  2.5684e-11, -4.2627e-10,  8.6850e-11,\n",
      "        -9.9185e-11, -3.3169e-10,  4.2477e-11, -4.0463e-10,  2.6348e-10,\n",
      "        -7.6865e-11, -8.6104e-11, -9.0125e-11, -3.2667e-10, -1.6666e-10,\n",
      "        -9.1148e-10, -1.4821e-10,  1.4239e-10, -1.4022e-10, -6.9832e-11,\n",
      "        -2.6972e-11,  3.8817e-11,  2.6827e-11,  3.3054e-11,  9.6099e-11,\n",
      "        -2.8575e-10,  5.9295e-11, -7.6427e-10,  9.7974e-10, -9.1527e-11,\n",
      "        -1.6986e-10, -1.6753e-10,  6.6816e-11, -1.3584e-11,  1.1518e-10,\n",
      "         7.3441e-11,  7.3585e-10, -6.7308e-10,  9.9391e-11,  2.5008e-11,\n",
      "        -1.0549e-10,  5.2751e-10, -1.5983e-10,  2.3643e-10,  6.2888e-10,\n",
      "        -2.9935e-10,  1.6730e-10,  1.6844e-10, -1.4363e-10, -1.2533e-11,\n",
      "        -1.4270e-10,  9.0306e-11,  1.3232e-10,  3.7355e-10, -2.9103e-11,\n",
      "        -2.8990e-10, -6.6309e-12, -5.0063e-11,  1.7462e-10,  1.1897e-10,\n",
      "         2.6589e-11, -2.1624e-10,  4.0291e-10, -3.6167e-10,  5.9035e-11,\n",
      "        -3.1271e-11,  2.7473e-11, -3.4248e-12, -1.9247e-11, -2.8049e-10,\n",
      "        -1.7952e-10,  1.5302e-10,  2.5349e-11, -5.6072e-11,  3.9671e-10,\n",
      "        -3.6771e-11, -2.0395e-11, -1.5638e-10, -1.6081e-10, -1.7693e-11,\n",
      "        -3.1631e-10,  1.0514e-10,  1.8594e-10,  2.6660e-11, -3.2390e-11,\n",
      "        -2.8848e-11,  4.8805e-10, -6.7592e-11, -8.4229e-11,  5.0360e-10,\n",
      "        -7.2740e-11, -6.2178e-10,  3.0347e-10,  2.3561e-11, -2.7924e-10,\n",
      "        -2.1572e-10,  1.4611e-10, -2.1394e-10, -2.3331e-10, -8.3240e-11,\n",
      "        -2.7029e-11,  2.3398e-10, -1.7312e-10, -6.3256e-10, -1.0699e-10,\n",
      "         4.5565e-10, -4.2648e-11, -1.0618e-10,  7.7613e-11,  5.0356e-11,\n",
      "        -7.3506e-12, -8.8266e-10, -3.8513e-10,  3.8892e-11,  1.1031e-10,\n",
      "         5.2816e-11,  1.3301e-11,  9.4646e-11, -3.5677e-10, -4.6892e-11,\n",
      "         7.4191e-11, -1.2072e-10, -2.5799e-03, -5.0796e-04,  2.3019e-03,\n",
      "         2.9436e-03,  5.5800e-05,  2.6819e-03, -3.5211e-03,  2.3646e-03,\n",
      "         2.3177e-03,  9.5374e-04, -1.2515e-03, -1.3047e-03,  2.4952e-03,\n",
      "         5.1915e-04,  4.0277e-04,  4.8201e-04, -1.1015e-03,  8.4466e-04,\n",
      "        -1.3964e-03,  1.8491e-03, -1.3553e-03, -1.5629e-03, -2.1777e-03,\n",
      "         3.5777e-04,  2.2553e-03, -3.2940e-04, -1.4685e-03,  7.0673e-06,\n",
      "         1.2734e-03,  9.6626e-05, -1.6743e-03,  1.1207e-03, -1.6346e-03,\n",
      "        -1.7397e-03, -2.7729e-03,  1.5679e-04, -1.2663e-04,  2.1398e-03,\n",
      "         1.2469e-03, -2.1111e-03, -2.6567e-03,  8.7137e-04,  7.2225e-04,\n",
      "         9.2432e-04,  2.2060e-03,  2.5097e-03, -2.7580e-03,  2.1015e-03,\n",
      "        -2.5856e-03,  1.0572e-03,  2.8650e-03,  1.9281e-03,  4.3995e-03,\n",
      "         1.1863e-04, -6.6805e-04, -7.4839e-05, -1.3365e-05, -2.4149e-03,\n",
      "        -1.1241e-03,  1.4049e-03, -1.5463e-03, -4.0251e-03,  7.5354e-04,\n",
      "         7.2584e-04, -3.7902e-04,  9.9375e-04, -2.1805e-04, -3.3528e-03,\n",
      "        -7.6722e-04, -2.3089e-03,  6.8692e-04,  1.1794e-03, -2.1655e-03,\n",
      "         3.3030e-03,  5.1234e-03,  9.2714e-05, -2.5810e-04, -2.1749e-04,\n",
      "        -1.8987e-03, -2.3247e-03, -3.9332e-04, -9.6408e-05,  2.9710e-03,\n",
      "         3.3251e-03, -1.9956e-03, -5.9735e-04, -2.7283e-03, -3.2925e-03,\n",
      "        -1.6508e-04, -1.5914e-03, -7.1248e-04, -2.6667e-04, -1.0058e-03,\n",
      "        -2.0488e-03, -2.2697e-03, -2.3540e-03, -2.6129e-03, -9.4243e-04,\n",
      "        -4.2305e-03,  5.1674e-04, -6.3591e-04, -5.3550e-04, -1.1024e-03,\n",
      "        -2.8083e-04, -4.4070e-03,  7.9799e-04,  2.4680e-03,  3.0967e-03,\n",
      "        -3.7551e-03,  4.8593e-04,  1.6615e-03, -1.3272e-03,  2.1498e-03,\n",
      "        -8.4927e-04, -9.3507e-04,  4.7690e-03,  4.5183e-03,  8.1498e-04,\n",
      "         5.1184e-03, -4.3400e-03, -1.9360e-03,  2.3038e-03, -3.0137e-03,\n",
      "         5.7813e-04, -1.4665e-03,  7.5794e-04, -1.6012e-03, -8.4900e-04,\n",
      "         1.6951e-03, -2.9676e-03,  2.4114e-03, -4.0213e-03,  5.6940e-04,\n",
      "        -2.2595e-03, -2.7493e-04, -1.1946e-03, -1.4998e-03, -8.1576e-04,\n",
      "        -4.2031e-03, -1.5896e-03, -1.1051e-04, -2.6441e-03,  5.1696e-03,\n",
      "        -2.1520e-04,  3.6092e-03, -9.1174e-04, -2.1823e-04, -3.4126e-03,\n",
      "         5.1169e-03, -1.8106e-04, -1.1234e-03,  1.9724e-03,  1.1590e-03,\n",
      "        -2.2635e-03,  2.8136e-03, -2.4357e-03,  1.6124e-03,  5.7862e-05,\n",
      "        -2.8173e-03,  3.8445e-04, -7.1929e-04, -1.9360e-04,  2.5539e-03,\n",
      "         2.1796e-03, -1.7462e-03,  6.9472e-04,  4.1739e-03, -3.4257e-03,\n",
      "         1.2848e-03, -1.8848e-03,  3.7531e-03,  4.7543e-03, -4.7801e-03,\n",
      "         1.8366e-04,  2.8253e-04, -9.2775e-04,  3.9771e-04,  2.1376e-04,\n",
      "        -5.7586e-04,  1.4271e-03,  3.2730e-03,  1.7432e-03,  7.8389e-05,\n",
      "         1.7613e-03,  4.7304e-03,  5.8620e-04,  1.7153e-03,  2.6945e-03,\n",
      "         1.5203e-03,  1.9945e-03,  1.3878e-05, -5.8770e-03, -6.0820e-04,\n",
      "        -1.5074e-03,  2.2749e-03, -4.6329e-03, -1.3815e-04, -9.8438e-04,\n",
      "         3.0255e-03,  6.0409e-04,  1.9559e-03, -2.6386e-03, -3.4449e-03,\n",
      "        -1.3082e-03,  3.3515e-03, -3.6969e-04,  7.7968e-04,  2.4442e-03,\n",
      "        -4.3858e-03, -1.9614e-03,  9.1372e-04,  1.5664e-03, -2.7980e-03,\n",
      "         7.7813e-04, -7.7186e-04,  4.5863e-03, -2.9637e-04,  8.7760e-04,\n",
      "         2.9126e-04,  3.0633e-03, -6.1330e-04,  1.8054e-03,  3.0934e-04,\n",
      "         1.5993e-03,  1.3893e-03, -9.2852e-05,  2.1060e-04, -7.1138e-03,\n",
      "         1.5437e-03, -1.7102e-03, -4.8023e-03,  7.6822e-04,  1.0627e-03,\n",
      "        -1.0820e-03, -1.5965e-03, -8.2168e-04, -4.6384e-04,  7.4400e-05,\n",
      "        -3.9273e-03, -9.8179e-05,  1.3576e-03,  5.0777e-04, -6.3540e-03,\n",
      "         2.2357e-03, -1.0549e-03,  3.2943e-03,  3.6328e-03,  1.9170e-03,\n",
      "         1.4311e-03,  4.4726e-03,  3.7578e-03, -3.9321e-04,  1.2476e-03,\n",
      "         3.5502e-03, -2.2384e-04,  3.2078e-03])\n",
      "transformer.layers.0.self_attn.out_proj.weight - Gradient: tensor([[ 0.0012,  0.0001,  0.0005,  ...,  0.0043,  0.0013, -0.0016],\n",
      "        [ 0.0063,  0.0040,  0.0175,  ..., -0.0011,  0.0014, -0.0063],\n",
      "        [ 0.0026, -0.0007, -0.0080,  ...,  0.0013, -0.0020, -0.0023],\n",
      "        ...,\n",
      "        [-0.0059, -0.0037, -0.0091,  ...,  0.0038,  0.0032,  0.0079],\n",
      "        [ 0.0024,  0.0019,  0.0078,  ..., -0.0002,  0.0018, -0.0036],\n",
      "        [ 0.0054,  0.0045,  0.0120,  ...,  0.0004, -0.0002, -0.0012]])\n",
      "transformer.layers.0.self_attn.out_proj.bias - Gradient: tensor([-1.4641e-04,  1.2088e-03,  3.9123e-03,  3.1243e-03, -3.5560e-03,\n",
      "        -1.3237e-03,  5.9738e-04,  1.0438e-03,  7.4682e-04,  5.1798e-03,\n",
      "        -1.9358e-03,  1.5944e-03, -2.3297e-03, -3.5853e-03,  4.9816e-03,\n",
      "        -9.4675e-04,  8.3598e-04,  6.2445e-03, -1.3221e-03,  5.8497e-03,\n",
      "         1.4343e-03,  6.6747e-03,  3.9766e-03,  3.1778e-03,  4.2350e-03,\n",
      "         4.5075e-03,  1.8528e-03,  2.7149e-03, -3.3793e-03, -6.8993e-04,\n",
      "        -1.3232e-03,  3.9725e-03,  2.3955e-03, -2.2461e-03,  5.5040e-03,\n",
      "         1.9382e-03,  3.7354e-03,  1.5692e-04, -2.0421e-03,  2.5790e-03,\n",
      "         5.9582e-03, -1.2727e-03,  2.8208e-03, -2.0785e-03,  6.7048e-04,\n",
      "         2.0246e-04,  5.8837e-03, -6.2935e-04, -2.0382e-03,  1.5391e-03,\n",
      "        -5.5547e-04,  3.9863e-04,  5.0283e-03,  4.6756e-03, -4.2658e-03,\n",
      "         3.3298e-03, -1.9391e-03,  4.1683e-03,  5.0397e-04,  2.7289e-03,\n",
      "        -5.0172e-03, -2.5666e-03, -1.8863e-03, -1.4323e-03,  2.8859e-03,\n",
      "         1.3085e-03,  1.7491e-03,  2.8350e-03,  1.8045e-03,  6.6950e-04,\n",
      "         2.0414e-03, -5.4871e-03,  3.8934e-03, -6.5762e-04, -2.6125e-05,\n",
      "         1.5868e-03,  3.7798e-04,  7.6540e-03,  5.7858e-04,  2.4973e-03,\n",
      "        -3.0439e-03, -3.0354e-04,  3.3350e-04, -2.2607e-04,  6.6396e-03,\n",
      "        -1.7930e-03, -4.0120e-03, -6.2385e-04, -3.8340e-03,  6.1685e-04,\n",
      "         1.3944e-03,  1.6193e-04, -2.1133e-03, -1.4111e-03, -5.8324e-03,\n",
      "         8.0741e-03,  4.7824e-03,  2.8806e-03,  1.1174e-03,  6.7981e-03,\n",
      "        -1.0338e-03,  4.2603e-03,  1.8962e-03,  6.2782e-03,  6.0764e-03,\n",
      "        -2.7773e-03, -8.8602e-03, -1.7075e-03, -7.8481e-04, -5.0059e-03,\n",
      "        -1.6693e-03, -7.1045e-04,  3.0550e-04, -1.6224e-03,  1.5470e-03,\n",
      "        -5.2673e-03, -7.2927e-04, -2.4598e-03,  5.9340e-04, -8.6791e-04,\n",
      "        -4.9365e-03, -6.8372e-04,  1.9417e-03, -3.6637e-03, -4.7737e-04,\n",
      "         1.6556e-03, -2.9997e-03,  2.7021e-03, -2.8801e-03, -3.4416e-03,\n",
      "        -2.3338e-03, -1.7738e-03,  1.7880e-03,  6.6080e-03, -2.1767e-03,\n",
      "        -3.7927e-03, -2.6423e-03, -1.6942e-03, -7.1873e-04, -9.6529e-03,\n",
      "        -8.3299e-04, -5.3349e-03,  2.8432e-03, -4.1590e-03,  7.8163e-04,\n",
      "        -2.5535e-03,  2.6250e-03, -1.5994e-03, -7.6835e-04, -6.5593e-03,\n",
      "         3.9025e-03, -2.2711e-03,  1.9515e-03, -1.8535e-03, -1.0299e-03,\n",
      "        -8.0816e-03, -4.1693e-03, -1.3163e-03, -9.9396e-03, -1.4954e-03,\n",
      "         7.3342e-04, -3.9406e-03,  2.4395e-03, -3.7860e-03,  2.1756e-03,\n",
      "         3.0067e-03,  2.2804e-03, -4.8303e-03,  3.3790e-03,  3.5920e-03,\n",
      "         7.1158e-03,  1.0579e-03, -1.5651e-04, -1.0728e-03,  1.6011e-03,\n",
      "        -7.9471e-03,  8.0106e-03, -9.4369e-03,  2.6541e-05, -2.5865e-03,\n",
      "         3.8982e-03, -2.3167e-03,  1.7273e-03, -1.2818e-03, -6.6341e-04,\n",
      "        -4.3204e-03,  4.7921e-03,  4.4923e-03,  7.1368e-04, -1.9828e-03,\n",
      "         2.0803e-03, -9.9052e-04,  3.9100e-03, -5.6677e-03, -1.2236e-03,\n",
      "        -7.8416e-03,  2.6014e-03, -3.0573e-03, -1.2046e-03,  6.6554e-04,\n",
      "         4.3561e-03,  4.1372e-03, -2.8429e-03, -7.3131e-03, -1.6027e-03,\n",
      "        -1.3440e-03,  5.1075e-03, -3.8444e-03,  2.7871e-03, -1.7232e-03,\n",
      "         5.9887e-03,  4.8426e-04,  8.2393e-03, -2.6648e-03,  4.3834e-04,\n",
      "        -6.8620e-04,  8.6680e-04, -1.6170e-03,  3.1857e-03, -2.9618e-03,\n",
      "         6.2423e-04, -3.0221e-03,  5.6517e-03, -3.9865e-03,  2.7229e-03,\n",
      "        -6.5255e-03, -1.6649e-03, -4.2974e-03,  7.3712e-03, -6.5578e-03,\n",
      "        -6.1312e-03,  1.6492e-04, -3.0913e-03, -1.3954e-03, -3.5080e-04,\n",
      "         5.0503e-03,  2.8467e-04,  5.6507e-03,  4.6401e-03, -9.5633e-03,\n",
      "        -5.2297e-03, -3.9840e-03,  3.1584e-03, -2.1377e-03,  2.4303e-03,\n",
      "        -9.1935e-03,  6.7572e-04, -6.4051e-03, -3.0345e-03, -5.0330e-03,\n",
      "         1.0700e-03, -3.1093e-03,  3.4743e-03, -5.5792e-03,  2.3087e-03,\n",
      "         1.6207e-05])\n",
      "transformer.layers.0.linear1.weight - Gradient: tensor([[ 2.0084e-04,  9.1006e-05,  1.9647e-04,  ..., -3.9059e-04,\n",
      "          3.3125e-04, -2.0058e-04],\n",
      "        [ 4.5374e-06,  2.8712e-04,  3.3666e-05,  ..., -2.0149e-05,\n",
      "          5.5719e-04, -9.2891e-05],\n",
      "        [ 1.8197e-04, -8.7166e-05,  2.8835e-03,  ..., -2.0366e-03,\n",
      "          1.1184e-03, -1.9771e-03],\n",
      "        ...,\n",
      "        [-1.3103e-04, -5.6235e-06, -1.6564e-04,  ...,  2.7445e-04,\n",
      "         -1.5306e-04,  2.6152e-04],\n",
      "        [ 1.7024e-04,  4.4377e-04,  9.0977e-05,  ..., -1.2902e-04,\n",
      "          6.1975e-04, -3.0941e-04],\n",
      "        [-5.8383e-05,  3.4299e-04, -6.8991e-04,  ...,  6.7349e-04,\n",
      "         -2.9535e-04,  4.6808e-04]])\n",
      "transformer.layers.0.linear1.bias - Gradient: tensor([-0.0003, -0.0002, -0.0012,  ...,  0.0002, -0.0004,  0.0004])\n",
      "transformer.layers.0.linear2.weight - Gradient: tensor([[-1.0537e-04,  5.0195e-05,  5.4429e-04,  ...,  2.7406e-04,\n",
      "         -6.6655e-05,  8.6808e-04],\n",
      "        [-6.8245e-04, -5.9469e-06, -1.0507e-03,  ...,  5.0918e-04,\n",
      "         -2.8977e-04,  2.0899e-03],\n",
      "        [ 1.4452e-03,  1.1496e-03,  8.7300e-04,  ..., -4.9237e-04,\n",
      "          4.0832e-04,  3.2906e-04],\n",
      "        ...,\n",
      "        [-8.9624e-04, -9.2057e-04,  4.3226e-04,  ..., -1.5151e-06,\n",
      "          9.2854e-06, -1.1849e-03],\n",
      "        [-3.8846e-04, -8.8816e-05,  7.7266e-04,  ...,  1.6940e-04,\n",
      "          4.1913e-05,  1.9151e-03],\n",
      "        [ 7.6940e-04,  3.8652e-04, -1.2810e-03,  ...,  2.2303e-04,\n",
      "         -3.9352e-05,  1.2497e-03]])\n",
      "transformer.layers.0.linear2.bias - Gradient: tensor([ 6.4155e-04, -4.0283e-04,  2.7196e-03, -2.9832e-05, -7.5896e-04,\n",
      "        -1.1672e-03,  1.7038e-03, -2.5783e-04,  4.4558e-04, -1.2419e-04,\n",
      "         1.0428e-04,  1.7203e-03, -1.8386e-04, -2.5129e-03,  3.0304e-03,\n",
      "         3.1426e-04,  1.3982e-03,  3.3729e-03,  1.1204e-03,  9.0090e-04,\n",
      "         4.6963e-04,  2.9696e-03,  1.1406e-03,  1.9702e-03,  4.0414e-03,\n",
      "         1.9773e-03, -5.6997e-04,  7.2060e-04, -9.1731e-04,  3.0257e-04,\n",
      "        -1.2546e-03,  8.3011e-04,  8.2508e-04,  1.6777e-04,  1.7203e-03,\n",
      "         2.1948e-03,  4.2723e-03,  4.2493e-05, -2.0375e-04,  5.6493e-04,\n",
      "         3.9491e-03,  1.9744e-03,  7.3943e-04, -1.1146e-03,  9.7375e-05,\n",
      "         2.4947e-03,  3.6829e-03,  1.7629e-03, -1.4484e-03,  5.0920e-05,\n",
      "        -6.1092e-04, -7.5305e-04,  1.9299e-03,  1.2267e-03, -2.0110e-03,\n",
      "         3.6352e-03, -2.2064e-03,  2.2357e-03, -2.3719e-03,  2.4805e-03,\n",
      "        -1.4360e-03, -1.4250e-03, -1.2098e-03, -7.5006e-04,  6.7715e-04,\n",
      "         4.0621e-04,  1.6245e-03,  1.3697e-03,  3.3211e-05,  1.4309e-03,\n",
      "        -9.2745e-05, -2.5874e-03,  4.3069e-03, -7.3236e-05,  1.8245e-03,\n",
      "         1.5660e-03,  4.1378e-04,  4.1359e-03,  1.4500e-03,  8.0079e-04,\n",
      "        -1.1997e-03,  7.3607e-04, -4.2403e-04,  3.4114e-05,  4.1264e-03,\n",
      "        -2.2788e-03, -1.4610e-03,  5.5808e-04, -9.4471e-04,  1.3915e-03,\n",
      "         9.2087e-05,  2.9929e-04, -1.2622e-03, -5.3311e-04, -3.2509e-03,\n",
      "         3.7629e-03,  4.0415e-03,  4.0144e-03, -2.1984e-03,  3.0824e-03,\n",
      "         1.5944e-03,  4.8926e-04, -1.1992e-03,  4.0494e-03,  1.7024e-03,\n",
      "        -1.0324e-03, -6.4547e-03, -2.1398e-03, -3.1581e-04, -3.1884e-03,\n",
      "        -1.9404e-03, -2.4542e-03, -8.0299e-04, -7.8830e-04,  3.1359e-04,\n",
      "        -1.5427e-03, -4.4874e-04, -1.3109e-03, -8.2961e-04, -2.0093e-03,\n",
      "        -2.8072e-03,  3.0585e-04,  1.7790e-03, -6.4787e-04, -3.2732e-04,\n",
      "         1.8626e-04, -1.8999e-03,  7.6251e-04, -1.1607e-03, -1.5218e-03,\n",
      "        -1.2193e-03,  6.7636e-04,  1.6796e-03,  2.9009e-03, -3.9962e-04,\n",
      "        -4.8649e-04,  6.0742e-04, -2.8323e-03, -3.4717e-03, -5.1028e-03,\n",
      "         4.8653e-04, -2.7423e-03,  6.1341e-04, -3.4290e-03,  3.3303e-04,\n",
      "        -2.2501e-03,  1.6384e-03, -1.9887e-03, -1.2821e-03, -3.1472e-03,\n",
      "         1.3632e-03, -1.5792e-03,  1.4560e-03, -1.9260e-03, -1.0690e-03,\n",
      "        -4.6970e-03,  1.5635e-04,  7.3148e-05, -6.0180e-03, -5.4198e-04,\n",
      "        -3.4945e-04, -1.7861e-03,  2.1104e-03, -1.3492e-03,  3.0770e-04,\n",
      "         3.3572e-04,  1.5786e-03, -4.4045e-03,  2.4949e-03,  2.5055e-03,\n",
      "         4.0561e-03,  2.3305e-03, -9.0193e-04, -1.7646e-03,  4.9875e-04,\n",
      "        -6.1126e-03,  3.1209e-03, -2.8313e-03,  1.1894e-03, -7.0457e-04,\n",
      "         2.1267e-03, -2.6651e-03,  8.2745e-04, -1.0396e-03,  1.0340e-03,\n",
      "        -3.4863e-03,  1.2848e-03,  2.1475e-03,  9.5525e-04, -2.1573e-04,\n",
      "         2.4500e-03, -1.3771e-04,  3.8377e-03, -2.5350e-03, -2.3808e-03,\n",
      "        -3.3309e-03,  2.8412e-03, -3.2378e-03, -1.3648e-04, -5.5964e-04,\n",
      "         2.3964e-03, -3.1710e-04, -1.6496e-03, -2.8536e-03, -4.4356e-04,\n",
      "        -3.0047e-03,  4.3658e-03, -4.5231e-03,  1.3546e-03, -1.1605e-03,\n",
      "         4.6616e-03, -1.2310e-03,  3.2697e-03, -3.2821e-03,  1.6077e-03,\n",
      "        -3.0793e-03,  9.7185e-05, -3.8251e-03,  2.2888e-04, -2.5617e-03,\n",
      "         1.2454e-03, -4.1040e-03,  2.3129e-03, -1.8740e-04,  3.7439e-03,\n",
      "        -4.6677e-03, -2.3459e-04, -2.6559e-03,  5.7167e-03, -1.6367e-03,\n",
      "        -9.6143e-04, -9.5757e-04, -3.4162e-04, -7.1240e-04,  1.1420e-03,\n",
      "         1.5114e-03,  1.5212e-03,  1.9645e-03,  1.4152e-03, -5.6577e-03,\n",
      "        -1.6077e-03, -1.5334e-03,  1.3413e-03, -9.7439e-04,  6.3300e-04,\n",
      "        -5.7555e-03,  1.9924e-03, -3.9675e-03, -9.6469e-04, -3.1629e-03,\n",
      "         2.0652e-03, -9.6500e-04,  1.9195e-03, -2.5880e-03,  1.4753e-03,\n",
      "         1.1338e-04])\n",
      "transformer.layers.0.norm1.weight - Gradient: tensor([-3.9434e-03,  4.8168e-04, -3.2795e-03, -5.6164e-04, -4.2937e-03,\n",
      "        -1.8281e-03, -3.6070e-03,  1.0845e-03, -5.4812e-04, -4.3978e-03,\n",
      "        -1.6698e-03, -2.4199e-03,  2.4963e-03, -3.8980e-03,  6.8806e-03,\n",
      "        -1.1798e-03, -1.8699e-03, -3.6285e-03, -5.2661e-03, -4.1217e-03,\n",
      "        -4.8562e-03, -1.0825e-02, -2.8947e-03, -5.7453e-03, -4.3109e-04,\n",
      "        -5.6881e-03,  4.5524e-03,  4.3625e-03, -5.4563e-03,  1.3165e-02,\n",
      "        -1.3062e-03, -3.5394e-03,  2.9776e-03, -2.5381e-03, -2.4190e-03,\n",
      "        -5.1147e-03, -4.0962e-03, -2.0016e-03, -2.2999e-03,  3.7619e-03,\n",
      "        -3.5829e-03, -4.9316e-03,  2.7141e-04, -6.7361e-03, -2.0855e-03,\n",
      "        -2.3697e-03, -5.2525e-03, -3.5713e-03, -2.1985e-03, -1.3532e-03,\n",
      "         1.1065e-04,  6.4612e-03, -2.9102e-03,  1.5280e-02, -1.5031e-03,\n",
      "        -3.7077e-03,  8.3935e-04, -3.6000e-03,  5.8903e-03, -1.7107e-03,\n",
      "         6.0823e-05, -4.7408e-03,  4.0677e-03, -1.1294e-03, -4.6234e-03,\n",
      "         3.7395e-03, -7.3661e-04, -6.1424e-03, -2.1198e-03, -5.6482e-03,\n",
      "        -2.7505e-03, -4.2470e-03,  4.9198e-03,  5.4207e-03,  3.4964e-03,\n",
      "        -1.4955e-05,  7.3253e-04, -1.2755e-02,  6.3434e-03, -1.2110e-03,\n",
      "         1.9253e-04, -2.4234e-03, -3.4771e-03, -3.8706e-04,  3.4445e-03,\n",
      "         2.5126e-03,  6.7337e-03, -4.1062e-03, -9.8046e-04, -4.1607e-03,\n",
      "        -4.2012e-03, -2.6019e-03, -1.4018e-03,  1.8173e-03, -3.6541e-03,\n",
      "         2.0609e-03,  3.3172e-04,  5.9003e-04,  1.2187e-03, -3.8369e-03,\n",
      "         4.2670e-03,  3.7374e-03,  1.7730e-03, -1.9416e-03,  2.4352e-03,\n",
      "        -3.7562e-03,  2.1383e-03,  7.3441e-03,  4.7156e-03, -3.0885e-03,\n",
      "         2.8041e-04,  1.0734e-03,  8.8150e-04, -3.0879e-03,  5.2095e-03,\n",
      "        -2.1244e-04, -2.1597e-03,  1.7185e-03,  1.7877e-02,  6.7470e-05,\n",
      "         4.1492e-04, -3.5819e-03,  7.3072e-03, -5.2612e-03,  1.8455e-03,\n",
      "        -1.4482e-03,  9.4968e-04,  1.1208e-03, -4.5795e-04, -3.1975e-03,\n",
      "        -4.7695e-03, -9.8756e-04, -2.7377e-03,  1.3257e-02,  3.4267e-03,\n",
      "        -1.6971e-03, -9.7138e-04,  6.9782e-03,  9.4139e-03, -4.4863e-03,\n",
      "        -4.9743e-04, -5.7132e-03,  2.4414e-04, -3.4764e-03, -2.9116e-03,\n",
      "        -1.8733e-03,  1.4529e-03,  1.3407e-02,  3.8038e-03, -3.9949e-03,\n",
      "         2.4706e-04, -7.0118e-04, -2.3505e-03,  9.3543e-04,  2.6291e-03,\n",
      "        -7.5648e-03,  1.7809e-03,  9.0562e-05,  2.9034e-03, -1.6831e-03,\n",
      "         1.2427e-03, -5.5261e-03,  4.1383e-03, -1.5867e-03, -1.4337e-03,\n",
      "         3.5490e-03, -4.1268e-03,  1.2862e-02, -4.1477e-03,  3.6908e-03,\n",
      "        -4.9891e-03,  1.3961e-04, -3.1279e-03, -1.6536e-04, -1.5332e-03,\n",
      "        -1.5269e-03,  3.9446e-04, -1.4838e-03,  4.3263e-04, -6.4068e-03,\n",
      "         1.9341e-03, -1.6242e-03,  6.2166e-03, -1.6046e-03, -1.2599e-03,\n",
      "         7.3716e-03, -3.7982e-03,  2.3590e-03,  2.3337e-04, -3.6191e-03,\n",
      "        -6.0958e-04, -2.9381e-03, -4.6476e-03, -1.5491e-03,  8.1954e-04,\n",
      "        -3.3826e-03, -4.5649e-04, -5.7747e-04,  1.5494e-02, -3.9171e-04,\n",
      "        -6.5322e-06,  3.8898e-03,  1.3911e-05, -7.4452e-03, -9.4447e-04,\n",
      "         2.5518e-03, -4.3785e-03, -3.8207e-03,  1.0334e-03,  2.3626e-03,\n",
      "         1.2249e-03,  5.7660e-03, -5.2038e-03,  1.2036e-02,  3.1597e-03,\n",
      "        -4.6622e-04,  8.4082e-03,  2.5024e-03,  6.0046e-03,  1.4186e-02,\n",
      "        -1.9795e-03, -5.1611e-03, -5.5547e-03,  1.2238e-03,  3.6911e-03,\n",
      "        -2.7505e-03,  1.1838e-03, -2.8074e-03, -3.7907e-03,  5.5851e-03,\n",
      "         9.7483e-03,  1.0379e-02, -6.9685e-04, -7.5664e-04, -1.0991e-05,\n",
      "         3.5745e-03, -4.0830e-03,  1.5722e-02,  3.2061e-03, -2.5577e-03,\n",
      "         9.8549e-03,  4.4946e-03, -1.6398e-03, -3.4546e-03,  2.0435e-04,\n",
      "        -5.6348e-04, -2.5242e-03,  3.4220e-03, -2.8304e-04,  4.2429e-03,\n",
      "        -2.2817e-03, -2.1288e-03, -1.5085e-03, -4.9181e-03, -2.9660e-03,\n",
      "        -1.7428e-03])\n",
      "transformer.layers.0.norm1.bias - Gradient: tensor([ 3.3241e-04,  7.3426e-04,  2.9866e-03,  1.5202e-03,  9.0692e-04,\n",
      "         8.2553e-05,  3.5275e-04,  3.3568e-04,  4.5923e-04,  3.5406e-03,\n",
      "        -2.0411e-03,  7.4428e-04, -2.1929e-03, -1.8666e-03,  2.5195e-03,\n",
      "         1.1159e-03,  4.8460e-04,  4.4985e-03,  4.0748e-04,  2.6814e-03,\n",
      "         7.4406e-04,  4.7813e-03,  2.6235e-03,  1.0170e-03,  3.2774e-03,\n",
      "         2.5593e-03,  9.1147e-04,  1.7947e-03, -2.6445e-03,  1.6629e-03,\n",
      "        -3.2161e-04,  1.5048e-03,  1.9250e-05, -1.8208e-03,  2.8068e-03,\n",
      "         1.5965e-03,  2.7554e-03, -3.2102e-04, -3.6525e-04,  7.6907e-06,\n",
      "         5.0246e-03,  2.1139e-04,  1.5934e-03, -6.7596e-04,  5.8785e-04,\n",
      "         5.9285e-04,  2.0375e-03,  3.5808e-04, -1.9350e-03,  1.5482e-03,\n",
      "        -1.6398e-03,  4.1633e-04,  2.7558e-03,  2.6746e-03, -1.8552e-03,\n",
      "         2.1136e-03, -1.0293e-03,  3.3753e-03, -1.3800e-03,  2.8502e-03,\n",
      "        -2.2747e-03, -1.0901e-03, -8.7514e-04,  2.0170e-04,  3.6593e-04,\n",
      "        -2.1043e-04,  2.1375e-03,  2.1578e-03,  5.8979e-04,  1.3093e-03,\n",
      "        -4.2775e-04, -2.4523e-03,  4.5223e-03, -2.2860e-04, -1.5277e-04,\n",
      "         1.4164e-03, -4.7917e-04,  5.6308e-03,  6.8274e-04,  1.3602e-03,\n",
      "        -1.4516e-03, -2.6657e-04,  9.2429e-05,  2.3341e-04,  2.1370e-03,\n",
      "         1.0806e-04, -1.3186e-03,  3.9583e-04, -2.3614e-03,  1.2606e-03,\n",
      "         1.9060e-05,  8.9154e-04, -9.3261e-04, -1.1030e-03, -3.3708e-03,\n",
      "         5.0979e-03,  2.8623e-03,  3.4947e-03, -9.0577e-05,  3.1175e-03,\n",
      "        -4.9069e-04,  1.6615e-03,  1.3788e-03,  3.8566e-03,  2.1520e-03,\n",
      "        -1.5219e-03, -5.7004e-03, -2.1048e-03,  1.0436e-03, -3.0101e-03,\n",
      "        -1.3774e-03, -5.5017e-04,  2.3948e-04, -1.3978e-03,  4.8740e-04,\n",
      "        -3.0499e-03, -8.7679e-04, -7.8659e-04, -1.0827e-03, -7.4433e-04,\n",
      "        -3.1093e-03, -9.6454e-04,  8.3409e-04, -1.9336e-03,  5.6302e-04,\n",
      "        -4.9953e-05, -2.5278e-03,  1.1930e-03, -1.8259e-03, -2.0656e-03,\n",
      "        -1.7743e-03, -3.1571e-05,  1.7800e-03,  3.3610e-03, -1.3521e-03,\n",
      "        -2.0503e-03, -1.9557e-03, -2.6095e-03, -1.8601e-03, -6.1831e-03,\n",
      "        -1.2380e-04, -3.3809e-03,  1.2352e-03, -2.3518e-03,  1.0003e-04,\n",
      "        -2.8102e-03,  1.7102e-03, -3.4521e-04, -2.0524e-04, -4.1652e-03,\n",
      "         1.1994e-03, -3.5390e-04,  7.4373e-04, -2.0477e-03, -1.0786e-03,\n",
      "        -5.3273e-03, -2.4685e-03, -5.5000e-04, -7.2972e-03, -5.7997e-04,\n",
      "        -3.9526e-04, -2.9353e-03,  1.8798e-03, -2.5233e-03,  1.1362e-03,\n",
      "         1.6195e-03,  1.3834e-03, -3.7871e-03,  2.1096e-03,  2.4564e-03,\n",
      "         5.0830e-03,  2.3488e-03, -4.5491e-04, -7.1886e-04,  5.4953e-04,\n",
      "        -6.6153e-03,  3.9789e-03, -4.9866e-03, -2.5966e-04, -3.0597e-03,\n",
      "         2.3129e-03, -1.7948e-03,  7.5469e-04,  1.4214e-04, -3.5595e-04,\n",
      "        -3.0765e-03,  1.8678e-03,  2.0490e-03,  8.3023e-04, -1.1654e-03,\n",
      "         1.2745e-03, -1.1256e-03,  3.4856e-03, -3.0037e-03, -8.7084e-04,\n",
      "        -5.4518e-03,  1.4218e-03, -2.7893e-03, -2.0136e-04, -7.1697e-04,\n",
      "         3.0667e-03,  2.0087e-03, -1.6105e-03, -3.4225e-03, -1.1612e-03,\n",
      "        -1.9287e-03,  3.2558e-03, -3.8008e-03,  1.7661e-03, -1.1663e-03,\n",
      "         3.4262e-03,  1.1436e-03,  4.1579e-03, -2.7024e-03,  1.7182e-03,\n",
      "        -1.0428e-03, -9.1101e-04, -3.3008e-03,  7.4619e-04, -1.6795e-03,\n",
      "         1.4865e-03, -1.3211e-03,  2.1404e-03, -1.3025e-03,  2.0118e-03,\n",
      "        -4.1721e-03,  5.7439e-04, -3.4442e-03,  5.2118e-03, -3.3653e-03,\n",
      "        -2.2246e-03,  7.8841e-04,  9.1749e-05, -8.5568e-04,  4.9973e-04,\n",
      "         1.9368e-03,  8.3292e-04,  1.5785e-03,  2.1681e-03, -5.6013e-03,\n",
      "        -1.1712e-03, -3.0790e-03,  1.6411e-03, -1.8073e-03,  5.1001e-04,\n",
      "        -4.7445e-03,  5.7275e-04, -4.7839e-03, -1.1059e-03, -2.9361e-03,\n",
      "         1.5070e-03, -2.4417e-03,  2.0652e-03, -4.3198e-03,  5.7219e-04,\n",
      "         6.3716e-05])\n",
      "transformer.layers.0.norm2.weight - Gradient: tensor([-9.8114e-04,  3.2815e-03,  6.6632e-04,  3.4557e-03, -1.1530e-03,\n",
      "         2.1144e-03,  1.0908e-03,  1.6605e-03,  1.2582e-03, -4.8337e-04,\n",
      "         5.8405e-05, -3.7161e-04,  6.8274e-03, -1.7505e-03,  1.2517e-02,\n",
      "        -6.5404e-05, -7.0749e-04,  1.5138e-03, -1.6787e-03, -1.1189e-03,\n",
      "        -7.2894e-04, -3.3649e-03,  1.7208e-03, -5.0347e-03,  3.3212e-03,\n",
      "        -1.7314e-03,  5.7275e-03,  8.5213e-03, -1.0662e-03,  1.4628e-02,\n",
      "         2.0607e-03, -2.0912e-05,  4.1784e-03, -7.2869e-04,  1.4930e-03,\n",
      "        -2.5911e-03,  7.9566e-04,  1.0332e-03,  1.9178e-04,  6.9272e-03,\n",
      "         1.4885e-03, -1.6632e-03,  2.5765e-03, -3.8037e-03, -4.0750e-04,\n",
      "        -8.8097e-04, -1.4705e-03, -5.5106e-05, -3.9585e-04,  2.3437e-03,\n",
      "         1.7887e-03,  1.0894e-02,  1.9795e-04,  2.0269e-02,  1.4794e-03,\n",
      "        -3.5394e-04,  2.6180e-03, -1.2361e-03,  8.9190e-03,  9.1465e-04,\n",
      "         2.4186e-03, -7.1729e-04,  6.9004e-03,  1.7401e-03, -1.3392e-03,\n",
      "         6.5364e-03,  1.8254e-03, -3.6861e-03,  1.6382e-03,  7.3162e-04,\n",
      "        -4.4619e-04,  4.4073e-04,  6.4363e-03,  9.8508e-03,  3.8523e-03,\n",
      "         2.1618e-03,  1.8303e-03, -5.1106e-03,  9.9706e-03,  2.3100e-03,\n",
      "         2.1167e-03, -2.7412e-04,  1.7774e-04,  2.6836e-03,  8.1238e-03,\n",
      "         4.6331e-03,  6.6168e-03, -1.4396e-03, -5.2374e-05, -2.0373e-03,\n",
      "        -3.4141e-03,  3.5553e-04,  4.4669e-04,  4.4123e-03, -1.7911e-03,\n",
      "         7.8171e-03,  5.4195e-04,  3.9372e-03,  1.8354e-03, -1.2423e-03,\n",
      "         8.1604e-03,  6.9634e-03,  2.5272e-03, -8.8752e-04,  3.7042e-03,\n",
      "         6.6376e-04,  2.2164e-03,  8.3252e-03,  4.7555e-03, -3.3622e-04,\n",
      "         7.7345e-04,  1.9678e-03,  1.1324e-03,  9.4806e-04,  4.2239e-03,\n",
      "         3.0128e-03, -7.4493e-04,  1.8895e-03,  2.0347e-02, -9.7147e-04,\n",
      "         3.4140e-04, -1.6527e-03,  7.6261e-03, -1.9717e-03,  1.5512e-03,\n",
      "        -1.1292e-03,  1.5775e-03,  1.4569e-03,  1.3340e-04, -2.7993e-03,\n",
      "        -3.8070e-03,  1.5688e-03, -3.4566e-03,  1.1799e-02,  6.4669e-03,\n",
      "         2.9079e-03, -8.8679e-04,  1.2098e-02,  9.2371e-03, -2.6420e-03,\n",
      "         5.8269e-04, -2.0730e-03,  2.2848e-04, -2.2363e-03, -2.1743e-03,\n",
      "         7.0499e-04,  5.8257e-03,  1.5574e-02,  7.4765e-03,  1.0265e-03,\n",
      "         1.4931e-03,  2.7221e-04, -1.2197e-03,  3.5554e-03,  6.7042e-03,\n",
      "        -2.4014e-03,  3.0658e-03,  3.4093e-03,  2.7336e-03,  3.2616e-03,\n",
      "         7.8502e-04, -1.2697e-03,  6.2460e-03,  1.1231e-03,  1.9288e-03,\n",
      "         2.8717e-03, -2.0733e-03,  1.2339e-02, -4.1621e-03,  3.1311e-03,\n",
      "        -1.5401e-03,  8.6759e-04, -2.0937e-03, -6.2296e-04,  3.8421e-04,\n",
      "         2.6551e-04,  4.2119e-03,  2.4972e-03,  2.8671e-04,  1.0380e-03,\n",
      "         1.4537e-03, -1.2475e-04,  6.5036e-03,  2.3076e-04, -6.8115e-04,\n",
      "         7.3912e-03, -2.0690e-03,  1.2030e-03,  1.5561e-03, -1.6102e-03,\n",
      "        -5.8856e-04, -3.7911e-03, -4.4720e-03,  4.9758e-03,  3.1404e-03,\n",
      "         2.1960e-03, -2.8337e-04,  1.2331e-03,  1.5155e-02,  1.2198e-03,\n",
      "        -4.1290e-04,  4.1514e-03, -1.0310e-04, -1.4111e-03, -2.2823e-03,\n",
      "         1.5459e-03, -2.5467e-03,  1.2334e-03,  1.1094e-03,  3.9011e-03,\n",
      "         1.7286e-03,  6.9710e-03, -1.6789e-03,  1.3822e-02,  4.5746e-03,\n",
      "        -2.5831e-04,  6.4070e-03,  4.0996e-03,  5.8388e-03,  1.5247e-02,\n",
      "         7.2926e-04,  4.1164e-03,  4.6979e-05,  3.9674e-03,  2.6289e-03,\n",
      "        -4.5661e-04,  2.4369e-03, -2.0241e-03, -1.1660e-03,  5.0227e-03,\n",
      "         1.1087e-02,  1.3499e-02,  6.0432e-04, -4.0719e-04, -7.0410e-04,\n",
      "         2.0757e-03, -3.3028e-03,  1.7590e-02,  3.8042e-03,  2.6756e-03,\n",
      "         1.1857e-02,  1.1247e-02, -9.7206e-04, -1.0733e-03,  1.0898e-03,\n",
      "         6.4960e-04, -2.5573e-03,  6.6583e-03,  2.6147e-04,  8.3169e-03,\n",
      "        -8.4331e-04, -2.9938e-04, -1.1639e-03, -2.5856e-03, -2.2936e-03,\n",
      "        -1.1305e-03])\n",
      "transformer.layers.0.norm2.bias - Gradient: tensor([-4.8971e-04,  1.5135e-03,  1.1781e-03, -2.1654e-04, -6.8985e-05,\n",
      "        -1.0647e-03,  2.4703e-04, -6.0819e-04, -6.1496e-04,  1.8505e-03,\n",
      "        -1.1481e-03,  6.4148e-04, -2.3768e-03, -2.7398e-03, -2.3809e-04,\n",
      "         2.7983e-05,  1.7244e-04,  2.0224e-03,  2.3615e-04, -3.1995e-05,\n",
      "        -5.6558e-04,  1.3222e-03,  3.3541e-04,  2.5395e-03,  1.5712e-03,\n",
      "         8.7237e-04,  1.1961e-03,  1.4547e-04, -2.0213e-03,  1.6014e-03,\n",
      "        -6.9665e-04,  4.9354e-04,  7.0560e-05, -2.7974e-04,  5.5469e-04,\n",
      "         8.1800e-04,  1.1723e-03, -4.4840e-05, -6.8431e-04, -6.0725e-04,\n",
      "         2.7796e-03, -1.5346e-03,  8.8754e-04, -8.0698e-04,  2.3389e-04,\n",
      "         1.1442e-04,  7.1617e-04,  1.4350e-03, -2.6141e-03, -5.2985e-04,\n",
      "        -1.8002e-03, -1.1335e-03,  1.1733e-03,  5.2789e-04, -3.1242e-03,\n",
      "         2.6424e-04, -1.9717e-03,  1.5142e-03, -2.3966e-03,  2.3578e-03,\n",
      "        -2.6350e-04, -1.3876e-03, -9.7439e-04, -5.8756e-04, -1.7843e-03,\n",
      "        -1.2011e-03,  1.3651e-03,  8.7045e-04, -5.6304e-04, -1.7991e-03,\n",
      "        -8.4403e-04, -2.4992e-03,  3.2476e-03, -1.9887e-03,  1.1687e-03,\n",
      "         4.6744e-04, -2.5345e-04,  2.6497e-03, -6.7722e-04,  1.0336e-03,\n",
      "        -3.2151e-03, -5.0452e-04, -4.6610e-04, -1.0454e-03, -1.1552e-04,\n",
      "        -1.4304e-03, -1.4738e-03,  4.8563e-05, -1.1062e-03,  1.4167e-03,\n",
      "         4.7240e-04, -2.6983e-04,  3.0929e-04, -2.6596e-03, -3.7852e-04,\n",
      "         3.7717e-03,  4.0878e-03,  1.4638e-03,  1.3848e-04,  2.5636e-03,\n",
      "         1.5031e-03,  3.7714e-04,  1.3194e-03,  2.4802e-03,  2.4568e-03,\n",
      "         7.5139e-04, -4.3312e-03, -3.3162e-03,  1.0517e-03, -1.8437e-03,\n",
      "        -9.4926e-04, -1.7764e-04,  2.8654e-04,  1.5415e-03, -5.6702e-04,\n",
      "        -9.1751e-04,  6.2705e-04, -6.6731e-04,  1.7242e-03, -7.5723e-04,\n",
      "        -2.1288e-03, -1.1264e-03,  7.8529e-04,  8.1534e-04,  4.3318e-04,\n",
      "         6.0350e-04, -3.0218e-03,  1.4615e-03, -7.1448e-05, -1.3958e-03,\n",
      "        -3.9852e-04,  1.8584e-03,  7.4081e-04,  3.0558e-03, -2.6820e-03,\n",
      "        -1.9295e-04, -1.5238e-03,  9.2364e-04, -2.0414e-03, -3.1494e-03,\n",
      "         9.7688e-04, -1.4791e-04,  6.4406e-04, -5.0419e-04,  7.2864e-05,\n",
      "         5.9269e-04,  6.5731e-04,  1.6024e-03,  1.3255e-03, -6.6858e-04,\n",
      "        -7.3994e-04, -4.4272e-04, -4.5143e-04, -9.7522e-05, -3.7317e-03,\n",
      "        -1.4508e-03, -8.4548e-05,  2.8251e-03, -6.4135e-03,  2.1245e-03,\n",
      "        -1.2713e-03,  6.3737e-04,  1.9855e-03,  7.2266e-04, -1.5775e-03,\n",
      "         1.9352e-03,  1.5754e-03, -2.1324e-03,  7.8367e-04,  3.5321e-03,\n",
      "         2.7067e-03,  3.1299e-03, -2.0003e-03, -8.4154e-04, -1.6876e-03,\n",
      "        -4.3360e-03,  1.8233e-03, -1.3693e-03,  2.0699e-04,  1.2861e-03,\n",
      "         4.3221e-04,  3.2535e-05,  2.8575e-04,  1.4758e-03, -9.0354e-04,\n",
      "        -1.0058e-03, -1.2298e-03,  2.2535e-03,  1.6189e-04,  1.1444e-03,\n",
      "         1.9434e-03, -1.0782e-03,  1.1947e-03,  1.0701e-03, -3.5360e-03,\n",
      "        -1.1018e-03,  4.5528e-04, -6.6661e-04, -8.6391e-04,  1.2360e-03,\n",
      "         3.1938e-03,  1.8588e-03, -8.2722e-04, -4.7308e-04, -6.1662e-04,\n",
      "        -2.4629e-03,  9.5091e-04, -1.7444e-03,  7.5236e-04,  9.9021e-04,\n",
      "         1.2490e-03,  2.8325e-03,  1.5287e-03, -1.1334e-03, -3.9986e-04,\n",
      "        -1.5860e-03, -5.3805e-04, -1.4424e-04,  1.0455e-03, -4.4287e-04,\n",
      "        -2.5021e-04,  1.9675e-03, -1.2480e-03,  1.6525e-03,  2.0426e-03,\n",
      "        -1.9359e-03, -3.0131e-04, -1.7165e-03,  3.9633e-03, -1.5851e-03,\n",
      "        -1.1733e-03,  2.7169e-03, -6.6944e-04,  7.4404e-05, -1.2286e-04,\n",
      "         1.5492e-03,  1.3473e-04,  2.8192e-03,  6.0451e-04, -2.0448e-03,\n",
      "        -2.1421e-03,  5.7038e-04,  7.2396e-04,  8.7898e-05, -5.1067e-04,\n",
      "        -2.9529e-03,  6.3250e-04, -1.3692e-03, -1.0816e-04, -3.1739e-03,\n",
      "         1.9325e-05,  3.4819e-04,  2.0593e-03, -1.5958e-03,  4.3575e-04,\n",
      "         1.1675e-03])\n",
      "output_proj.weight - Gradient: tensor([[ 3.9920e-04, -1.0963e-04,  6.6825e-05,  ...,  4.7422e-04,\n",
      "         -4.3712e-04, -8.1225e-04],\n",
      "        [-5.4701e-04,  6.0870e-04, -7.1188e-04,  ...,  1.9280e-04,\n",
      "          1.2899e-03,  3.6249e-05],\n",
      "        [-3.8117e-05,  5.1130e-04, -1.0552e-03,  ...,  1.0915e-04,\n",
      "          1.1192e-04,  3.3100e-04],\n",
      "        ...,\n",
      "        [ 5.5487e-04,  1.2011e-03, -1.8672e-03,  ...,  1.6896e-03,\n",
      "         -2.6272e-03,  2.0634e-03],\n",
      "        [ 3.5591e-04,  1.1517e-03, -1.8883e-03,  ...,  1.5860e-04,\n",
      "         -1.9983e-03,  2.7874e-03],\n",
      "        [-4.3827e-04, -1.1361e-03, -2.2225e-04,  ..., -1.1835e-03,\n",
      "         -4.9815e-04,  2.1606e-03]])\n",
      "output_proj.bias - Gradient: tensor([-5.4287e-06, -7.0890e-05, -2.2661e-05,  5.9503e-04, -1.6354e-03,\n",
      "         6.3535e-04,  2.1928e-05,  4.1182e-06, -1.0879e-03,  1.4896e-04,\n",
      "        -1.3656e-04,  3.6485e-03, -2.6774e-03, -2.9605e-05, -4.5515e-04,\n",
      "        -1.3996e-04,  2.8781e-05, -1.9231e-04, -4.9470e-05,  5.0373e-04,\n",
      "         2.1687e-04,  2.9056e-04, -1.9160e-03, -2.8348e-04,  5.0869e-05,\n",
      "         7.0204e-03,  1.5635e-03, -4.3419e-04, -1.9348e-04,  3.8880e-03,\n",
      "         6.2292e-04, -3.7338e-04, -4.0728e-04,  3.5431e-05, -7.8654e-04,\n",
      "         8.7598e-03, -4.1421e-03,  2.4702e-03, -1.7826e-04,  1.9528e-03,\n",
      "         2.0625e-03, -3.1154e-04, -1.6723e-03, -5.7655e-05, -7.4372e-05,\n",
      "        -6.6882e-05,  6.6655e-05,  1.5143e-05,  4.4002e-03,  5.8114e-04,\n",
      "         3.4048e-05, -1.5392e-03,  7.4892e-05, -2.2593e-04,  1.2257e-04,\n",
      "        -2.9751e-04,  1.9243e-03, -1.2117e-04, -3.8310e-03, -4.1180e-03,\n",
      "        -3.1499e-04, -2.5955e-03,  1.8377e-03,  1.3653e-04, -1.4869e-05,\n",
      "        -9.1357e-04, -2.9389e-04,  1.6188e-04, -3.0613e-03, -3.9298e-04,\n",
      "        -1.4918e-03,  1.4286e-03, -9.6160e-05, -1.6768e-04,  3.8939e-04,\n",
      "        -1.9439e-03, -4.1233e-04, -3.2801e-03, -2.3886e-04, -1.0171e-03,\n",
      "        -5.2955e-03, -4.6021e-04, -6.6348e-04, -2.6269e-04,  2.3822e-03,\n",
      "         5.7440e-05, -5.2328e-04, -1.4184e-04,  4.7139e-04, -4.8519e-04,\n",
      "         1.8792e-04, -7.1580e-06,  1.8055e-06,  8.8814e-06,  7.6258e-04,\n",
      "        -3.9290e-04,  3.8430e-03, -1.5070e-05, -2.0487e-03,  3.5112e-04,\n",
      "        -1.7585e-05, -1.2810e-04, -1.4583e-03,  3.2962e-04,  3.8469e-03,\n",
      "        -2.8826e-04, -6.0919e-05, -1.4523e-02, -9.8382e-04, -1.9875e-03,\n",
      "        -8.3300e-05, -3.0233e-04,  1.5587e-03, -5.9023e-03,  3.8869e-04,\n",
      "         6.8432e-04, -8.3261e-04,  9.5695e-05, -2.2819e-04, -8.0650e-05,\n",
      "        -2.2466e-03, -1.1164e-04,  1.0968e-02, -2.1887e-04, -1.0431e-02,\n",
      "        -6.9578e-04, -6.9144e-04,  2.7942e-03,  3.9413e-03,  1.6617e-04,\n",
      "        -1.3359e-03, -1.7833e-04, -1.1354e-03, -3.1615e-04, -2.4353e-03,\n",
      "         7.6107e-04, -9.1025e-04, -3.5156e-04,  1.6540e-04, -2.8454e-03,\n",
      "        -8.4255e-04,  1.1364e-03, -2.8563e-04,  5.2375e-04,  5.5782e-04,\n",
      "        -6.0155e-03, -3.0712e-03,  2.7405e-03, -2.5750e-03, -4.7274e-04,\n",
      "        -7.3995e-04,  5.6192e-04,  1.0974e-03,  3.3174e-03,  3.3103e-04,\n",
      "        -1.8475e-04,  1.8362e-03, -1.6655e-05, -2.5067e-04, -3.9791e-03,\n",
      "        -1.9000e-03,  4.8283e-05,  3.0882e-05, -1.1143e-05, -2.0940e-03,\n",
      "         2.6029e-03,  2.1094e-06,  2.7063e-04, -1.3598e-05,  2.6338e-04,\n",
      "         6.2981e-05,  2.9998e-03, -3.9860e-04,  8.2798e-04, -2.5184e-03,\n",
      "        -3.7647e-04,  1.8582e-03,  4.4282e-05,  8.2820e-04, -3.1255e-04,\n",
      "         1.1953e-04,  2.5815e-03,  9.6444e-04, -1.0369e-03,  2.8569e-03,\n",
      "         8.5820e-04,  2.6991e-03, -6.6266e-05, -1.3669e-05, -3.6158e-04,\n",
      "         3.4381e-03,  2.0105e-05,  3.6306e-04,  8.9648e-05, -9.1249e-05,\n",
      "         2.9802e-04, -5.5394e-05,  1.0198e-03, -4.0856e-03, -2.3264e-04,\n",
      "         3.3395e-05,  1.4943e-05, -3.2245e-06, -1.9059e-03,  1.0039e-05,\n",
      "         1.6847e-03,  6.1652e-05,  1.4521e-04, -6.6757e-05,  2.2803e-03,\n",
      "         1.0169e-06, -2.2287e-03, -2.0139e-05, -2.6446e-02,  8.2423e-04,\n",
      "        -4.6784e-04, -8.6723e-05, -2.7285e-03,  5.8765e-03, -2.3939e-03,\n",
      "         1.1339e-05,  4.9762e-07, -8.9716e-03,  4.0070e-04,  4.2771e-04,\n",
      "         6.3858e-05, -5.3543e-04,  4.5377e-06, -4.1487e-04, -4.6939e-03,\n",
      "         1.3709e-04, -2.3033e-04, -2.4049e-04, -8.7180e-07,  7.0410e-04,\n",
      "         5.9648e-05,  9.1001e-04, -3.2145e-03, -9.2042e-04, -9.2883e-05,\n",
      "         3.2609e-04, -2.0475e-04,  3.9226e-04, -2.0507e-04,  8.6681e-05,\n",
      "         2.4283e-03, -9.7790e-06, -1.5368e-04,  2.0765e-04,  5.2537e-04,\n",
      "         6.4552e-04, -2.3039e-03, -3.0090e-04,  8.3850e-04,  8.5279e-04,\n",
      "        -9.0268e-05])\n"
     ]
    }
   ],
   "source": [
    "\n",
    "for name, param in audio_model.named_parameters():\n",
    "    if param.grad is not None:\n",
    "        print(f\"{name} - Gradient: {param.grad}\")\n",
    "    else:\n",
    "        print(f\"{name} - No Gradient\")\n"
   ]
  },
  {
   "cell_type": "code",
   "execution_count": null,
   "metadata": {
    "executionInfo": {
     "elapsed": 2,
     "status": "ok",
     "timestamp": 1741822765220,
     "user": {
      "displayName": "Scott Merrill",
      "userId": "10959173247837144378"
     },
     "user_tz": 240
    },
    "id": "WODYGSWttHuT"
   },
   "outputs": [],
   "source": []
  },
  {
   "cell_type": "code",
   "execution_count": null,
   "metadata": {
    "executionInfo": {
     "elapsed": 2,
     "status": "ok",
     "timestamp": 1741822765220,
     "user": {
      "displayName": "Scott Merrill",
      "userId": "10959173247837144378"
     },
     "user_tz": 240
    },
    "id": "WODYGSWttHuT"
   },
   "outputs": [],
   "source": []
  },
  {
   "cell_type": "code",
   "execution_count": null,
   "metadata": {
    "executionInfo": {
     "elapsed": 2,
     "status": "ok",
     "timestamp": 1741822765220,
     "user": {
      "displayName": "Scott Merrill",
      "userId": "10959173247837144378"
     },
     "user_tz": 240
    },
    "id": "WODYGSWttHuT"
   },
   "outputs": [],
   "source": []
  },
  {
   "cell_type": "code",
   "execution_count": null,
   "metadata": {},
   "outputs": [],
   "source": []
  }
 ],
 "metadata": {
  "accelerator": "GPU",
  "colab": {
   "authorship_tag": "ABX9TyNcQ9cC2XSToD+RIRsdkv3U",
   "gpuType": "T4",
   "provenance": [
    {
     "file_id": "1QMSNpOqQ5R7PzpuZkEQAT5A-Puk5eRyo",
     "timestamp": 1741820252215
    }
   ]
  },
  "kernelspec": {
   "display_name": "Python 3 (ipykernel)",
   "language": "python",
   "name": "python3"
  },
  "language_info": {
   "codemirror_mode": {
    "name": "ipython",
    "version": 3
   },
   "file_extension": ".py",
   "mimetype": "text/x-python",
   "name": "python",
   "nbconvert_exporter": "python",
   "pygments_lexer": "ipython3",
   "version": "3.11.5"
  }
 },
 "nbformat": 4,
 "nbformat_minor": 1
}
